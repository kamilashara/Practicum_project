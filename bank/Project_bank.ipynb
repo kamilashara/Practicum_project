{
 "cells": [
  {
   "cell_type": "markdown",
   "metadata": {},
   "source": [
    "# Сегментация клиентов банка "
   ]
  },
  {
   "cell_type": "markdown",
   "metadata": {},
   "source": [
    "## Презентация результатов\n",
    "[Презентация](https://drive.google.com/file/d/16X6fav6qLsKjYWLIv_5bW3YnKfwDAz7V/view?usp=drive_link)"
   ]
  },
  {
   "cell_type": "markdown",
   "metadata": {},
   "source": [
    "***Описание и цели проекта***\n",
    "\n",
    "Для целей формирования маркетинговых предложений, направленных на предотвращение оттока и удержание действующих клиентов банка, требуется выделить сегменты клиентов, склонных к уходу из банка и дать рекомендации по их удержанию с учетом специфики сегмента на основании следующих имеющиеся в распоряжении данных о клиентах региональных офисов:\n",
    "\n",
    "- идентификатор пользователя\n",
    "- баллы кредитного скоринга\n",
    "- город\n",
    "- пол\n",
    "- возраст\n",
    "- количество баллов собственности\n",
    "- баланс на счёте\n",
    "- количество продуктов, которыми пользуется клиент\n",
    "- есть ли кредитная карта\n",
    "- активный клиент\n",
    "- оценочный доход клиента\n",
    "- признак оттока\n",
    "\n",
    "На основаниии указанных данных:\n",
    "- Выполним предобработку данных для анализа: выявим и при необходимости обработаем пропуски, дубликаты и аномалии\n",
    "- Проведем исследовательский анализ данных: \n",
    "    - изучим портрет среднего клиента с признаками оттока и без\n",
    "    - рассмотрим корреляцию признаков клиентов, имеющихся в распоряжении\n",
    "    - изучим характер использования продуктов клиентами\n",
    "- Сформулируем и проверим статистические гипотезы по отдельным признакам\n",
    "- Выделим сегменты клиентов, склонных к оттоку и оченим их качество: охват общего числа клиентов, склонных к оттоку и сравним долю оттока с общей долей по банку\n",
    "- Сформулируем общие выводы и рекомендации для каждого сегмента с учетом его специфики"
   ]
  },
  {
   "cell_type": "markdown",
   "metadata": {},
   "source": [
    "## Предобработка данных"
   ]
  },
  {
   "cell_type": "code",
   "execution_count": 1,
   "metadata": {},
   "outputs": [
    {
     "name": "stdout",
     "output_type": "stream",
     "text": [
      "Collecting phik\n",
      "  Downloading phik-0.12.4-cp39-cp39-win_amd64.whl.metadata (5.6 kB)\n",
      "Requirement already satisfied: numpy>=1.18.0 in c:\\users\\kamila\\anaconda3\\envs\\practicum\\lib\\site-packages (from phik) (1.20.1)\n",
      "Requirement already satisfied: scipy>=1.5.2 in c:\\users\\kamila\\anaconda3\\envs\\practicum\\lib\\site-packages (from phik) (1.8.0)\n",
      "Requirement already satisfied: pandas>=0.25.1 in c:\\users\\kamila\\anaconda3\\envs\\practicum\\lib\\site-packages (from phik) (1.2.4)\n",
      "Requirement already satisfied: matplotlib>=2.2.3 in c:\\users\\kamila\\anaconda3\\envs\\practicum\\lib\\site-packages (from phik) (3.3.4)\n",
      "Requirement already satisfied: joblib>=0.14.1 in c:\\users\\kamila\\anaconda3\\envs\\practicum\\lib\\site-packages (from phik) (1.3.2)\n",
      "Requirement already satisfied: cycler>=0.10 in c:\\users\\kamila\\anaconda3\\envs\\practicum\\lib\\site-packages (from matplotlib>=2.2.3->phik) (0.12.1)\n",
      "Requirement already satisfied: kiwisolver>=1.0.1 in c:\\users\\kamila\\anaconda3\\envs\\practicum\\lib\\site-packages (from matplotlib>=2.2.3->phik) (1.4.5)\n",
      "Requirement already satisfied: pillow>=6.2.0 in c:\\users\\kamila\\anaconda3\\envs\\practicum\\lib\\site-packages (from matplotlib>=2.2.3->phik) (10.2.0)\n",
      "Requirement already satisfied: pyparsing!=2.0.4,!=2.1.2,!=2.1.6,>=2.0.3 in c:\\users\\kamila\\anaconda3\\envs\\practicum\\lib\\site-packages (from matplotlib>=2.2.3->phik) (3.1.1)\n",
      "Requirement already satisfied: python-dateutil>=2.1 in c:\\users\\kamila\\anaconda3\\envs\\practicum\\lib\\site-packages (from matplotlib>=2.2.3->phik) (2.8.2)\n",
      "Requirement already satisfied: pytz>=2017.3 in c:\\users\\kamila\\anaconda3\\envs\\practicum\\lib\\site-packages (from pandas>=0.25.1->phik) (2023.3.post1)\n",
      "Requirement already satisfied: six>=1.5 in c:\\users\\kamila\\anaconda3\\envs\\practicum\\lib\\site-packages (from python-dateutil>=2.1->matplotlib>=2.2.3->phik) (1.16.0)\n",
      "Downloading phik-0.12.4-cp39-cp39-win_amd64.whl (666 kB)\n",
      "   ---------------------------------------- 0.0/666.3 kB ? eta -:--:--\n",
      "   - ------------------------------------- 20.5/666.3 kB 330.3 kB/s eta 0:00:02\n",
      "   -- ------------------------------------ 41.0/666.3 kB 487.6 kB/s eta 0:00:02\n",
      "   ------------ --------------------------- 215.0/666.3 kB 1.6 MB/s eta 0:00:01\n",
      "   --------------------------------- ------ 553.0/666.3 kB 3.5 MB/s eta 0:00:01\n",
      "   ---------------------------------------- 666.3/666.3 kB 3.5 MB/s eta 0:00:00\n",
      "Installing collected packages: phik\n",
      "Successfully installed phik-0.12.4\n"
     ]
    }
   ],
   "source": [
    "!python -m pip install phik"
   ]
  },
  {
   "cell_type": "code",
   "execution_count": 2,
   "metadata": {},
   "outputs": [],
   "source": [
    "import pandas as pd\n",
    "import numpy as np\n",
    "from datetime import datetime, timedelta\n",
    "from matplotlib import pyplot as plt\n",
    "import seaborn as sns\n",
    "import math as mth\n",
    "from scipy import stats as st\n",
    "import plotly.express as px\n",
    "import folium \n",
    "import json\n",
    "import requests\n",
    "from folium import Map, Choropleth, Marker\n",
    "from folium.plugins import MarkerCluster\n",
    "from plotly import graph_objects as go \n",
    "import phik"
   ]
  },
  {
   "cell_type": "code",
   "execution_count": 3,
   "metadata": {},
   "outputs": [
    {
     "name": "stdout",
     "output_type": "stream",
     "text": [
      "<class 'pandas.core.frame.DataFrame'>\n",
      "RangeIndex: 10000 entries, 0 to 9999\n",
      "Data columns (total 12 columns):\n",
      " #   Column         Non-Null Count  Dtype  \n",
      "---  ------         --------------  -----  \n",
      " 0   USERID         10000 non-null  int64  \n",
      " 1   score          10000 non-null  float64\n",
      " 2   city           10000 non-null  object \n",
      " 3   gender         10000 non-null  object \n",
      " 4   age            9974 non-null   float64\n",
      " 5   equity         10000 non-null  int64  \n",
      " 6   balance        7705 non-null   float64\n",
      " 7   products       10000 non-null  int64  \n",
      " 8   credit_card    10000 non-null  int64  \n",
      " 9   last_activity  10000 non-null  int64  \n",
      " 10  EST_SALARY     10000 non-null  float64\n",
      " 11  churn          10000 non-null  int64  \n",
      "dtypes: float64(4), int64(6), object(2)\n",
      "memory usage: 937.6+ KB\n"
     ]
    }
   ],
   "source": [
    "# Загрузим данные и выведем основную информацию о датасете\n",
    "data = pd.read_csv('https://code.s3.yandex.net/datasets/bank_scrooge.csv')\n",
    "data.info()"
   ]
  },
  {
   "cell_type": "code",
   "execution_count": 4,
   "metadata": {
    "scrolled": true
   },
   "outputs": [
    {
     "data": {
      "text/plain": [
       "Index(['user_id', 'score', 'city', 'gender', 'age', 'equity', 'balance',\n",
       "       'products', 'credit_card', 'last_activity', 'est_salary', 'churn'],\n",
       "      dtype='object')"
      ]
     },
     "execution_count": 4,
     "metadata": {},
     "output_type": "execute_result"
    }
   ],
   "source": [
    "# Приведем названия всех столбцов к единому стилю\n",
    "data = data.rename(columns = {'USERID': 'user_id', 'EST_SALARY': 'est_salary'})\n",
    "data.columns"
   ]
  },
  {
   "cell_type": "code",
   "execution_count": 5,
   "metadata": {
    "scrolled": true
   },
   "outputs": [
    {
     "data": {
      "text/plain": [
       "user_id           0.00\n",
       "score             0.00\n",
       "city              0.00\n",
       "gender            0.00\n",
       "age               0.26\n",
       "equity            0.00\n",
       "balance          22.95\n",
       "products          0.00\n",
       "credit_card       0.00\n",
       "last_activity     0.00\n",
       "est_salary        0.00\n",
       "churn             0.00\n",
       "dtype: float64"
      ]
     },
     "execution_count": 5,
     "metadata": {},
     "output_type": "execute_result"
    }
   ],
   "source": [
    "# Посчитаем процент пропущенных значений в каждом из столбцов\n",
    "(data.isna().sum()/data.shape[0]*100).round(2)"
   ]
  },
  {
   "cell_type": "markdown",
   "metadata": {},
   "source": [
    "**Почти у 23 % клиентов отсутствуют данные о балансе и у 0,26 % - о возрасте. Поскольку все клиенты в датасете - дейстувующие, а в соответствии со 115-ФЗ при принятии клиента на обслуживание выполняется обязательная его идентификация, т.е. предъявляется паспорт, который содержит дату рождения, пропуск, вероятно, имеет технические причины не будем его удалять, т.к. несмотря на пропуск в возрасте, это действующие клиенты, которые приносят доход банку и с ними также необходимо проводить работу по противодействию оттоку. Чтобы определить тактику обработки пропусков с столбце с балансом, исследуем его подробнее.**"
   ]
  },
  {
   "cell_type": "code",
   "execution_count": 6,
   "metadata": {
    "scrolled": true
   },
   "outputs": [
    {
     "data": {
      "text/html": [
       "<div>\n",
       "<style scoped>\n",
       "    .dataframe tbody tr th:only-of-type {\n",
       "        vertical-align: middle;\n",
       "    }\n",
       "\n",
       "    .dataframe tbody tr th {\n",
       "        vertical-align: top;\n",
       "    }\n",
       "\n",
       "    .dataframe thead tr th {\n",
       "        text-align: left;\n",
       "    }\n",
       "\n",
       "    .dataframe thead tr:last-of-type th {\n",
       "        text-align: right;\n",
       "    }\n",
       "</style>\n",
       "<table border=\"1\" class=\"dataframe\">\n",
       "  <thead>\n",
       "    <tr>\n",
       "      <th></th>\n",
       "      <th colspan=\"3\" halign=\"left\">credit_card</th>\n",
       "    </tr>\n",
       "    <tr>\n",
       "      <th></th>\n",
       "      <th>Всего c пропуском в балансе</th>\n",
       "      <th>Имеют кредитную карту</th>\n",
       "      <th>Доля владельцев кредитных карт</th>\n",
       "    </tr>\n",
       "    <tr>\n",
       "      <th>products</th>\n",
       "      <th></th>\n",
       "      <th></th>\n",
       "      <th></th>\n",
       "    </tr>\n",
       "  </thead>\n",
       "  <tbody>\n",
       "    <tr>\n",
       "      <th>0</th>\n",
       "      <td>1</td>\n",
       "      <td>0</td>\n",
       "      <td>0.000000</td>\n",
       "    </tr>\n",
       "    <tr>\n",
       "      <th>1</th>\n",
       "      <td>1950</td>\n",
       "      <td>1599</td>\n",
       "      <td>0.820000</td>\n",
       "    </tr>\n",
       "    <tr>\n",
       "      <th>2</th>\n",
       "      <td>315</td>\n",
       "      <td>257</td>\n",
       "      <td>0.815873</td>\n",
       "    </tr>\n",
       "    <tr>\n",
       "      <th>3</th>\n",
       "      <td>29</td>\n",
       "      <td>16</td>\n",
       "      <td>0.551724</td>\n",
       "    </tr>\n",
       "  </tbody>\n",
       "</table>\n",
       "</div>"
      ],
      "text/plain": [
       "                         credit_card                        \\\n",
       "         Всего c пропуском в балансе Имеют кредитную карту   \n",
       "products                                                     \n",
       "0                                  1                     0   \n",
       "1                               1950                  1599   \n",
       "2                                315                   257   \n",
       "3                                 29                    16   \n",
       "\n",
       "                                         \n",
       "         Доля владельцев кредитных карт  \n",
       "products                                 \n",
       "0                              0.000000  \n",
       "1                              0.820000  \n",
       "2                              0.815873  \n",
       "3                              0.551724  "
      ]
     },
     "execution_count": 6,
     "metadata": {},
     "output_type": "execute_result"
    }
   ],
   "source": [
    "# Определим, какое количество продуктов имеют клиенты, у которых пропуск в балансе и сколько из них - кредитные карты\n",
    "data.query('balance != balance').groupby('products').agg({'credit_card': ['count', 'sum', 'mean']}).rename(columns = {'count': 'Всего c пропуском в балансе', 'sum':'Имеют кредитную карту', 'mean': 'Доля владельцев кредитных карт'})"
   ]
  },
  {
   "cell_type": "markdown",
   "metadata": {},
   "source": [
    "**Подавляющее большинство клиентов с пропусками имеют только один продукт. При этом среди владельцев 1 или 2-х продуктов около 82% имеют кредитную карту, а среди владельцев 3-х продуктов - 55 %. Таким образом большая часть пропусков может быть связана с отсутствием пассивных счетов у клиентов, которые пользуются лишь одним продуктом - кредитной картой.**"
   ]
  },
  {
   "cell_type": "markdown",
   "metadata": {},
   "source": [
    "**Чтобы сделать предположения о природе пропусков, закодируем их и исследуем корреляцию пропущенных значений с другими полями**"
   ]
  },
  {
   "cell_type": "code",
   "execution_count": 9,
   "metadata": {},
   "outputs": [
    {
     "data": {
      "image/png": "[encoded data removed]",
      "text/plain": [
       "<Figure size 640x480 with 2 Axes>"
      ]
     },
     "metadata": {},
     "output_type": "display_data"
    }
   ],
   "source": [
    "data_balance_analysis = data\n",
    "data_balance_analysis['missed_balance'] = np.where(data_balance_analysis['balance']!= data_balance_analysis['balance'], 1, 0)\n",
    "data_balance_analysiss_for_matrix = data_balance_analysis[['score', 'age', 'city', 'gender', 'equity', 'balance','products', 'credit_card', 'last_activity', 'est_salary', 'churn', 'missed_balance']]\n",
    "sns.heatmap(data_balance_analysiss_for_matrix.phik_matrix(interval_cols = ['score', 'age',  'balance', 'est_salary']).loc[:, ['missed_balance']].drop('missed_balance').sort_values(by = 'missed_balance', ascending = False), fmt = \".0%\", annot = True,  cmap = 'Blues')\n",
    "plt.show()"
   ]
  },
  {
   "cell_type": "markdown",
   "metadata": {},
   "source": [
    "**Наиболее сильная связь у пропущенных значений с оценкой собственности, количеством продуктов и баллами скоринга. Визуализируем распределение баллов скоринга в разбивке по наличию пропусков, в также доли пропусков в балансе у клиентов а разбивке по количеству продуктов, оценке собственности и оттоку.**"
   ]
  },
  {
   "cell_type": "code",
   "execution_count": 8,
   "metadata": {},
   "outputs": [
    {
     "data": {
      "image/png": "[encoded data removed]",
      "text/plain": [
       "<Figure size 432x216 with 1 Axes>"
      ]
     },
     "metadata": {
      "needs_background": "light"
     },
     "output_type": "display_data"
    }
   ],
   "source": [
    "# Визуализируем распределение баллов скоринга в разбивке по пропускам в балансе\n",
    "\n",
    "plt.figure(figsize = (6, 3))\n",
    "sns.kdeplot(data = data_balance_analisys, x = 'score', hue = 'missed_balance', common_norm = False, palette = ['#7077A1', '#C68484'])\n",
    "plt.title('Score')\n",
    "plt.legend(['Пропуск', 'Нет пропуска'])\n",
    "plt.show()"
   ]
  },
  {
   "cell_type": "markdown",
   "metadata": {},
   "source": [
    "**У клиентов с пропусками в балансе есть два пиковых значения в распределении баллов скоринга, т.е. среди всех клиентов с пропусками можно выделить две часто встречающиеся группы клиентов с относительно низкими (более 700) и относительно высокими (более 900) баллами скоринга, клиенты без пропусков чаще имеют значения между этими пиками (более 800). Таким образом, вероятно, здесь имеет влияние третий фактор или сочетание нескольких, на оценке которых базируется методика скоринга.**"
   ]
  },
  {
   "cell_type": "code",
   "execution_count": 10,
   "metadata": {},
   "outputs": [],
   "source": [
    "# Визуализиреум доли пропущенных значений по категориям для признаков с наиболее сильной корреляцией с пропусками\n",
    "def cat_var_for_missed_balance(col):\n",
    "    data_for_bar = data_balance_analysis.pivot_table(index = col, values= 'missed_balance', aggfunc = 'mean').reset_index()\n",
    "    data_for_bar['missed_balance'] = data_for_bar['missed_balance'].round(2)\n",
    "    ax = sns.barplot(x = data_for_bar[col], y = data_for_bar['missed_balance'], data = data_for_bar, color = '#C4D7E0', edgecolor = '#6C7A89')\n",
    "    plt.axhline(y = data_balance_analisys['missed_balance'].mean(), color = 'grey', linestyle = '--')\n",
    "    for p in ax.patches:\n",
    "        ax.annotate(f'{p.get_height()}', (p.get_x() + p.get_width()/2, p.get_height()), ha = 'center', va = 'bottom')\n",
    "    return ax"
   ]
  },
  {
   "cell_type": "code",
   "execution_count": 10,
   "metadata": {},
   "outputs": [
    {
     "data": {
      "image/png": "[encoded data removed]",
      "text/plain": [
       "<Figure size 1080x216 with 3 Axes>"
      ]
     },
     "metadata": {
      "needs_background": "light"
     },
     "output_type": "display_data"
    }
   ],
   "source": [
    "plt.figure(figsize = (15,3))\n",
    "plt.subplots_adjust(hspace = 0.5)\n",
    "\n",
    "plt.subplot(1, 3, 1)\n",
    "cat_var_for_missed_balance('equity')\n",
    "plt.title('Собственность')\n",
    "\n",
    "plt.subplot(1, 3, 2)\n",
    "cat_var_for_missed_balance('products')\n",
    "plt.title('Количество продуктов')\n",
    "\n",
    "plt.subplot(1, 3, 3)\n",
    "cat_var_for_missed_balance('churn')\n",
    "plt.title('Отток')\n",
    "\n",
    "\n",
    "plt.show()"
   ]
  },
  {
   "cell_type": "markdown",
   "metadata": {},
   "source": [
    "**Доля пропусков наиболее высока у клиентов, у которых отсутствует оценка собственности или она минимальна, также доля высока у владельцев одного продукта (а также у клиента, у которого нет продуктов, подробнее рассмотрим этого клиента далее), кроме того среди уходящих клиентов доля пропусков очень мала.**"
   ]
  },
  {
   "cell_type": "markdown",
   "metadata": {},
   "source": [
    "**Таким образом, чаще всего пропуски присущи клиентам с одним продуктом, для более 80 % - это кредитная карта, чаще всего собственность у таких клиентов не указана или имеет минимальную оценку, а также такие клиенты редко уходят из банка.**\n",
    "\n",
    "**Не будем удалять или заменять пропуски в балансе, чтобы не искажать описательные характеристики.**"
   ]
  },
  {
   "cell_type": "code",
   "execution_count": 11,
   "metadata": {},
   "outputs": [
    {
     "name": "stdout",
     "output_type": "stream",
     "text": [
      "Количество полных дубликатов клиентов: 0\n",
      "Количество дубликатов по идентификатору клиента: 73\n"
     ]
    }
   ],
   "source": [
    "# Проверим наличие полных явных дубликатов среди клиентов\n",
    "print(f'Количество полных дубликатов клиентов: {data.duplicated().sum()}')\n",
    "\n",
    "# А также дубликатов по уникальному идентификатору клиента\n",
    "\n",
    "print(f'Количество дубликатов по идентификатору клиента: {data[\"user_id\"].duplicated().sum()}')"
   ]
  },
  {
   "cell_type": "code",
   "execution_count": 12,
   "metadata": {},
   "outputs": [
    {
     "data": {
      "text/html": [
       "<div>\n",
       "<style scoped>\n",
       "    .dataframe tbody tr th:only-of-type {\n",
       "        vertical-align: middle;\n",
       "    }\n",
       "\n",
       "    .dataframe tbody tr th {\n",
       "        vertical-align: top;\n",
       "    }\n",
       "\n",
       "    .dataframe thead th {\n",
       "        text-align: right;\n",
       "    }\n",
       "</style>\n",
       "<table border=\"1\" class=\"dataframe\">\n",
       "  <thead>\n",
       "    <tr style=\"text-align: right;\">\n",
       "      <th></th>\n",
       "      <th>user_id</th>\n",
       "      <th>score</th>\n",
       "      <th>city</th>\n",
       "      <th>gender</th>\n",
       "      <th>age</th>\n",
       "      <th>equity</th>\n",
       "      <th>balance</th>\n",
       "      <th>products</th>\n",
       "      <th>credit_card</th>\n",
       "      <th>last_activity</th>\n",
       "      <th>est_salary</th>\n",
       "      <th>churn</th>\n",
       "      <th>missed_balance</th>\n",
       "    </tr>\n",
       "  </thead>\n",
       "  <tbody>\n",
       "    <tr>\n",
       "      <th>1893</th>\n",
       "      <td>116540</td>\n",
       "      <td>883.0</td>\n",
       "      <td>Рыбинск</td>\n",
       "      <td>Ж</td>\n",
       "      <td>55.0</td>\n",
       "      <td>1</td>\n",
       "      <td>362756.49</td>\n",
       "      <td>3</td>\n",
       "      <td>0</td>\n",
       "      <td>1</td>\n",
       "      <td>175920.48</td>\n",
       "      <td>1</td>\n",
       "      <td>0</td>\n",
       "    </tr>\n",
       "    <tr>\n",
       "      <th>7694</th>\n",
       "      <td>116540</td>\n",
       "      <td>887.0</td>\n",
       "      <td>Ярославль</td>\n",
       "      <td>Ж</td>\n",
       "      <td>38.0</td>\n",
       "      <td>0</td>\n",
       "      <td>NaN</td>\n",
       "      <td>1</td>\n",
       "      <td>0</td>\n",
       "      <td>1</td>\n",
       "      <td>119247.61</td>\n",
       "      <td>0</td>\n",
       "      <td>1</td>\n",
       "    </tr>\n",
       "    <tr>\n",
       "      <th>7542</th>\n",
       "      <td>117943</td>\n",
       "      <td>880.0</td>\n",
       "      <td>Ярославль</td>\n",
       "      <td>Ж</td>\n",
       "      <td>40.0</td>\n",
       "      <td>0</td>\n",
       "      <td>NaN</td>\n",
       "      <td>1</td>\n",
       "      <td>1</td>\n",
       "      <td>0</td>\n",
       "      <td>137718.93</td>\n",
       "      <td>0</td>\n",
       "      <td>1</td>\n",
       "    </tr>\n",
       "    <tr>\n",
       "      <th>4866</th>\n",
       "      <td>117943</td>\n",
       "      <td>855.0</td>\n",
       "      <td>Рыбинск</td>\n",
       "      <td>Ж</td>\n",
       "      <td>32.0</td>\n",
       "      <td>6</td>\n",
       "      <td>1036832.93</td>\n",
       "      <td>4</td>\n",
       "      <td>1</td>\n",
       "      <td>1</td>\n",
       "      <td>107792.71</td>\n",
       "      <td>1</td>\n",
       "      <td>0</td>\n",
       "    </tr>\n",
       "    <tr>\n",
       "      <th>5896</th>\n",
       "      <td>120258</td>\n",
       "      <td>905.0</td>\n",
       "      <td>Ярославль</td>\n",
       "      <td>М</td>\n",
       "      <td>30.0</td>\n",
       "      <td>0</td>\n",
       "      <td>NaN</td>\n",
       "      <td>1</td>\n",
       "      <td>1</td>\n",
       "      <td>1</td>\n",
       "      <td>146427.96</td>\n",
       "      <td>0</td>\n",
       "      <td>1</td>\n",
       "    </tr>\n",
       "    <tr>\n",
       "      <th>5863</th>\n",
       "      <td>120258</td>\n",
       "      <td>908.0</td>\n",
       "      <td>Рыбинск</td>\n",
       "      <td>Ж</td>\n",
       "      <td>38.0</td>\n",
       "      <td>4</td>\n",
       "      <td>2213581.63</td>\n",
       "      <td>2</td>\n",
       "      <td>0</td>\n",
       "      <td>1</td>\n",
       "      <td>160327.77</td>\n",
       "      <td>1</td>\n",
       "      <td>0</td>\n",
       "    </tr>\n",
       "    <tr>\n",
       "      <th>1411</th>\n",
       "      <td>123461</td>\n",
       "      <td>829.0</td>\n",
       "      <td>Ярославль</td>\n",
       "      <td>Ж</td>\n",
       "      <td>59.0</td>\n",
       "      <td>0</td>\n",
       "      <td>96222.44</td>\n",
       "      <td>2</td>\n",
       "      <td>0</td>\n",
       "      <td>1</td>\n",
       "      <td>102771.55</td>\n",
       "      <td>1</td>\n",
       "      <td>0</td>\n",
       "    </tr>\n",
       "    <tr>\n",
       "      <th>8638</th>\n",
       "      <td>123461</td>\n",
       "      <td>934.0</td>\n",
       "      <td>Рыбинск</td>\n",
       "      <td>М</td>\n",
       "      <td>34.0</td>\n",
       "      <td>0</td>\n",
       "      <td>NaN</td>\n",
       "      <td>2</td>\n",
       "      <td>1</td>\n",
       "      <td>0</td>\n",
       "      <td>291619.27</td>\n",
       "      <td>0</td>\n",
       "      <td>1</td>\n",
       "    </tr>\n",
       "    <tr>\n",
       "      <th>8164</th>\n",
       "      <td>124450</td>\n",
       "      <td>859.0</td>\n",
       "      <td>Ярославль</td>\n",
       "      <td>Ж</td>\n",
       "      <td>38.0</td>\n",
       "      <td>6</td>\n",
       "      <td>516811.20</td>\n",
       "      <td>1</td>\n",
       "      <td>1</td>\n",
       "      <td>1</td>\n",
       "      <td>95144.63</td>\n",
       "      <td>1</td>\n",
       "      <td>0</td>\n",
       "    </tr>\n",
       "    <tr>\n",
       "      <th>9775</th>\n",
       "      <td>124450</td>\n",
       "      <td>758.0</td>\n",
       "      <td>Рыбинск</td>\n",
       "      <td>Ж</td>\n",
       "      <td>36.0</td>\n",
       "      <td>0</td>\n",
       "      <td>73574.07</td>\n",
       "      <td>2</td>\n",
       "      <td>0</td>\n",
       "      <td>1</td>\n",
       "      <td>79963.59</td>\n",
       "      <td>0</td>\n",
       "      <td>0</td>\n",
       "    </tr>\n",
       "  </tbody>\n",
       "</table>\n",
       "</div>"
      ],
      "text/plain": [
       "      user_id  score       city gender   age  equity     balance  products  \\\n",
       "1893   116540  883.0    Рыбинск      Ж  55.0       1   362756.49         3   \n",
       "7694   116540  887.0  Ярославль      Ж  38.0       0         NaN         1   \n",
       "7542   117943  880.0  Ярославль      Ж  40.0       0         NaN         1   \n",
       "4866   117943  855.0    Рыбинск      Ж  32.0       6  1036832.93         4   \n",
       "5896   120258  905.0  Ярославль      М  30.0       0         NaN         1   \n",
       "5863   120258  908.0    Рыбинск      Ж  38.0       4  2213581.63         2   \n",
       "1411   123461  829.0  Ярославль      Ж  59.0       0    96222.44         2   \n",
       "8638   123461  934.0    Рыбинск      М  34.0       0         NaN         2   \n",
       "8164   124450  859.0  Ярославль      Ж  38.0       6   516811.20         1   \n",
       "9775   124450  758.0    Рыбинск      Ж  36.0       0    73574.07         2   \n",
       "\n",
       "      credit_card  last_activity  est_salary  churn  missed_balance  \n",
       "1893            0              1   175920.48      1               0  \n",
       "7694            0              1   119247.61      0               1  \n",
       "7542            1              0   137718.93      0               1  \n",
       "4866            1              1   107792.71      1               0  \n",
       "5896            1              1   146427.96      0               1  \n",
       "5863            0              1   160327.77      1               0  \n",
       "1411            0              1   102771.55      1               0  \n",
       "8638            1              0   291619.27      0               1  \n",
       "8164            1              1    95144.63      1               0  \n",
       "9775            0              1    79963.59      0               0  "
      ]
     },
     "execution_count": 12,
     "metadata": {},
     "output_type": "execute_result"
    }
   ],
   "source": [
    "# Выведем несколько дубликатов по индентификатору\n",
    "data[data['user_id'].duplicated(keep = False)].sort_values(by = 'user_id').head(10)"
   ]
  },
  {
   "cell_type": "markdown",
   "metadata": {},
   "source": [
    "**Первые несколько дубликатов представляют собой разных клиентов в разных городах, у которых совпадают индентификаторы (о чем говорит разница в данных возраста, а в отдельных случаях - разный пол). Проверим, так ли это, выведем дубликаты по двум полям - идентификатор клиента и город.**"
   ]
  },
  {
   "cell_type": "code",
   "execution_count": 13,
   "metadata": {},
   "outputs": [
    {
     "data": {
      "text/html": [
       "<div>\n",
       "<style scoped>\n",
       "    .dataframe tbody tr th:only-of-type {\n",
       "        vertical-align: middle;\n",
       "    }\n",
       "\n",
       "    .dataframe tbody tr th {\n",
       "        vertical-align: top;\n",
       "    }\n",
       "\n",
       "    .dataframe thead th {\n",
       "        text-align: right;\n",
       "    }\n",
       "</style>\n",
       "<table border=\"1\" class=\"dataframe\">\n",
       "  <thead>\n",
       "    <tr style=\"text-align: right;\">\n",
       "      <th></th>\n",
       "      <th>user_id</th>\n",
       "      <th>score</th>\n",
       "      <th>city</th>\n",
       "      <th>gender</th>\n",
       "      <th>age</th>\n",
       "      <th>equity</th>\n",
       "      <th>balance</th>\n",
       "      <th>products</th>\n",
       "      <th>credit_card</th>\n",
       "      <th>last_activity</th>\n",
       "      <th>est_salary</th>\n",
       "      <th>churn</th>\n",
       "      <th>missed_balance</th>\n",
       "    </tr>\n",
       "  </thead>\n",
       "  <tbody>\n",
       "  </tbody>\n",
       "</table>\n",
       "</div>"
      ],
      "text/plain": [
       "Empty DataFrame\n",
       "Columns: [user_id, score, city, gender, age, equity, balance, products, credit_card, last_activity, est_salary, churn, missed_balance]\n",
       "Index: []"
      ]
     },
     "execution_count": 13,
     "metadata": {},
     "output_type": "execute_result"
    }
   ],
   "source": [
    "# Выведем дубликаты по двум полям\n",
    "data[data[['user_id', 'city']].duplicated()]"
   ]
  },
  {
   "cell_type": "markdown",
   "metadata": {},
   "source": [
    "**Наши предположения подтвердились - все дубликаты идентификаторов принадлежат клиентам из разных городов, т.е. по сути дубликатами не являются, удалять их нельзя. Такая ситуация может возникнуть в случае отсутствия сквозной нумерации заемщиков по всему банку, когда каждый филиал присваивает номер независимо.**"
   ]
  },
  {
   "cell_type": "code",
   "execution_count": 14,
   "metadata": {
    "scrolled": true
   },
   "outputs": [
    {
     "data": {
      "text/html": [
       "<div>\n",
       "<style scoped>\n",
       "    .dataframe tbody tr th:only-of-type {\n",
       "        vertical-align: middle;\n",
       "    }\n",
       "\n",
       "    .dataframe tbody tr th {\n",
       "        vertical-align: top;\n",
       "    }\n",
       "\n",
       "    .dataframe thead th {\n",
       "        text-align: right;\n",
       "    }\n",
       "</style>\n",
       "<table border=\"1\" class=\"dataframe\">\n",
       "  <thead>\n",
       "    <tr style=\"text-align: right;\">\n",
       "      <th></th>\n",
       "      <th>user_id</th>\n",
       "      <th>score</th>\n",
       "      <th>city</th>\n",
       "      <th>gender</th>\n",
       "      <th>age</th>\n",
       "      <th>equity</th>\n",
       "      <th>balance</th>\n",
       "      <th>products</th>\n",
       "      <th>credit_card</th>\n",
       "      <th>last_activity</th>\n",
       "      <th>est_salary</th>\n",
       "      <th>churn</th>\n",
       "      <th>missed_balance</th>\n",
       "      <th>city_copy_Ростов</th>\n",
       "      <th>city_copy_Рыбинск</th>\n",
       "      <th>city_copy_Ярославль</th>\n",
       "      <th>gender_copy_М</th>\n",
       "      <th>credit_card_description</th>\n",
       "      <th>activity_description</th>\n",
       "    </tr>\n",
       "  </thead>\n",
       "  <tbody>\n",
       "    <tr>\n",
       "      <th>0</th>\n",
       "      <td>183012</td>\n",
       "      <td>850.0</td>\n",
       "      <td>Рыбинск</td>\n",
       "      <td>Ж</td>\n",
       "      <td>25.0</td>\n",
       "      <td>1</td>\n",
       "      <td>59214.82</td>\n",
       "      <td>2</td>\n",
       "      <td>0</td>\n",
       "      <td>1</td>\n",
       "      <td>75719.14</td>\n",
       "      <td>1</td>\n",
       "      <td>0</td>\n",
       "      <td>0</td>\n",
       "      <td>1</td>\n",
       "      <td>0</td>\n",
       "      <td>0</td>\n",
       "      <td>Нет карты</td>\n",
       "      <td>Активен</td>\n",
       "    </tr>\n",
       "    <tr>\n",
       "      <th>1</th>\n",
       "      <td>146556</td>\n",
       "      <td>861.0</td>\n",
       "      <td>Рыбинск</td>\n",
       "      <td>Ж</td>\n",
       "      <td>37.0</td>\n",
       "      <td>5</td>\n",
       "      <td>850594.33</td>\n",
       "      <td>3</td>\n",
       "      <td>1</td>\n",
       "      <td>0</td>\n",
       "      <td>86621.77</td>\n",
       "      <td>0</td>\n",
       "      <td>0</td>\n",
       "      <td>0</td>\n",
       "      <td>1</td>\n",
       "      <td>0</td>\n",
       "      <td>0</td>\n",
       "      <td>Есть карта</td>\n",
       "      <td>Не активен</td>\n",
       "    </tr>\n",
       "    <tr>\n",
       "      <th>2</th>\n",
       "      <td>120722</td>\n",
       "      <td>892.0</td>\n",
       "      <td>Рыбинск</td>\n",
       "      <td>Ж</td>\n",
       "      <td>30.0</td>\n",
       "      <td>0</td>\n",
       "      <td>NaN</td>\n",
       "      <td>1</td>\n",
       "      <td>1</td>\n",
       "      <td>1</td>\n",
       "      <td>107683.34</td>\n",
       "      <td>0</td>\n",
       "      <td>1</td>\n",
       "      <td>0</td>\n",
       "      <td>1</td>\n",
       "      <td>0</td>\n",
       "      <td>0</td>\n",
       "      <td>Есть карта</td>\n",
       "      <td>Активен</td>\n",
       "    </tr>\n",
       "    <tr>\n",
       "      <th>3</th>\n",
       "      <td>225363</td>\n",
       "      <td>866.0</td>\n",
       "      <td>Ярославль</td>\n",
       "      <td>Ж</td>\n",
       "      <td>51.0</td>\n",
       "      <td>5</td>\n",
       "      <td>1524746.26</td>\n",
       "      <td>2</td>\n",
       "      <td>0</td>\n",
       "      <td>1</td>\n",
       "      <td>174423.53</td>\n",
       "      <td>1</td>\n",
       "      <td>0</td>\n",
       "      <td>0</td>\n",
       "      <td>0</td>\n",
       "      <td>1</td>\n",
       "      <td>0</td>\n",
       "      <td>Нет карты</td>\n",
       "      <td>Активен</td>\n",
       "    </tr>\n",
       "    <tr>\n",
       "      <th>4</th>\n",
       "      <td>157978</td>\n",
       "      <td>730.0</td>\n",
       "      <td>Ярославль</td>\n",
       "      <td>М</td>\n",
       "      <td>34.0</td>\n",
       "      <td>5</td>\n",
       "      <td>174.00</td>\n",
       "      <td>1</td>\n",
       "      <td>1</td>\n",
       "      <td>0</td>\n",
       "      <td>67353.16</td>\n",
       "      <td>1</td>\n",
       "      <td>0</td>\n",
       "      <td>0</td>\n",
       "      <td>0</td>\n",
       "      <td>1</td>\n",
       "      <td>1</td>\n",
       "      <td>Есть карта</td>\n",
       "      <td>Не активен</td>\n",
       "    </tr>\n",
       "    <tr>\n",
       "      <th>5</th>\n",
       "      <td>202305</td>\n",
       "      <td>856.0</td>\n",
       "      <td>Рыбинск</td>\n",
       "      <td>М</td>\n",
       "      <td>56.0</td>\n",
       "      <td>4</td>\n",
       "      <td>863687.24</td>\n",
       "      <td>3</td>\n",
       "      <td>1</td>\n",
       "      <td>0</td>\n",
       "      <td>156619.80</td>\n",
       "      <td>0</td>\n",
       "      <td>0</td>\n",
       "      <td>0</td>\n",
       "      <td>1</td>\n",
       "      <td>0</td>\n",
       "      <td>1</td>\n",
       "      <td>Есть карта</td>\n",
       "      <td>Не активен</td>\n",
       "    </tr>\n",
       "    <tr>\n",
       "      <th>6</th>\n",
       "      <td>177259</td>\n",
       "      <td>807.0</td>\n",
       "      <td>Ярославль</td>\n",
       "      <td>Ж</td>\n",
       "      <td>39.0</td>\n",
       "      <td>3</td>\n",
       "      <td>405042.44</td>\n",
       "      <td>3</td>\n",
       "      <td>0</td>\n",
       "      <td>1</td>\n",
       "      <td>103838.32</td>\n",
       "      <td>0</td>\n",
       "      <td>0</td>\n",
       "      <td>0</td>\n",
       "      <td>0</td>\n",
       "      <td>1</td>\n",
       "      <td>0</td>\n",
       "      <td>Нет карты</td>\n",
       "      <td>Активен</td>\n",
       "    </tr>\n",
       "    <tr>\n",
       "      <th>7</th>\n",
       "      <td>218868</td>\n",
       "      <td>825.0</td>\n",
       "      <td>Ярославль</td>\n",
       "      <td>Ж</td>\n",
       "      <td>38.0</td>\n",
       "      <td>4</td>\n",
       "      <td>458145.40</td>\n",
       "      <td>2</td>\n",
       "      <td>1</td>\n",
       "      <td>1</td>\n",
       "      <td>68085.48</td>\n",
       "      <td>0</td>\n",
       "      <td>0</td>\n",
       "      <td>0</td>\n",
       "      <td>0</td>\n",
       "      <td>1</td>\n",
       "      <td>0</td>\n",
       "      <td>Есть карта</td>\n",
       "      <td>Активен</td>\n",
       "    </tr>\n",
       "    <tr>\n",
       "      <th>8</th>\n",
       "      <td>211686</td>\n",
       "      <td>923.0</td>\n",
       "      <td>Ярославль</td>\n",
       "      <td>М</td>\n",
       "      <td>54.0</td>\n",
       "      <td>5</td>\n",
       "      <td>1206337.87</td>\n",
       "      <td>2</td>\n",
       "      <td>1</td>\n",
       "      <td>0</td>\n",
       "      <td>155371.79</td>\n",
       "      <td>0</td>\n",
       "      <td>0</td>\n",
       "      <td>0</td>\n",
       "      <td>0</td>\n",
       "      <td>1</td>\n",
       "      <td>1</td>\n",
       "      <td>Есть карта</td>\n",
       "      <td>Не активен</td>\n",
       "    </tr>\n",
       "    <tr>\n",
       "      <th>9</th>\n",
       "      <td>133130</td>\n",
       "      <td>906.0</td>\n",
       "      <td>Ярославль</td>\n",
       "      <td>Ж</td>\n",
       "      <td>67.0</td>\n",
       "      <td>0</td>\n",
       "      <td>NaN</td>\n",
       "      <td>1</td>\n",
       "      <td>0</td>\n",
       "      <td>1</td>\n",
       "      <td>238055.53</td>\n",
       "      <td>0</td>\n",
       "      <td>1</td>\n",
       "      <td>0</td>\n",
       "      <td>0</td>\n",
       "      <td>1</td>\n",
       "      <td>0</td>\n",
       "      <td>Нет карты</td>\n",
       "      <td>Активен</td>\n",
       "    </tr>\n",
       "  </tbody>\n",
       "</table>\n",
       "</div>"
      ],
      "text/plain": [
       "   user_id  score       city gender   age  equity     balance  products  \\\n",
       "0   183012  850.0    Рыбинск      Ж  25.0       1    59214.82         2   \n",
       "1   146556  861.0    Рыбинск      Ж  37.0       5   850594.33         3   \n",
       "2   120722  892.0    Рыбинск      Ж  30.0       0         NaN         1   \n",
       "3   225363  866.0  Ярославль      Ж  51.0       5  1524746.26         2   \n",
       "4   157978  730.0  Ярославль      М  34.0       5      174.00         1   \n",
       "5   202305  856.0    Рыбинск      М  56.0       4   863687.24         3   \n",
       "6   177259  807.0  Ярославль      Ж  39.0       3   405042.44         3   \n",
       "7   218868  825.0  Ярославль      Ж  38.0       4   458145.40         2   \n",
       "8   211686  923.0  Ярославль      М  54.0       5  1206337.87         2   \n",
       "9   133130  906.0  Ярославль      Ж  67.0       0         NaN         1   \n",
       "\n",
       "   credit_card  last_activity  est_salary  churn  missed_balance  \\\n",
       "0            0              1    75719.14      1               0   \n",
       "1            1              0    86621.77      0               0   \n",
       "2            1              1   107683.34      0               1   \n",
       "3            0              1   174423.53      1               0   \n",
       "4            1              0    67353.16      1               0   \n",
       "5            1              0   156619.80      0               0   \n",
       "6            0              1   103838.32      0               0   \n",
       "7            1              1    68085.48      0               0   \n",
       "8            1              0   155371.79      0               0   \n",
       "9            0              1   238055.53      0               1   \n",
       "\n",
       "   city_copy_Ростов  city_copy_Рыбинск  city_copy_Ярославль  gender_copy_М  \\\n",
       "0                 0                  1                    0              0   \n",
       "1                 0                  1                    0              0   \n",
       "2                 0                  1                    0              0   \n",
       "3                 0                  0                    1              0   \n",
       "4                 0                  0                    1              1   \n",
       "5                 0                  1                    0              1   \n",
       "6                 0                  0                    1              0   \n",
       "7                 0                  0                    1              0   \n",
       "8                 0                  0                    1              1   \n",
       "9                 0                  0                    1              0   \n",
       "\n",
       "  credit_card_description activity_description  \n",
       "0               Нет карты              Активен  \n",
       "1              Есть карта           Не активен  \n",
       "2              Есть карта              Активен  \n",
       "3               Нет карты              Активен  \n",
       "4              Есть карта           Не активен  \n",
       "5              Есть карта           Не активен  \n",
       "6               Нет карты              Активен  \n",
       "7              Есть карта              Активен  \n",
       "8              Есть карта           Не активен  \n",
       "9               Нет карты              Активен  "
      ]
     },
     "execution_count": 14,
     "metadata": {},
     "output_type": "execute_result"
    }
   ],
   "source": [
    "# Закодируем категориальные переменные - город и пол для целей корреляционного анализа\n",
    "# Но сохраним оригинальные столбцы(создадим копии) для удобства дальнейшей визуализации\n",
    "data[['city_copy', 'gender_copy']] = data[['city', 'gender']]\n",
    "data = pd.get_dummies(data, columns = ['city_copy', 'gender_copy'], dtype = int).drop('gender_copy_Ж', axis = 1)\n",
    "\n",
    "# Для удобства визуализаций также создадим столбцы с наименованием признака наличия кредитной карты и активности \n",
    "data['credit_card_description'] = data['credit_card'].replace(0, 'Нет карты').replace(1, 'Есть карта')\n",
    "data['activity_description'] = data['last_activity'].replace(0, 'Не активен').replace(1, 'Активен')\n",
    "data.head(10)"
   ]
  },
  {
   "cell_type": "code",
   "execution_count": 15,
   "metadata": {},
   "outputs": [],
   "source": [
    "# Для целей анализа создадим списки числовых и категориальных переменных:\n",
    "\n",
    "cont_var = ['score', 'age'] # числовые непрерывные переменные (без предполагаемых значительных выбросов ввиду специфики признака)\n",
    "\n",
    "dis_var = ['equity', 'products'] # числовые дискретные переменные\n",
    "\n",
    "out_var = ['balance', 'est_salary'] # числовые непрерывные переменные (с потенциальными значительеыми выбросами)\n",
    "\n",
    "cat_var = ['city', 'gender', 'credit_card', 'last_activity'] # категориальные переменные"
   ]
  },
  {
   "cell_type": "code",
   "execution_count": 16,
   "metadata": {},
   "outputs": [
    {
     "data": {
      "text/html": [
       "<div>\n",
       "<style scoped>\n",
       "    .dataframe tbody tr th:only-of-type {\n",
       "        vertical-align: middle;\n",
       "    }\n",
       "\n",
       "    .dataframe tbody tr th {\n",
       "        vertical-align: top;\n",
       "    }\n",
       "\n",
       "    .dataframe thead th {\n",
       "        text-align: right;\n",
       "    }\n",
       "</style>\n",
       "<table border=\"1\" class=\"dataframe\">\n",
       "  <thead>\n",
       "    <tr style=\"text-align: right;\">\n",
       "      <th></th>\n",
       "      <th>score</th>\n",
       "      <th>age</th>\n",
       "      <th>balance</th>\n",
       "      <th>est_salary</th>\n",
       "    </tr>\n",
       "  </thead>\n",
       "  <tbody>\n",
       "    <tr>\n",
       "      <th>count</th>\n",
       "      <td>10000.000000</td>\n",
       "      <td>9974.000000</td>\n",
       "      <td>7.705000e+03</td>\n",
       "      <td>1.000000e+04</td>\n",
       "    </tr>\n",
       "    <tr>\n",
       "      <th>mean</th>\n",
       "      <td>848.699400</td>\n",
       "      <td>42.734409</td>\n",
       "      <td>8.277943e+05</td>\n",
       "      <td>1.478669e+05</td>\n",
       "    </tr>\n",
       "    <tr>\n",
       "      <th>std</th>\n",
       "      <td>65.448519</td>\n",
       "      <td>12.179971</td>\n",
       "      <td>1.980614e+06</td>\n",
       "      <td>1.393885e+05</td>\n",
       "    </tr>\n",
       "    <tr>\n",
       "      <th>min</th>\n",
       "      <td>642.000000</td>\n",
       "      <td>18.000000</td>\n",
       "      <td>0.000000e+00</td>\n",
       "      <td>2.546300e+03</td>\n",
       "    </tr>\n",
       "    <tr>\n",
       "      <th>25%</th>\n",
       "      <td>802.000000</td>\n",
       "      <td>33.000000</td>\n",
       "      <td>2.955542e+05</td>\n",
       "      <td>7.525190e+04</td>\n",
       "    </tr>\n",
       "    <tr>\n",
       "      <th>50%</th>\n",
       "      <td>853.000000</td>\n",
       "      <td>40.000000</td>\n",
       "      <td>5.242722e+05</td>\n",
       "      <td>1.196581e+05</td>\n",
       "    </tr>\n",
       "    <tr>\n",
       "      <th>75%</th>\n",
       "      <td>900.000000</td>\n",
       "      <td>51.000000</td>\n",
       "      <td>9.807058e+05</td>\n",
       "      <td>1.745005e+05</td>\n",
       "    </tr>\n",
       "    <tr>\n",
       "      <th>max</th>\n",
       "      <td>1000.000000</td>\n",
       "      <td>86.000000</td>\n",
       "      <td>1.191136e+08</td>\n",
       "      <td>1.395064e+06</td>\n",
       "    </tr>\n",
       "  </tbody>\n",
       "</table>\n",
       "</div>"
      ],
      "text/plain": [
       "              score          age       balance    est_salary\n",
       "count  10000.000000  9974.000000  7.705000e+03  1.000000e+04\n",
       "mean     848.699400    42.734409  8.277943e+05  1.478669e+05\n",
       "std       65.448519    12.179971  1.980614e+06  1.393885e+05\n",
       "min      642.000000    18.000000  0.000000e+00  2.546300e+03\n",
       "25%      802.000000    33.000000  2.955542e+05  7.525190e+04\n",
       "50%      853.000000    40.000000  5.242722e+05  1.196581e+05\n",
       "75%      900.000000    51.000000  9.807058e+05  1.745005e+05\n",
       "max     1000.000000    86.000000  1.191136e+08  1.395064e+06"
      ]
     },
     "execution_count": 16,
     "metadata": {},
     "output_type": "execute_result"
    }
   ],
   "source": [
    "# Проверим, как распределены числовые непрерывные переменные, чтобы предположить наличие/отсутствие аномалий\n",
    "data[cont_var + out_var].describe()"
   ]
  },
  {
   "cell_type": "code",
   "execution_count": 17,
   "metadata": {
    "scrolled": false
   },
   "outputs": [
    {
     "data": {
      "image/png": "[encoded data removed]",
      "text/plain": [
       "<Figure size 432x288 with 1 Axes>"
      ]
     },
     "metadata": {
      "needs_background": "light"
     },
     "output_type": "display_data"
    },
    {
     "data": {
      "image/png": "[encoded data removed]",
      "text/plain": [
       "<Figure size 432x288 with 1 Axes>"
      ]
     },
     "metadata": {
      "needs_background": "light"
     },
     "output_type": "display_data"
    },
    {
     "data": {
      "image/png": "[encoded data removed]",
      "text/plain": [
       "<Figure size 432x288 with 1 Axes>"
      ]
     },
     "metadata": {
      "needs_background": "light"
     },
     "output_type": "display_data"
    },
    {
     "data": {
      "image/png": "[encoded data removed]",
      "text/plain": [
       "<Figure size 432x288 with 1 Axes>"
      ]
     },
     "metadata": {
      "needs_background": "light"
     },
     "output_type": "display_data"
    }
   ],
   "source": [
    "# Оценим распределение непрерывных переменных\n",
    "for col in (cont_var + out_var): \n",
    "    sns.histplot(data[col], kde = True, bins = 70, color = '#424769')\n",
    "    plt.title(col)\n",
    "    plt.show()"
   ]
  },
  {
   "cell_type": "code",
   "execution_count": 18,
   "metadata": {},
   "outputs": [
    {
     "data": {
      "image/png": "[encoded data removed]",
      "text/plain": [
       "<Figure size 432x288 with 1 Axes>"
      ]
     },
     "metadata": {
      "needs_background": "light"
     },
     "output_type": "display_data"
    }
   ],
   "source": [
    "# Отдельно визуализируем данные о балансе, ограничив визуализацию 95 % данных, \n",
    "# чтобы рассмотреть основную часть распределения без выбросов\n",
    "\n",
    "sns.histplot(data.loc[data['balance'] < np.percentile(data.dropna()['balance'], 95)]['balance'], kde = True, bins = 100, color = '#424769')\n",
    "plt.show()"
   ]
  },
  {
   "cell_type": "markdown",
   "metadata": {},
   "source": [
    "**Анализ данныз кредитного скоринга и возраста не выявил аномалий: разброс возраста от 18 (совершеннолетние граждане) до 86 лет (пенсионеры), при этом 75 % клиентов не старше 51 года, а баллы скоринга от 642 до 1000 (можно предположить шкалу до 1000 баллов), при этом 75 % клиентов имеют балл не превышающий 900. При этом, возраст имеет один явный пик, другой более сглаженный, что может говорить о наличии двух центров распределения - возрастных промежутков с большим количеством клиентов - около 35 и 55 лет. Подробнее рассмотрим на графиках плотности вероятности распределения на последующих шагах.**\n",
    "\n",
    "**В данных баланса и заработной платы заметны значительные выбросы, о чем говорят длинные хвосты гистограмм, а также основные статистические показатели, полученные методом describe(): баланс от 0 до 119 млн руб, при 75 % не превышеющих 980 тыс. руб., а также оценочная заработная плата от 2,5 тыс. до почти 1,4 млн. руб. При значительном разбросе данные сложно назвать аномальными - баланс на счете - это его состояние на конкретную дату, т.е. он может быть высоким сегодня и нулевым завтра, например, если средства переводятся в счет аванса по договору ипотеки, кроме того, в исследовании необходимо учитывать различные сегменты клиентов, среди которых могут быть как среднестатические, так и клиенты с очень высоким доходом и остатками, поэтому выбросы удалять не будем. Аналогично оставим всех клиентов с высокой и маленькой оценочной заработной платой, т.к., во-первых, данные из внешних источников и мы не можем ручаться за их точность, во-вторых, нам в любом случае необходимо учитывать разные сегменты клиентов - с очень высокой и очень низкой заработной платой.**"
   ]
  },
  {
   "cell_type": "code",
   "execution_count": 19,
   "metadata": {
    "scrolled": true
   },
   "outputs": [
    {
     "data": {
      "text/html": [
       "<div>\n",
       "<style scoped>\n",
       "    .dataframe tbody tr th:only-of-type {\n",
       "        vertical-align: middle;\n",
       "    }\n",
       "\n",
       "    .dataframe tbody tr th {\n",
       "        vertical-align: top;\n",
       "    }\n",
       "\n",
       "    .dataframe thead th {\n",
       "        text-align: right;\n",
       "    }\n",
       "</style>\n",
       "<table border=\"1\" class=\"dataframe\">\n",
       "  <thead>\n",
       "    <tr style=\"text-align: right;\">\n",
       "      <th></th>\n",
       "      <th>equity</th>\n",
       "      <th>rate</th>\n",
       "    </tr>\n",
       "  </thead>\n",
       "  <tbody>\n",
       "    <tr>\n",
       "      <th>0</th>\n",
       "      <td>2592</td>\n",
       "      <td>25.92</td>\n",
       "    </tr>\n",
       "    <tr>\n",
       "      <th>5</th>\n",
       "      <td>1918</td>\n",
       "      <td>19.18</td>\n",
       "    </tr>\n",
       "    <tr>\n",
       "      <th>4</th>\n",
       "      <td>1850</td>\n",
       "      <td>18.50</td>\n",
       "    </tr>\n",
       "    <tr>\n",
       "      <th>3</th>\n",
       "      <td>1543</td>\n",
       "      <td>15.43</td>\n",
       "    </tr>\n",
       "    <tr>\n",
       "      <th>2</th>\n",
       "      <td>1052</td>\n",
       "      <td>10.52</td>\n",
       "    </tr>\n",
       "    <tr>\n",
       "      <th>1</th>\n",
       "      <td>774</td>\n",
       "      <td>7.74</td>\n",
       "    </tr>\n",
       "    <tr>\n",
       "      <th>6</th>\n",
       "      <td>161</td>\n",
       "      <td>1.61</td>\n",
       "    </tr>\n",
       "    <tr>\n",
       "      <th>7</th>\n",
       "      <td>80</td>\n",
       "      <td>0.80</td>\n",
       "    </tr>\n",
       "    <tr>\n",
       "      <th>8</th>\n",
       "      <td>17</td>\n",
       "      <td>0.17</td>\n",
       "    </tr>\n",
       "    <tr>\n",
       "      <th>9</th>\n",
       "      <td>13</td>\n",
       "      <td>0.13</td>\n",
       "    </tr>\n",
       "  </tbody>\n",
       "</table>\n",
       "</div>"
      ],
      "text/plain": [
       "   equity   rate\n",
       "0    2592  25.92\n",
       "5    1918  19.18\n",
       "4    1850  18.50\n",
       "3    1543  15.43\n",
       "2    1052  10.52\n",
       "1     774   7.74\n",
       "6     161   1.61\n",
       "7      80   0.80\n",
       "8      17   0.17\n",
       "9      13   0.13"
      ]
     },
     "metadata": {},
     "output_type": "display_data"
    },
    {
     "data": {
      "text/html": [
       "<div>\n",
       "<style scoped>\n",
       "    .dataframe tbody tr th:only-of-type {\n",
       "        vertical-align: middle;\n",
       "    }\n",
       "\n",
       "    .dataframe tbody tr th {\n",
       "        vertical-align: top;\n",
       "    }\n",
       "\n",
       "    .dataframe thead th {\n",
       "        text-align: right;\n",
       "    }\n",
       "</style>\n",
       "<table border=\"1\" class=\"dataframe\">\n",
       "  <thead>\n",
       "    <tr style=\"text-align: right;\">\n",
       "      <th></th>\n",
       "      <th>products</th>\n",
       "      <th>rate</th>\n",
       "    </tr>\n",
       "  </thead>\n",
       "  <tbody>\n",
       "    <tr>\n",
       "      <th>2</th>\n",
       "      <td>5126</td>\n",
       "      <td>51.26</td>\n",
       "    </tr>\n",
       "    <tr>\n",
       "      <th>1</th>\n",
       "      <td>3341</td>\n",
       "      <td>33.41</td>\n",
       "    </tr>\n",
       "    <tr>\n",
       "      <th>3</th>\n",
       "      <td>1039</td>\n",
       "      <td>10.39</td>\n",
       "    </tr>\n",
       "    <tr>\n",
       "      <th>4</th>\n",
       "      <td>474</td>\n",
       "      <td>4.74</td>\n",
       "    </tr>\n",
       "    <tr>\n",
       "      <th>5</th>\n",
       "      <td>19</td>\n",
       "      <td>0.19</td>\n",
       "    </tr>\n",
       "    <tr>\n",
       "      <th>0</th>\n",
       "      <td>1</td>\n",
       "      <td>0.01</td>\n",
       "    </tr>\n",
       "  </tbody>\n",
       "</table>\n",
       "</div>"
      ],
      "text/plain": [
       "   products   rate\n",
       "2      5126  51.26\n",
       "1      3341  33.41\n",
       "3      1039  10.39\n",
       "4       474   4.74\n",
       "5        19   0.19\n",
       "0         1   0.01"
      ]
     },
     "metadata": {},
     "output_type": "display_data"
    },
    {
     "data": {
      "text/html": [
       "<div>\n",
       "<style scoped>\n",
       "    .dataframe tbody tr th:only-of-type {\n",
       "        vertical-align: middle;\n",
       "    }\n",
       "\n",
       "    .dataframe tbody tr th {\n",
       "        vertical-align: top;\n",
       "    }\n",
       "\n",
       "    .dataframe thead th {\n",
       "        text-align: right;\n",
       "    }\n",
       "</style>\n",
       "<table border=\"1\" class=\"dataframe\">\n",
       "  <thead>\n",
       "    <tr style=\"text-align: right;\">\n",
       "      <th></th>\n",
       "      <th>city</th>\n",
       "      <th>rate</th>\n",
       "    </tr>\n",
       "  </thead>\n",
       "  <tbody>\n",
       "    <tr>\n",
       "      <th>Ярославль</th>\n",
       "      <td>5888</td>\n",
       "      <td>58.88</td>\n",
       "    </tr>\n",
       "    <tr>\n",
       "      <th>Рыбинск</th>\n",
       "      <td>2695</td>\n",
       "      <td>26.95</td>\n",
       "    </tr>\n",
       "    <tr>\n",
       "      <th>Ростов</th>\n",
       "      <td>1417</td>\n",
       "      <td>14.17</td>\n",
       "    </tr>\n",
       "  </tbody>\n",
       "</table>\n",
       "</div>"
      ],
      "text/plain": [
       "           city   rate\n",
       "Ярославль  5888  58.88\n",
       "Рыбинск    2695  26.95\n",
       "Ростов     1417  14.17"
      ]
     },
     "metadata": {},
     "output_type": "display_data"
    },
    {
     "data": {
      "text/html": [
       "<div>\n",
       "<style scoped>\n",
       "    .dataframe tbody tr th:only-of-type {\n",
       "        vertical-align: middle;\n",
       "    }\n",
       "\n",
       "    .dataframe tbody tr th {\n",
       "        vertical-align: top;\n",
       "    }\n",
       "\n",
       "    .dataframe thead th {\n",
       "        text-align: right;\n",
       "    }\n",
       "</style>\n",
       "<table border=\"1\" class=\"dataframe\">\n",
       "  <thead>\n",
       "    <tr style=\"text-align: right;\">\n",
       "      <th></th>\n",
       "      <th>gender</th>\n",
       "      <th>rate</th>\n",
       "    </tr>\n",
       "  </thead>\n",
       "  <tbody>\n",
       "    <tr>\n",
       "      <th>М</th>\n",
       "      <td>5005</td>\n",
       "      <td>50.05</td>\n",
       "    </tr>\n",
       "    <tr>\n",
       "      <th>Ж</th>\n",
       "      <td>4995</td>\n",
       "      <td>49.95</td>\n",
       "    </tr>\n",
       "  </tbody>\n",
       "</table>\n",
       "</div>"
      ],
      "text/plain": [
       "   gender   rate\n",
       "М    5005  50.05\n",
       "Ж    4995  49.95"
      ]
     },
     "metadata": {},
     "output_type": "display_data"
    },
    {
     "data": {
      "text/html": [
       "<div>\n",
       "<style scoped>\n",
       "    .dataframe tbody tr th:only-of-type {\n",
       "        vertical-align: middle;\n",
       "    }\n",
       "\n",
       "    .dataframe tbody tr th {\n",
       "        vertical-align: top;\n",
       "    }\n",
       "\n",
       "    .dataframe thead th {\n",
       "        text-align: right;\n",
       "    }\n",
       "</style>\n",
       "<table border=\"1\" class=\"dataframe\">\n",
       "  <thead>\n",
       "    <tr style=\"text-align: right;\">\n",
       "      <th></th>\n",
       "      <th>credit_card</th>\n",
       "      <th>rate</th>\n",
       "    </tr>\n",
       "  </thead>\n",
       "  <tbody>\n",
       "    <tr>\n",
       "      <th>1</th>\n",
       "      <td>6804</td>\n",
       "      <td>68.04</td>\n",
       "    </tr>\n",
       "    <tr>\n",
       "      <th>0</th>\n",
       "      <td>3196</td>\n",
       "      <td>31.96</td>\n",
       "    </tr>\n",
       "  </tbody>\n",
       "</table>\n",
       "</div>"
      ],
      "text/plain": [
       "   credit_card   rate\n",
       "1         6804  68.04\n",
       "0         3196  31.96"
      ]
     },
     "metadata": {},
     "output_type": "display_data"
    },
    {
     "data": {
      "text/html": [
       "<div>\n",
       "<style scoped>\n",
       "    .dataframe tbody tr th:only-of-type {\n",
       "        vertical-align: middle;\n",
       "    }\n",
       "\n",
       "    .dataframe tbody tr th {\n",
       "        vertical-align: top;\n",
       "    }\n",
       "\n",
       "    .dataframe thead th {\n",
       "        text-align: right;\n",
       "    }\n",
       "</style>\n",
       "<table border=\"1\" class=\"dataframe\">\n",
       "  <thead>\n",
       "    <tr style=\"text-align: right;\">\n",
       "      <th></th>\n",
       "      <th>last_activity</th>\n",
       "      <th>rate</th>\n",
       "    </tr>\n",
       "  </thead>\n",
       "  <tbody>\n",
       "    <tr>\n",
       "      <th>1</th>\n",
       "      <td>5235</td>\n",
       "      <td>52.35</td>\n",
       "    </tr>\n",
       "    <tr>\n",
       "      <th>0</th>\n",
       "      <td>4765</td>\n",
       "      <td>47.65</td>\n",
       "    </tr>\n",
       "  </tbody>\n",
       "</table>\n",
       "</div>"
      ],
      "text/plain": [
       "   last_activity   rate\n",
       "1           5235  52.35\n",
       "0           4765  47.65"
      ]
     },
     "metadata": {},
     "output_type": "display_data"
    }
   ],
   "source": [
    "# Оценим встречаемость дискретных переменных\n",
    "\n",
    "for col in (dis_var + cat_var): \n",
    "    d = data[col].value_counts()\n",
    "    d = pd.DataFrame(d)\n",
    "    d['rate'] = (data[col].value_counts(normalize = True)*100).round(2)\n",
    "    display(d)"
   ]
  },
  {
   "cell_type": "markdown",
   "metadata": {},
   "source": [
    "- **Больше четверти клиентов не указали в анкете собственность или ее не имеют.**\n",
    "- **Более половины всех клиентов имеют два продукта, более 30 % - один продукт.**\n",
    "- **Почти 60 % клиентов - из Ярославля, меньше всего - в Ростове (14 %).** \n",
    "- **Количество мужчин и женщин примерно равно.** \n",
    "- **Почти 70 % имеют кредитную карту.** \n",
    "- **Количество активных и неактивных клиентов близко к равенству - 52, 3 и 47,7 % соответственно.** \n",
    "- **Есть один заемщик, который не имеет продуктов, создавая тем самым дополнительную продуктовую категорию, рассмотрим этого заемщика.**"
   ]
  },
  {
   "cell_type": "code",
   "execution_count": 20,
   "metadata": {},
   "outputs": [
    {
     "data": {
      "text/html": [
       "<div>\n",
       "<style scoped>\n",
       "    .dataframe tbody tr th:only-of-type {\n",
       "        vertical-align: middle;\n",
       "    }\n",
       "\n",
       "    .dataframe tbody tr th {\n",
       "        vertical-align: top;\n",
       "    }\n",
       "\n",
       "    .dataframe thead th {\n",
       "        text-align: right;\n",
       "    }\n",
       "</style>\n",
       "<table border=\"1\" class=\"dataframe\">\n",
       "  <thead>\n",
       "    <tr style=\"text-align: right;\">\n",
       "      <th></th>\n",
       "      <th>user_id</th>\n",
       "      <th>score</th>\n",
       "      <th>city</th>\n",
       "      <th>gender</th>\n",
       "      <th>age</th>\n",
       "      <th>equity</th>\n",
       "      <th>balance</th>\n",
       "      <th>products</th>\n",
       "      <th>credit_card</th>\n",
       "      <th>last_activity</th>\n",
       "      <th>est_salary</th>\n",
       "      <th>churn</th>\n",
       "      <th>missed_balance</th>\n",
       "      <th>city_copy_Ростов</th>\n",
       "      <th>city_copy_Рыбинск</th>\n",
       "      <th>city_copy_Ярославль</th>\n",
       "      <th>gender_copy_М</th>\n",
       "      <th>credit_card_description</th>\n",
       "      <th>activity_description</th>\n",
       "    </tr>\n",
       "  </thead>\n",
       "  <tbody>\n",
       "    <tr>\n",
       "      <th>8957</th>\n",
       "      <td>147837</td>\n",
       "      <td>962.0</td>\n",
       "      <td>Рыбинск</td>\n",
       "      <td>Ж</td>\n",
       "      <td>79.0</td>\n",
       "      <td>3</td>\n",
       "      <td>NaN</td>\n",
       "      <td>0</td>\n",
       "      <td>0</td>\n",
       "      <td>0</td>\n",
       "      <td>25063.96</td>\n",
       "      <td>1</td>\n",
       "      <td>1</td>\n",
       "      <td>0</td>\n",
       "      <td>1</td>\n",
       "      <td>0</td>\n",
       "      <td>0</td>\n",
       "      <td>Нет карты</td>\n",
       "      <td>Не активен</td>\n",
       "    </tr>\n",
       "  </tbody>\n",
       "</table>\n",
       "</div>"
      ],
      "text/plain": [
       "      user_id  score     city gender   age  equity  balance  products  \\\n",
       "8957   147837  962.0  Рыбинск      Ж  79.0       3      NaN         0   \n",
       "\n",
       "      credit_card  last_activity  est_salary  churn  missed_balance  \\\n",
       "8957            0              0    25063.96      1               1   \n",
       "\n",
       "      city_copy_Ростов  city_copy_Рыбинск  city_copy_Ярославль  gender_copy_М  \\\n",
       "8957                 0                  1                    0              0   \n",
       "\n",
       "     credit_card_description activity_description  \n",
       "8957               Нет карты           Не активен  "
      ]
     },
     "execution_count": 20,
     "metadata": {},
     "output_type": "execute_result"
    }
   ],
   "source": [
    "# Выведем информацию о заемщике, который имеет 0 продуктов\n",
    "data.query('products == 0')"
   ]
  },
  {
   "cell_type": "markdown",
   "metadata": {},
   "source": [
    "**Вероятно, это клиент, который уже ушел (нет продуктов, нет активности, проставлен признак оттока). Удалим его, т.к. один ушедший клиент создает одну лишнюю категорию.**"
   ]
  },
  {
   "cell_type": "code",
   "execution_count": 21,
   "metadata": {},
   "outputs": [],
   "source": [
    "# Удаляем клиента без действуюших продуктов\n",
    "\n",
    "data = data.query('products != 0')"
   ]
  },
  {
   "cell_type": "markdown",
   "metadata": {},
   "source": [
    "## Исследовательский анализ данных"
   ]
  },
  {
   "cell_type": "markdown",
   "metadata": {},
   "source": [
    "### Отток в разрезе городов "
   ]
  },
  {
   "cell_type": "code",
   "execution_count": 22,
   "metadata": {},
   "outputs": [
    {
     "data": {
      "image/png": "[encoded data removed]",
      "text/plain": [
       "<Figure size 864x864 with 4 Axes>"
      ]
     },
     "metadata": {},
     "output_type": "display_data"
    }
   ],
   "source": [
    "# Визуализируем долю клиентов с признаком оттока и без в целом по Банку, а также в разбивке по городам присутствия\n",
    "def pie_plot_builder(table):\n",
    "    churn_pie = table.groupby('churn')['user_id'].count().reset_index()\n",
    "    (plt.pie(churn_pie['user_id'], \n",
    "             labels = churn_pie['churn'].replace(0, 'Нет оттока').replace(1, 'Отток'), \n",
    "             colors = ['#C4D7E0', '#C68484'], \n",
    "             autopct = '%.2f%%', explode = [0.15, 0])\n",
    "    )\n",
    "\n",
    "plt.figure(figsize = (12,12))\n",
    "\n",
    "plt.subplot(1, 4, 1)\n",
    "pie_plot_builder(data)\n",
    "plt.title('Клиенты всего')\n",
    "\n",
    "plt.subplot(1, 4, 2)\n",
    "pie_plot_builder(data.query('city == \"Ярославль\"'))\n",
    "plt.title('Клиенты Ярославль')\n",
    "\n",
    "plt.subplot(1, 4, 3)\n",
    "pie_plot_builder(data.query('city == \"Ростов\"'))\n",
    "plt.title('Клиенты Ростов')\n",
    "\n",
    "plt.subplot(1, 4, 4)\n",
    "pie_plot_builder(data.query('city == \"Рыбинск\"'))\n",
    "plt.title('Клиенты Рыбинск')\n",
    "\n",
    "plt.show()"
   ]
  },
  {
   "cell_type": "markdown",
   "metadata": {},
   "source": [
    "**Доли клиентов с признаком оттока сопоставимы и находятся в промежутке от 16 до 19 % в разных городах и в Банке в целом**"
   ]
  },
  {
   "cell_type": "markdown",
   "metadata": {},
   "source": [
    "**Чтобы получить портрет Клиента посчитаем средние показатели для всех признаков клиентов банка в целом, а также в разбивке признака оттока, при этом для вычисления средних значений будем использовать:**\n",
    "\n",
    "**- для числовых непрерывных переменных без значительных выбросов (баллы скоринга, возраст) - среднее**\n",
    "\n",
    "**- для числовых числовых непрерывных переменных с выбросами и дискретных переменных (баллы собственности, баланс, количество продуктов, оценочная заработная плата) - медиану**\n",
    "\n",
    "**- для бинарных категоричальных переменных (город, пол, наличие кредитной карты, активность) - моду**"
   ]
  },
  {
   "cell_type": "markdown",
   "metadata": {},
   "source": [
    "### Портреты клиентов: уходящий, остающийся, средний по банку"
   ]
  },
  {
   "cell_type": "code",
   "execution_count": 23,
   "metadata": {},
   "outputs": [
    {
     "data": {
      "text/html": [
       "<div>\n",
       "<style scoped>\n",
       "    .dataframe tbody tr th:only-of-type {\n",
       "        vertical-align: middle;\n",
       "    }\n",
       "\n",
       "    .dataframe tbody tr th {\n",
       "        vertical-align: top;\n",
       "    }\n",
       "\n",
       "    .dataframe thead th {\n",
       "        text-align: right;\n",
       "    }\n",
       "</style>\n",
       "<table border=\"1\" class=\"dataframe\">\n",
       "  <thead>\n",
       "    <tr style=\"text-align: right;\">\n",
       "      <th>churn</th>\n",
       "      <th>Признак</th>\n",
       "      <th>Клиент не уходит</th>\n",
       "      <th>Клиент уходит</th>\n",
       "      <th>Средний клиент Банка</th>\n",
       "    </tr>\n",
       "  </thead>\n",
       "  <tbody>\n",
       "    <tr>\n",
       "      <th>0</th>\n",
       "      <td>Возраст</td>\n",
       "      <td>43.02</td>\n",
       "      <td>41.43</td>\n",
       "      <td>42.73</td>\n",
       "    </tr>\n",
       "    <tr>\n",
       "      <th>1</th>\n",
       "      <td>Балл скоринга</td>\n",
       "      <td>845.43</td>\n",
       "      <td>863.35</td>\n",
       "      <td>848.69</td>\n",
       "    </tr>\n",
       "    <tr>\n",
       "      <th>2</th>\n",
       "      <td>Баланс</td>\n",
       "      <td>475382.45</td>\n",
       "      <td>782410.47</td>\n",
       "      <td>524272.20</td>\n",
       "    </tr>\n",
       "    <tr>\n",
       "      <th>3</th>\n",
       "      <td>Оценка собственности</td>\n",
       "      <td>3.00</td>\n",
       "      <td>4.00</td>\n",
       "      <td>3.00</td>\n",
       "    </tr>\n",
       "    <tr>\n",
       "      <th>4</th>\n",
       "      <td>Оценочная з/п (доход)</td>\n",
       "      <td>118257.71</td>\n",
       "      <td>125395.22</td>\n",
       "      <td>119661.51</td>\n",
       "    </tr>\n",
       "    <tr>\n",
       "      <th>5</th>\n",
       "      <td>Количество продуктов</td>\n",
       "      <td>2.00</td>\n",
       "      <td>2.00</td>\n",
       "      <td>2.00</td>\n",
       "    </tr>\n",
       "    <tr>\n",
       "      <th>6</th>\n",
       "      <td>Город</td>\n",
       "      <td>Ярославль</td>\n",
       "      <td>Ярославль</td>\n",
       "      <td>Ярославль</td>\n",
       "    </tr>\n",
       "    <tr>\n",
       "      <th>7</th>\n",
       "      <td>Наличие кредитной карты</td>\n",
       "      <td>Да</td>\n",
       "      <td>Да</td>\n",
       "      <td>Да</td>\n",
       "    </tr>\n",
       "    <tr>\n",
       "      <th>8</th>\n",
       "      <td>Пол</td>\n",
       "      <td>Ж</td>\n",
       "      <td>М</td>\n",
       "      <td>М</td>\n",
       "    </tr>\n",
       "    <tr>\n",
       "      <th>9</th>\n",
       "      <td>Активность</td>\n",
       "      <td>Нет</td>\n",
       "      <td>Да</td>\n",
       "      <td>Да</td>\n",
       "    </tr>\n",
       "  </tbody>\n",
       "</table>\n",
       "</div>"
      ],
      "text/plain": [
       "churn                  Признак Клиент не уходит Клиент уходит  \\\n",
       "0                      Возраст            43.02         41.43   \n",
       "1                Балл скоринга           845.43        863.35   \n",
       "2                       Баланс        475382.45     782410.47   \n",
       "3         Оценка собственности             3.00          4.00   \n",
       "4        Оценочная з/п (доход)        118257.71     125395.22   \n",
       "5         Количество продуктов             2.00          2.00   \n",
       "6                        Город        Ярославль     Ярославль   \n",
       "7      Наличие кредитной карты               Да            Да   \n",
       "8                          Пол                Ж             М   \n",
       "9                   Активность              Нет            Да   \n",
       "\n",
       "churn Средний клиент Банка  \n",
       "0                    42.73  \n",
       "1                   848.69  \n",
       "2                524272.20  \n",
       "3                     3.00  \n",
       "4                119661.51  \n",
       "5                     2.00  \n",
       "6                Ярославль  \n",
       "7                       Да  \n",
       "8                        М  \n",
       "9                       Да  "
      ]
     },
     "execution_count": 23,
     "metadata": {},
     "output_type": "execute_result"
    }
   ],
   "source": [
    "# Создадим функцию, которая будет создавать сводные таблицы, применяя заданные функции к заданным столбцам\n",
    "def get_av_pivot(col_list, aggfunction):\n",
    "    return(data.pivot_table(index = 'churn', values = col_list, aggfunc = aggfunction))\n",
    "\n",
    "# Объединим таблицы в одну по признаку оттока\n",
    "average_data = get_av_pivot(cont_var, 'mean').join([get_av_pivot((dis_var + out_var), 'median'), get_av_pivot(cat_var, lambda x: x.mode())]) \n",
    "\n",
    "# Создадим список, содержащий новую строку - средние значения, рассчитанные по всему датафрейму\n",
    "new_list = []\n",
    "for column in average_data.columns.tolist():\n",
    "    if column in cont_var:\n",
    "        new_list.append(data[column].mean())\n",
    "    if column in dis_var or column in out_var:\n",
    "        new_list.append(data[column].median())\n",
    "    if column in cat_var:\n",
    "         new_list.append(data[column].mode()[0])\n",
    "\n",
    "# Добавим список новой строкой\n",
    "average_data.loc[len(average_data)] = new_list\n",
    "\n",
    "pd.set_option('display.float_format', '{:.2f}'.format)\n",
    "average_data = (average_data\n",
    "                .T\n",
    "                .rename(columns = {0: 'Клиент не уходит', 1: 'Клиент уходит', 2: 'Средний клиент Банка'}, index = {'age': 'Возраст', 'score': 'Балл скоринга', 'balance': 'Баланс', 'equity':  'Оценка собственности', 'est_salary': 'Оценочная з/п (доход)', 'products': 'Количество продуктов', 'city': 'Город', 'credit_card': 'Наличие кредитной карты', 'gender': 'Пол', 'last_activity': 'Активность'})\n",
    "                .reset_index()\n",
    "                .rename(columns ={'index': 'Признак'})\n",
    "               )\n",
    "average_data.replace(1, 'Да').replace(0, 'Нет')\n"
   ]
  },
  {
   "cell_type": "markdown",
   "metadata": {},
   "source": [
    "**Средний уходящий клиент банка чуть моложе среднего клиента банка, имеет более высокий балл скоринга, оценку собственнности, а его остаток на балансе почти в 2 раза выше, чаще всего - это мужчины.** \n",
    "\n",
    "**Лояльные клиенты, как правило, старше среднего клиента, имеют меньший балл скоринга, меньший остаток на балансе и оценочную заработную плату.**"
   ]
  },
  {
   "cell_type": "markdown",
   "metadata": {},
   "source": [
    "### Непрерывные признаки: распределение в разрезе оттока"
   ]
  },
  {
   "cell_type": "code",
   "execution_count": 24,
   "metadata": {
    "scrolled": false
   },
   "outputs": [
    {
     "data": {
      "image/png": "[encoded data removed]",
      "text/plain": [
       "<Figure size 1080x360 with 1 Axes>"
      ]
     },
     "metadata": {
      "needs_background": "light"
     },
     "output_type": "display_data"
    },
    {
     "data": {
      "image/png": "[encoded data removed]",
      "text/plain": [
       "<Figure size 1080x360 with 1 Axes>"
      ]
     },
     "metadata": {
      "needs_background": "light"
     },
     "output_type": "display_data"
    },
    {
     "data": {
      "image/png": "[encoded data removed]",
      "text/plain": [
       "<Figure size 1080x360 with 1 Axes>"
      ]
     },
     "metadata": {
      "needs_background": "light"
     },
     "output_type": "display_data"
    },
    {
     "data": {
      "image/png": "[encoded data removed]",
      "text/plain": [
       "<Figure size 1080x360 with 1 Axes>"
      ]
     },
     "metadata": {
      "needs_background": "light"
     },
     "output_type": "display_data"
    }
   ],
   "source": [
    "# Создадим функцию для визуализации распределения непрерывных переменных в разрезе признаков оттока, чтобы определить промежутки\n",
    "# на которых вероятность, что клиент уходящий - выше\n",
    "\n",
    "def cont_var_visual(dataset, col):\n",
    "    plt.figure(figsize = (15,5)) \n",
    "    sns.kdeplot(data = dataset, x = col, hue = 'churn', common_norm = False, palette = ['#7077A1', '#C68484'])\n",
    "    plt.legend(['Отток', 'Нет оттока'])\n",
    "\n",
    "cont_var_visual(data.loc[data['est_salary'] < np.percentile(data['est_salary'], 95)], 'est_salary') # ограничим визуализацию 95% данных\n",
    "plt.title('Оценочная з/п (доход)')\n",
    "plt.locator_params(axis = 'x', nbins = 50)\n",
    "plt.xticks(rotation = 45)\n",
    "\n",
    "cont_var_visual(data.loc[data['balance'] < np.percentile(data.dropna()['balance'], 95)],'balance') # ограничим визуализацию 95% данных\n",
    "plt.title('Баланс')\n",
    "plt.locator_params(axis = 'x', nbins = 50)\n",
    "\n",
    "cont_var_visual(data, 'age')\n",
    "plt.title('Возраст')\n",
    "plt.locator_params(axis = 'x', nbins = 50)\n",
    "\n",
    "cont_var_visual(data, 'score')\n",
    "plt.title('Балл скоринга')\n",
    "plt.locator_params(axis = 'x', nbins = 50)\n",
    "plt.xticks(rotation = 45)\n",
    "\n",
    "plt.show()\n"
   ]
  },
  {
   "cell_type": "markdown",
   "metadata": {},
   "source": [
    "**1. Оценочная з/п плата (доход).** \n",
    "\n",
    "Согласно графику плотности вероятности распределения дохода, клиенты с признаками оттока чаще имеют доход больше, чем клиенты без признаков оттока, о чем говорит смещенный вправо в сторону увеличения суммы дохода пик графика плотности распределения дохода клиентов с признаком оттока в сравнее с клиентами без него. Наибольшее число клиентов с оттоком - на промежутке примерно от 100 тыс. до 210 тыс. руб., при дальнейшем увеличении дохода разрыв сокращается, как и количество клиентов.\n",
    "\n",
    "**2. Баланс.** \n",
    "\n",
    "Распределение остатков на балансе (пассивы) клиентов имеет большой разброс значений в сторону увеличения остатка баланса (\"хвост\" справа). При этом именно на этот \"хвост\" приходятся суммы остатков, которые чаще имеют клиенты с признаком оттока, т.е. клиенты с признаком оттока чаще имеют более высокие остатки на дебетовых и депозитных счетах в размере примерно от 700 тыс. руб.\n",
    "\n",
    "**3. Возраст.**\n",
    "\n",
    "Графики плотности распределения значений возраста имеют два пика (в районе 30 и в районе 50 лет), более ярко выраженные у клиентов с признаком оттока. При этом пики у клиентов с оттоком смещены влево, т.е. уходящие клиенты чаще моложе остающихся. В целом, чаще уходят клиенты в возрасте примерно от 22 до 34 и от 49 до 60.\n",
    "\n",
    "**4. Баллы скоринга.**\n",
    "\n",
    "Чаще уходят клиенты, которые имеют баллы в промежутке от 820 до 910 (на пике распределения), что по шкале до 1000 - достаточно высокое значение и несмотря на то, что нам неизвестны критерии оценки, может говорить о довольно высоком качестве уходящих клиентов."
   ]
  },
  {
   "cell_type": "markdown",
   "metadata": {},
   "source": [
    "### Категориальные и дискретные признаки: сравнение долей оттока по категориям"
   ]
  },
  {
   "cell_type": "code",
   "execution_count": 25,
   "metadata": {
    "scrolled": false
   },
   "outputs": [
    {
     "data": {
      "image/png": "[encoded data removed]",
      "text/plain": [
       "<Figure size 864x432 with 6 Axes>"
      ]
     },
     "metadata": {
      "needs_background": "light"
     },
     "output_type": "display_data"
    }
   ],
   "source": [
    "# Создадим функцию для визуализации распределения категориальных переменных\n",
    "\n",
    "def cat_var_visual(col):\n",
    "    data_for_bar = data.pivot_table(index = col, values= 'churn', aggfunc = 'mean').reset_index()\n",
    "    data_for_bar['churn'] = data_for_bar['churn'].round(2)\n",
    "    ax = sns.barplot(x = data_for_bar[col], y = data_for_bar['churn'], data = data_for_bar, color = '#C4D7E0', edgecolor = '#6C7A89')\n",
    "    plt.axhline(y = data['churn'].mean(), color = 'grey', linestyle = '--')\n",
    "    for p in ax.patches:\n",
    "        ax.annotate(f'{p.get_height()}', (p.get_x() + p.get_width()/2, p.get_height()), ha = 'center', va = 'bottom')\n",
    "    return ax\n",
    "\n",
    "plt.figure(figsize = (12,6))\n",
    "plt.subplots_adjust(hspace = 0.5)\n",
    "\n",
    "plt.subplot(2, 3, 1)\n",
    "cat_var_visual('gender')\n",
    "plt.title('Пол')\n",
    "\n",
    "plt.subplot(2, 3, 2)\n",
    "cat_var_visual('city')\n",
    "plt.title('Город')\n",
    "\n",
    "plt.subplot(2, 3, 3)\n",
    "cat_var_visual('equity')\n",
    "plt.title('Собственность')\n",
    "\n",
    "plt.subplot(2, 3, 4)\n",
    "cat_var_visual('products')\n",
    "plt.title('Количество продуктов')\n",
    "\n",
    "plt.subplot(2, 3, 5)\n",
    "cat_var_visual('credit_card_description')\n",
    "plt.title('Наличие крединой карты')\n",
    "\n",
    "plt.subplot(2, 3, 6)\n",
    "cat_var_visual('activity_description')\n",
    "plt.title('Активность')\n",
    "\n",
    "plt.show()"
   ]
  },
  {
   "cell_type": "markdown",
   "metadata": {},
   "source": [
    "- Доля оттока среди клиентов - **мужчин** выше среднебанковской и составляет около 24 %. \n",
    "- Более лояльны клиенты Рыбинска, а доля оттока клиентов других городов совсем немного превышает среднюю долю по банку. \n",
    "- **Доля оттока растет вместе с баллами собственности** (за исключением 8 баллов) и превышает общебанковскую начиная с 3 баллов. Однако следует учитывать, что количество клиентов в группах с 7, 8 и 9 баллами не превышает 1 % от общего числа каждая.\n",
    "- Среди клиентов, имеющих **от трех продуктов и более** доля оттока выше, чем средняя по банку.\n",
    "- Доля оттока среди клиентов, **не имеющих кредитные карты выше** среднего по банку и составляет 26%\n",
    "- Среди клиентов с признаком активности доля оттока выше общебанковской и составляет 24 %."
   ]
  },
  {
   "cell_type": "markdown",
   "metadata": {},
   "source": [
    "### Матрица корреляции"
   ]
  },
  {
   "cell_type": "markdown",
   "metadata": {},
   "source": [
    "**Чтобы оценить связь между признаками, построим phik матрицу, которя в отличие от матрицы корреляции выявляет также нелинейную связь.**"
   ]
  },
  {
   "cell_type": "code",
   "execution_count": 26,
   "metadata": {
    "scrolled": false
   },
   "outputs": [
    {
     "data": {
      "image/png": "[encoded data removed]",
      "text/plain": [
       "<Figure size 1080x360 with 2 Axes>"
      ]
     },
     "metadata": {
      "needs_background": "light"
     },
     "output_type": "display_data"
    }
   ],
   "source": [
    "# Строим phik матрицу\n",
    "\n",
    "data_for_matrix = data[['score', 'age', 'equity', 'balance','products', 'credit_card', 'last_activity', 'est_salary', 'churn','city_copy_Ростов', 'city_copy_Рыбинск', 'city_copy_Ярославль', 'gender_copy_М']]\n",
    "data_for_matrix = data_for_matrix.rename(columns = {'churn':'Отток', 'age': 'Возраст', 'score': 'Балл скоринга', 'balance': 'Баланс', 'equity':  'Оценка собственности', 'est_salary': 'Оценочная з/п (доход)', 'products': 'Количество продуктов', 'credit_card': 'Наличие кредитной карты', 'last_activity': 'Активность', 'city_copy_Рыбинск': 'Рыбинск', 'city_copy_Ярославль': 'Ярославль', 'city_copy_Ростов': 'Ростов', 'gender_copy_М': 'Пол'})\n",
    "plt.figure(figsize = (15,5)) \n",
    "sns.heatmap(data_for_matrix.phik_matrix(interval_cols =['Балл скоринга', 'Возраст', 'Баланс', 'Оценочная з/п (доход)']), fmt = \".0%\", annot = True, cmap = 'Blues')\n",
    "plt.show()\n"
   ]
  },
  {
   "cell_type": "markdown",
   "metadata": {},
   "source": [
    "**Наиболее сильная связь между признаками (отток рассмотрим отдельно):**\n",
    "- **у баллов скоринга с:** оценкой собственности (53 %), количеством продуктов (42 %), оценочной заработной платой (40 %), наличием кредитной карты (21 %)\n",
    "- **у возраста с:** оценочной заработной платой (36 %), полом (29 %)\n",
    "- **оценкой собственности с:** баллами скоринга (53 %), количеством продуктов (58 %), наличием кредитной карты (22 %), оценочной заработной платой (29 %)\n",
    "- **у баланса с:** оценочной заработной платой  (37 %)\n",
    "- **у количества продуктов с:** баллами скоринга (42 %), оценкой собственности (58 %), наличием кредитной карты (27 %), оценочной заработной платой (22 %)\n",
    "- **у кредитной карты с:** баллами скоринга (21 %), оценкой собственности (22 %), количеством продуктов (27 %), полом (20 %)\n",
    "- **у оценочной заработной платы с:** баллами собственности (40 %),  балансом (37 %), возрастом (36 %), баллами собственности (29 %),  количеством продуктов (22 %)\n",
    "- **у пола с:** возрастом (29 %), наличием кредитной карты (20 %)"
   ]
  },
  {
   "cell_type": "code",
   "execution_count": 27,
   "metadata": {},
   "outputs": [
    {
     "data": {
      "image/png": "[encoded data removed]",
      "text/plain": [
       "<Figure size 432x288 with 2 Axes>"
      ]
     },
     "metadata": {
      "needs_background": "light"
     },
     "output_type": "display_data"
    }
   ],
   "source": [
    "# Рассмотрим, как отток связан с другими признаками\n",
    "sns.heatmap(data_for_matrix.phik_matrix(interval_cols =['Балл скоринга', 'Возраст', 'Баланс', 'Оценочная з/п (доход)']).loc[:, ['Отток']].drop('Отток').sort_values(by = 'Отток', ascending = False), fmt = \".0%\", annot = True,  cmap = 'Blues')\n",
    "plt.show()"
   ]
  },
  {
   "cell_type": "markdown",
   "metadata": {},
   "source": [
    "**Наиболее сильная связь у оттока с баллами собственности, активностью, количеством продуктов, баллами скоринга, полом, наличием кредитной карты и возрастом.**"
   ]
  },
  {
   "cell_type": "markdown",
   "metadata": {},
   "source": [
    "### Характер использования продуктов банка"
   ]
  },
  {
   "cell_type": "markdown",
   "metadata": {},
   "source": [
    "**Чтобы составить представление о характере использования клиентами продуктов, исследуем доступные для этого признаки:**\n",
    "- **количество продуктов** \n",
    "- **наличие кредитной карты** (нулевой баланс и один продукт - кредитная карта - нет пассивов)\n",
    "\n",
    "Дополнительно рассмотрим баланс, заработок и баллы скоринга в качестве характеристик клиентов каждой группы."
   ]
  },
  {
   "cell_type": "code",
   "execution_count": 28,
   "metadata": {
    "scrolled": false
   },
   "outputs": [
    {
     "data": {
      "text/html": [
       "<div>\n",
       "<style scoped>\n",
       "    .dataframe tbody tr th:only-of-type {\n",
       "        vertical-align: middle;\n",
       "    }\n",
       "\n",
       "    .dataframe tbody tr th {\n",
       "        vertical-align: top;\n",
       "    }\n",
       "\n",
       "    .dataframe thead tr th {\n",
       "        text-align: left;\n",
       "    }\n",
       "\n",
       "    .dataframe thead tr:last-of-type th {\n",
       "        text-align: right;\n",
       "    }\n",
       "</style>\n",
       "<table border=\"1\" class=\"dataframe\">\n",
       "  <thead>\n",
       "    <tr>\n",
       "      <th></th>\n",
       "      <th colspan=\"2\" halign=\"left\">churn</th>\n",
       "      <th colspan=\"2\" halign=\"left\">credit_card</th>\n",
       "      <th colspan=\"2\" halign=\"left\">balance</th>\n",
       "      <th colspan=\"2\" halign=\"left\">est_salary</th>\n",
       "      <th colspan=\"2\" halign=\"left\">equity</th>\n",
       "      <th colspan=\"2\" halign=\"left\">score</th>\n",
       "    </tr>\n",
       "    <tr>\n",
       "      <th></th>\n",
       "      <th>mean</th>\n",
       "      <th>count</th>\n",
       "      <th>mean</th>\n",
       "      <th>count</th>\n",
       "      <th>median</th>\n",
       "      <th>count</th>\n",
       "      <th>median</th>\n",
       "      <th>count</th>\n",
       "      <th>median</th>\n",
       "      <th>count</th>\n",
       "      <th>median</th>\n",
       "      <th>count</th>\n",
       "    </tr>\n",
       "    <tr>\n",
       "      <th>products</th>\n",
       "      <th></th>\n",
       "      <th></th>\n",
       "      <th></th>\n",
       "      <th></th>\n",
       "      <th></th>\n",
       "      <th></th>\n",
       "      <th></th>\n",
       "      <th></th>\n",
       "      <th></th>\n",
       "      <th></th>\n",
       "      <th></th>\n",
       "      <th></th>\n",
       "    </tr>\n",
       "  </thead>\n",
       "  <tbody>\n",
       "    <tr>\n",
       "      <th>1</th>\n",
       "      <td>0.07</td>\n",
       "      <td>3341</td>\n",
       "      <td>0.86</td>\n",
       "      <td>3341</td>\n",
       "      <td>415369.49</td>\n",
       "      <td>1391</td>\n",
       "      <td>142185.24</td>\n",
       "      <td>3341</td>\n",
       "      <td>0</td>\n",
       "      <td>3341</td>\n",
       "      <td>884.00</td>\n",
       "      <td>3341</td>\n",
       "    </tr>\n",
       "    <tr>\n",
       "      <th>2</th>\n",
       "      <td>0.19</td>\n",
       "      <td>5126</td>\n",
       "      <td>0.63</td>\n",
       "      <td>5126</td>\n",
       "      <td>514916.20</td>\n",
       "      <td>4811</td>\n",
       "      <td>109493.96</td>\n",
       "      <td>5126</td>\n",
       "      <td>3</td>\n",
       "      <td>5126</td>\n",
       "      <td>844.00</td>\n",
       "      <td>5126</td>\n",
       "    </tr>\n",
       "    <tr>\n",
       "      <th>3</th>\n",
       "      <td>0.29</td>\n",
       "      <td>1039</td>\n",
       "      <td>0.36</td>\n",
       "      <td>1039</td>\n",
       "      <td>666336.60</td>\n",
       "      <td>1010</td>\n",
       "      <td>105625.84</td>\n",
       "      <td>1039</td>\n",
       "      <td>4</td>\n",
       "      <td>1039</td>\n",
       "      <td>828.00</td>\n",
       "      <td>1039</td>\n",
       "    </tr>\n",
       "    <tr>\n",
       "      <th>4</th>\n",
       "      <td>0.63</td>\n",
       "      <td>474</td>\n",
       "      <td>0.68</td>\n",
       "      <td>474</td>\n",
       "      <td>939342.90</td>\n",
       "      <td>474</td>\n",
       "      <td>122472.51</td>\n",
       "      <td>474</td>\n",
       "      <td>4</td>\n",
       "      <td>474</td>\n",
       "      <td>874.00</td>\n",
       "      <td>474</td>\n",
       "    </tr>\n",
       "    <tr>\n",
       "      <th>5</th>\n",
       "      <td>0.42</td>\n",
       "      <td>19</td>\n",
       "      <td>1.00</td>\n",
       "      <td>19</td>\n",
       "      <td>282262.33</td>\n",
       "      <td>19</td>\n",
       "      <td>106033.79</td>\n",
       "      <td>19</td>\n",
       "      <td>4</td>\n",
       "      <td>19</td>\n",
       "      <td>851.00</td>\n",
       "      <td>19</td>\n",
       "    </tr>\n",
       "  </tbody>\n",
       "</table>\n",
       "</div>"
      ],
      "text/plain": [
       "         churn       credit_card         balance       est_salary        \\\n",
       "          mean count        mean count    median count     median count   \n",
       "products                                                                  \n",
       "1         0.07  3341        0.86  3341 415369.49  1391  142185.24  3341   \n",
       "2         0.19  5126        0.63  5126 514916.20  4811  109493.96  5126   \n",
       "3         0.29  1039        0.36  1039 666336.60  1010  105625.84  1039   \n",
       "4         0.63   474        0.68   474 939342.90   474  122472.51   474   \n",
       "5         0.42    19        1.00    19 282262.33    19  106033.79    19   \n",
       "\n",
       "         equity        score        \n",
       "         median count median count  \n",
       "products                            \n",
       "1             0  3341 884.00  3341  \n",
       "2             3  5126 844.00  5126  \n",
       "3             4  1039 828.00  1039  \n",
       "4             4   474 874.00   474  \n",
       "5             4    19 851.00    19  "
      ]
     },
     "execution_count": 28,
     "metadata": {},
     "output_type": "execute_result"
    }
   ],
   "source": [
    "# Рассмотрим характеристики клиентов в зависимости от характера использования продуктов\n",
    "\n",
    "data.groupby('products')[['churn', 'credit_card', 'balance', 'est_salary', 'equity', 'score']].agg({'churn':['mean', 'count'], 'credit_card':['mean', 'count'], 'balance':['median', 'count'], 'est_salary':['median', 'count'], 'equity':['median', 'count'], 'score':['median', 'count']})\n"
   ]
  },
  {
   "cell_type": "markdown",
   "metadata": {},
   "source": [
    "**Клиенты, у которых больше продуктов, имеют большие остатки на счетах (кроме владельцев 5-ти продуктов, что может объясняться небольшой выборкой), что может быть показателем большего количества сберегательных продуктов, таких как депозиты. Вместе с тем, они имеют большую оценку собственности и больший отток.**"
   ]
  },
  {
   "cell_type": "markdown",
   "metadata": {},
   "source": [
    "## Проверка статистических гипотез"
   ]
  },
  {
   "cell_type": "markdown",
   "metadata": {},
   "source": [
    "### Гипотеза о равенстве средних возрастов клиентов с 1 и 2-мя продуктами."
   ]
  },
  {
   "cell_type": "markdown",
   "metadata": {},
   "source": [
    "**С учетом выличины рассматриваемого датасета, согласно центральной предельной теореме, выборочное среднее распределено близко к нормальному вне зависимости от типа распределения генеральной совокупности при условии конечной дисперсии, поэтому для оценки статистической значимости разницы среднего возраста клиентов имеющих 1 и имеющих 2 продукта можно использовать t-тест для двух независимых выборок для проверки гипотезы о равенстве средних двух генеральных совокупностей.**"
   ]
  },
  {
   "cell_type": "markdown",
   "metadata": {},
   "source": [
    "1. **Сформулируем нулевую гипотезу:** нет статистически значимой разницы между средним возрастом клиентов с 1-м и 2-мя продуктами.\n",
    "2. **Сформулируем альтернативную гипотезу:** между средним возрастом пользователей с 1-м и 2-мя продуктами есть статистически значимая разница.\n"
   ]
  },
  {
   "cell_type": "code",
   "execution_count": 29,
   "metadata": {},
   "outputs": [
    {
     "name": "stdout",
     "output_type": "stream",
     "text": [
      "p-value: 0.03299080704232691\n",
      "Нет оснований отвергнуть нулевую гипотезу\n"
     ]
    }
   ],
   "source": [
    "# зададим уровень статистической значимости\n",
    "alpha = 0.01 # установим уровень статистической значимости 0.01, т.к. выборка большая\n",
    "\n",
    "one_prod_clients_age = data.dropna(subset = ['age']).query('products == 1')['age']\n",
    "\n",
    "two_prod_clients_age = data.dropna(subset = ['age']).query('products == 2')['age']\n",
    "\n",
    "# проводим t-test для двух выборок\n",
    "# используем параметр equal_var=False, т.к. размеры выборок разные\n",
    "\n",
    "results = st.ttest_ind(one_prod_clients_age, two_prod_clients_age, equal_var=False)\n",
    "\n",
    "print(f'p-value: {results.pvalue}')\n",
    "\n",
    "if results.pvalue < alpha:\n",
    "    print('Отвергаем нулевую гипотезу')\n",
    "else:\n",
    "    print('Нет оснований отвергнуть нулевую гипотезу')"
   ]
  },
  {
   "cell_type": "markdown",
   "metadata": {},
   "source": [
    "**С учетом выбранного уровня статистической значимости полученный p-value позволяет не отвергать гипотезу в пользу альтернативной - между средним возрастом клиентов с 1-м и 2-мя продуктами нет статистически значимой разницы.**"
   ]
  },
  {
   "cell_type": "markdown",
   "metadata": {},
   "source": [
    "### Гипотеза о равенстве долей оттока мужчин и женщин"
   ]
  },
  {
   "cell_type": "markdown",
   "metadata": {},
   "source": [
    "**Проверим гипотезу раазнице долей оттока среди мужчин и женщин, которых в банке примерно равное количество (4991 и 4983 соответственно). Для проверки равенства долей используется z-тест.**\n",
    "1. **Сформулируем нулевую гипотезу:** между долей уходящих клиентов-мужчин и клиентов-женщин нет статистически значимой разницы.\n",
    "2. **Сформулируем альтернативную гипотезу:** между долей уходящих клиентов-мужчин и клиентов-женщин есть статистически значимая разница."
   ]
  },
  {
   "cell_type": "code",
   "execution_count": 30,
   "metadata": {},
   "outputs": [
    {
     "name": "stdout",
     "output_type": "stream",
     "text": [
      "p-значение:  0.0\n",
      "Отвергаем нулевую гипотезу: между долями есть значимая разница\n"
     ]
    }
   ],
   "source": [
    "# Проверим разницу долей с помощью z-теста\n",
    "\n",
    "alpha = 0.01\n",
    "\n",
    "successes = np.array([data.query('gender_copy_М == 1 and churn == 1')['user_id'].count(), data.query('gender_copy_М == 0 and churn == 1')['user_id'].count()])\n",
    "trials = np.array([data.query('gender_copy_М == 1 and churn == 0')['user_id'].count(), data.query('gender_copy_М == 0 and churn == 0')['user_id'].count()])\n",
    "\n",
    "# доля оттока среди мужчин:\n",
    "p1 = successes[0]/trials[0]\n",
    "\n",
    "# доля оттока среди женщин:\n",
    "p2 = successes[1]/trials[1]\n",
    "\n",
    "# пропорция успехов в комбинированном датасете:\n",
    "p_combined = (successes[0] + successes[1]) / (trials[0] + trials[1])\n",
    "\n",
    "# разница пропорций в датасетах\n",
    "difference = p1 - p2 \n",
    "\n",
    "# считаем статистику в ст.отклонениях стандартного нормального распределения\n",
    "z_value = difference / mth.sqrt(p_combined * (1 - p_combined) * (1/trials[0] + 1/trials[1]))\n",
    "\n",
    "# задаем стандартное нормальное распределение (среднее 0, ст.отклонение 1)\n",
    "distr = st.norm(0, 1)  \n",
    "\n",
    "p_value = (1 - distr.cdf(abs(z_value))) * 2\n",
    "\n",
    "print('p-значение: ', p_value)\n",
    "\n",
    "if p_value < alpha:\n",
    "    print('Отвергаем нулевую гипотезу: между долями есть значимая разница')\n",
    "else:\n",
    "    print(\n",
    "        'Не получилось отвергнуть нулевую гипотезу, нет оснований считать доли разными'\n",
    "    ) "
   ]
  },
  {
   "cell_type": "markdown",
   "metadata": {},
   "source": [
    "**Полученное значение p-value позволяет отклонить нулевую гипотезу в пользу альтернативной - между долями есть статистически значимая разница**"
   ]
  },
  {
   "cell_type": "markdown",
   "metadata": {},
   "source": [
    "## Промежуточные выводы"
   ]
  },
  {
   "cell_type": "markdown",
   "metadata": {},
   "source": [
    "1. Анализ портрета среднего клиента (с признаком оттока, без него и среднего по банку) показал, что:\n",
    "    - уходящий клиент, как правило, моложе, среднестатического клиента Банка, имеет большую оценочную заработную плату, большие остатки на пассивных счетах, баллы скоринга и имеет более высокую оценку собственности \n",
    "    - клиент, который остается, наоборот - старше, имеет балл скоринга, остатки на пассивных счетах и оченочную заработную плату ниже среднестатического клиента Банка.\n",
    "    \n",
    "    Таким образом, уходящие клиенты - клиенты довольно высокого качетва с точки зрения потенциального дохода банка, о чем говорят сравнительно высокие показатели дохода, остатков и скоринга, а также качества собственности.\n",
    "    \n",
    "2. Анализ распределения непрерывных признаков в разрезе признака оттока также подтвердили, что вероятность оттока на более высоких значения дохода и остатков выше.\n",
    "\n",
    "3. Анлиз распределенияя категориальных и дискретных признаков также подтвердил, выводы, полученные в результате анализа портрета клиента: среди клиентов, с оценкой собственности от 3-х (по шкале до 9) доля оттока выше среднебанковской. Кроме того, доля оттока выше среднебанковской среди клиентов, имеющих от 3-х продуктов, а также среди тех, у кого нет кредитной карты, среди мужчин и среди активных пользователей.\n",
    "\n",
    "4. Анализ связей между признаками показал, что на отток наиболее сильно влияет оценка собственности (35%), активность и количество продуктов (по 26 %), баллы скоринга (23 %), пол (22 %), наличие кредитной карты (20 %) и возраст (19 %). При этом, ряд признаков сильно коррелирует между собой - количество продуктов и оценка собственности (58 %), баллы скоринга и оценка собственности (53 %), баллы скоринга и количество продуктов (42 %), баллы скоринга и оценочная з/п (доход) (40 %).\n",
    "\n",
    "5. Анализ статистических гипотез подтвердил наличие статистически значимой разницы в долях оттока мужчин и женщин, а установил, что статистической разницы в возрасте между клиентами с одним и двумя продуктами нет.\n",
    "\n",
    "Таким образом, наиболее сильно оттоку подвержены клиенты:\n",
    "- с большим количеством продуктов (возможно, в банке нет конкурентоспособных \"коробочных\" продуктов, когда их сочетание делает использование выгоднее, например, использование одного, дает скидку на другой, либо неконкурентоспособны условия по различным дополнительным продуктам отличным от кредитной и дебетовой карты - это требует дополнительного анализа таких продуктов)\n",
    "- имеющие сравнительно большие остатки на счетах, доход и баллы скоринга (возможно, нет отдельно выделенного направления работы с вип-клиентыми или оно развито в недостаточной степени, а также отдельного исследования требуют продукты банка по управлению пассивами - депозити, инвестиционные и сберегательные счета)\n",
    "- имеющие высокую оценку собственности (особое внимание стоит уделить страховым продуктам)\n",
    "- не имеющие кредитную карту (наличие долговых обязательств, вероятно, сильнее удерживает клиента в банке, чем пассивные продукты, т.к. требуется больше усилий для смены банка)"
   ]
  },
  {
   "cell_type": "markdown",
   "metadata": {},
   "source": [
    "## Сегментация"
   ]
  },
  {
   "cell_type": "markdown",
   "metadata": {},
   "source": [
    "**С учетом проведенного анализа выведем несколько сегментов клиентов, подверженных оттоку, и дадим рекомендации по работе с каждым из них.** "
   ]
  },
  {
   "cell_type": "code",
   "execution_count": 31,
   "metadata": {},
   "outputs": [],
   "source": [
    "# Создадим функцию для формирования сегмента по заданным условиям и оценки его размера и качества\n",
    "def get_segment(clause):\n",
    "    segment = data.query(clause).agg({'churn': ['mean', 'sum', 'count']}).T.rename(columns = {'mean': 'Доля оттока', 'sum': 'Количество уходящих', 'count': 'Размер сегмента'})\n",
    "    segment['Превышение среднего оттока'] = segment['Доля оттока']/data['churn'].mean()\n",
    "    return segment"
   ]
  },
  {
   "cell_type": "code",
   "execution_count": 32,
   "metadata": {},
   "outputs": [
    {
     "data": {
      "text/html": [
       "<div>\n",
       "<style scoped>\n",
       "    .dataframe tbody tr th:only-of-type {\n",
       "        vertical-align: middle;\n",
       "    }\n",
       "\n",
       "    .dataframe tbody tr th {\n",
       "        vertical-align: top;\n",
       "    }\n",
       "\n",
       "    .dataframe thead th {\n",
       "        text-align: right;\n",
       "    }\n",
       "</style>\n",
       "<table border=\"1\" class=\"dataframe\">\n",
       "  <thead>\n",
       "    <tr style=\"text-align: right;\">\n",
       "      <th></th>\n",
       "      <th>Доля оттока</th>\n",
       "      <th>Количество уходящих</th>\n",
       "      <th>Размер сегмента</th>\n",
       "      <th>Превышение среднего оттока</th>\n",
       "    </tr>\n",
       "  </thead>\n",
       "  <tbody>\n",
       "    <tr>\n",
       "      <th>Нет кредитной карты + Возраст до 35 + Активность</th>\n",
       "      <td>0.50</td>\n",
       "      <td>230.00</td>\n",
       "      <td>463.00</td>\n",
       "      <td>2.73</td>\n",
       "    </tr>\n",
       "  </tbody>\n",
       "</table>\n",
       "</div>"
      ],
      "text/plain": [
       "                                                  Доля оттока  \\\n",
       "Нет кредитной карты + Возраст до 35 + Активность         0.50   \n",
       "\n",
       "                                                  Количество уходящих  \\\n",
       "Нет кредитной карты + Возраст до 35 + Активность               230.00   \n",
       "\n",
       "                                                  Размер сегмента  \\\n",
       "Нет кредитной карты + Возраст до 35 + Активность           463.00   \n",
       "\n",
       "                                                  Превышение среднего оттока  \n",
       "Нет кредитной карты + Возраст до 35 + Активность                        2.73  "
      ]
     },
     "execution_count": 32,
     "metadata": {},
     "output_type": "execute_result"
    }
   ],
   "source": [
    "# Сегмент 1: активные молодые клиенты без кредитной карты\n",
    "\n",
    "segment_1 = get_segment('credit_card == 0 and age < 35 and last_activity == 1')\n",
    "segment_1 = segment_1.rename(index = {'churn':'Нет кредитной карты + Возраст до 35 + Активность'})\n",
    "segment_1"
   ]
  },
  {
   "cell_type": "code",
   "execution_count": 33,
   "metadata": {},
   "outputs": [
    {
     "data": {
      "text/html": [
       "<div>\n",
       "<style scoped>\n",
       "    .dataframe tbody tr th:only-of-type {\n",
       "        vertical-align: middle;\n",
       "    }\n",
       "\n",
       "    .dataframe tbody tr th {\n",
       "        vertical-align: top;\n",
       "    }\n",
       "\n",
       "    .dataframe thead th {\n",
       "        text-align: right;\n",
       "    }\n",
       "</style>\n",
       "<table border=\"1\" class=\"dataframe\">\n",
       "  <thead>\n",
       "    <tr style=\"text-align: right;\">\n",
       "      <th></th>\n",
       "      <th>Доля оттока</th>\n",
       "      <th>Количество уходящих</th>\n",
       "      <th>Размер сегмента</th>\n",
       "      <th>Превышение среднего оттока</th>\n",
       "    </tr>\n",
       "  </thead>\n",
       "  <tbody>\n",
       "    <tr>\n",
       "      <th>Мужчины с оценкой собственности &gt; 4 и доходом от 100 до 220 тыс.</th>\n",
       "      <td>0.41</td>\n",
       "      <td>399.00</td>\n",
       "      <td>970.00</td>\n",
       "      <td>2.26</td>\n",
       "    </tr>\n",
       "  </tbody>\n",
       "</table>\n",
       "</div>"
      ],
      "text/plain": [
       "                                                    Доля оттока  \\\n",
       "Мужчины с оценкой собственности > 4 и доходом о...         0.41   \n",
       "\n",
       "                                                    Количество уходящих  \\\n",
       "Мужчины с оценкой собственности > 4 и доходом о...               399.00   \n",
       "\n",
       "                                                    Размер сегмента  \\\n",
       "Мужчины с оценкой собственности > 4 и доходом о...           970.00   \n",
       "\n",
       "                                                    Превышение среднего оттока  \n",
       "Мужчины с оценкой собственности > 4 и доходом о...                        2.26  "
      ]
     },
     "execution_count": 33,
     "metadata": {},
     "output_type": "execute_result"
    }
   ],
   "source": [
    "#  Сегмент 2: мужчины с собственностью и высокой з/п\n",
    "\n",
    "segment_2 = get_segment('gender_copy_М == 1 and equity >= 4 and est_salary >= 100000 and est_salary <= 220000')\n",
    "segment_2 = segment_2.rename(index = {'churn':'Мужчины с оценкой собственности > 4 и доходом от 100 до 220 тыс.'})\n",
    "segment_2"
   ]
  },
  {
   "cell_type": "code",
   "execution_count": 34,
   "metadata": {},
   "outputs": [
    {
     "data": {
      "text/html": [
       "<div>\n",
       "<style scoped>\n",
       "    .dataframe tbody tr th:only-of-type {\n",
       "        vertical-align: middle;\n",
       "    }\n",
       "\n",
       "    .dataframe tbody tr th {\n",
       "        vertical-align: top;\n",
       "    }\n",
       "\n",
       "    .dataframe thead th {\n",
       "        text-align: right;\n",
       "    }\n",
       "</style>\n",
       "<table border=\"1\" class=\"dataframe\">\n",
       "  <thead>\n",
       "    <tr style=\"text-align: right;\">\n",
       "      <th></th>\n",
       "      <th>Доля оттока</th>\n",
       "      <th>Количество уходящих</th>\n",
       "      <th>Размер сегмента</th>\n",
       "      <th>Превышение среднего оттока</th>\n",
       "    </tr>\n",
       "  </thead>\n",
       "  <tbody>\n",
       "    <tr>\n",
       "      <th>От трех продуктов, баланс от 700000, балл скоринга от 820</th>\n",
       "      <td>0.59</td>\n",
       "      <td>342.00</td>\n",
       "      <td>584.00</td>\n",
       "      <td>3.22</td>\n",
       "    </tr>\n",
       "  </tbody>\n",
       "</table>\n",
       "</div>"
      ],
      "text/plain": [
       "                                                    Доля оттока  \\\n",
       "От трех продуктов, баланс от 700000, балл скори...         0.59   \n",
       "\n",
       "                                                    Количество уходящих  \\\n",
       "От трех продуктов, баланс от 700000, балл скори...               342.00   \n",
       "\n",
       "                                                    Размер сегмента  \\\n",
       "От трех продуктов, баланс от 700000, балл скори...           584.00   \n",
       "\n",
       "                                                    Превышение среднего оттока  \n",
       "От трех продуктов, баланс от 700000, балл скори...                        3.22  "
      ]
     },
     "execution_count": 34,
     "metadata": {},
     "output_type": "execute_result"
    }
   ],
   "source": [
    "#  Сегмент 3: Клиенты с высокими пассивами, баллами скоринга и имеющие несколько (от 3х продуктов)\n",
    "\n",
    "segment_3 = get_segment('products >= 3 and balance >= 700000 and score > 820')\n",
    "segment_3 = segment_3.rename(index = {'churn':'От трех продуктов, баланс от 700000, балл скоринга от 820'})\n",
    "segment_3"
   ]
  },
  {
   "cell_type": "markdown",
   "metadata": {},
   "source": [
    "**Объединим сегменты в одну таблицу**"
   ]
  },
  {
   "cell_type": "code",
   "execution_count": 35,
   "metadata": {},
   "outputs": [
    {
     "data": {
      "text/html": [
       "<div>\n",
       "<style scoped>\n",
       "    .dataframe tbody tr th:only-of-type {\n",
       "        vertical-align: middle;\n",
       "    }\n",
       "\n",
       "    .dataframe tbody tr th {\n",
       "        vertical-align: top;\n",
       "    }\n",
       "\n",
       "    .dataframe thead th {\n",
       "        text-align: right;\n",
       "    }\n",
       "</style>\n",
       "<table border=\"1\" class=\"dataframe\">\n",
       "  <thead>\n",
       "    <tr style=\"text-align: right;\">\n",
       "      <th></th>\n",
       "      <th>Доля оттока</th>\n",
       "      <th>Количество уходящих</th>\n",
       "      <th>Размер сегмента</th>\n",
       "      <th>Превышение среднего оттока</th>\n",
       "    </tr>\n",
       "  </thead>\n",
       "  <tbody>\n",
       "    <tr>\n",
       "      <th>Нет кредитной карты + Возраст до 35 + Активность</th>\n",
       "      <td>0.50</td>\n",
       "      <td>230.00</td>\n",
       "      <td>463.00</td>\n",
       "      <td>2.73</td>\n",
       "    </tr>\n",
       "    <tr>\n",
       "      <th>Мужчины с оценкой собственности &gt; 4 и доходом от 100 до 220 тыс.</th>\n",
       "      <td>0.41</td>\n",
       "      <td>399.00</td>\n",
       "      <td>970.00</td>\n",
       "      <td>2.26</td>\n",
       "    </tr>\n",
       "    <tr>\n",
       "      <th>От трех продуктов, баланс от 700000, балл скоринга от 820</th>\n",
       "      <td>0.59</td>\n",
       "      <td>342.00</td>\n",
       "      <td>584.00</td>\n",
       "      <td>3.22</td>\n",
       "    </tr>\n",
       "  </tbody>\n",
       "</table>\n",
       "</div>"
      ],
      "text/plain": [
       "                                                    Доля оттока  \\\n",
       "Нет кредитной карты + Возраст до 35 + Активность           0.50   \n",
       "Мужчины с оценкой собственности > 4 и доходом о...         0.41   \n",
       "От трех продуктов, баланс от 700000, балл скори...         0.59   \n",
       "\n",
       "                                                    Количество уходящих  \\\n",
       "Нет кредитной карты + Возраст до 35 + Активность                 230.00   \n",
       "Мужчины с оценкой собственности > 4 и доходом о...               399.00   \n",
       "От трех продуктов, баланс от 700000, балл скори...               342.00   \n",
       "\n",
       "                                                    Размер сегмента  \\\n",
       "Нет кредитной карты + Возраст до 35 + Активность             463.00   \n",
       "Мужчины с оценкой собственности > 4 и доходом о...           970.00   \n",
       "От трех продуктов, баланс от 700000, балл скори...           584.00   \n",
       "\n",
       "                                                    Превышение среднего оттока  \n",
       "Нет кредитной карты + Возраст до 35 + Активность                          2.73  \n",
       "Мужчины с оценкой собственности > 4 и доходом о...                        2.26  \n",
       "От трех продуктов, баланс от 700000, балл скори...                        3.22  "
      ]
     },
     "execution_count": 35,
     "metadata": {},
     "output_type": "execute_result"
    }
   ],
   "source": [
    "pivot_segments = pd.concat([segment_1, segment_2, segment_3])\n",
    "pivot_segments"
   ]
  },
  {
   "cell_type": "markdown",
   "metadata": {},
   "source": [
    "## Выводы и рекомендации"
   ]
  },
  {
   "cell_type": "markdown",
   "metadata": {},
   "source": [
    "На основании данных о действующих клиентах банка был проведен анализ, который позволил выделить 4 сегмента клиентов, в которых доля оттока более чем в два раза превышает среднюю по банку. С учетом специфики сегментов, предложим ряд мер, направленных на удержание клиентов в банке."
   ]
  },
  {
   "cell_type": "markdown",
   "metadata": {},
   "source": [
    "**Сегмент 1. Активные молодые клиенты без кредитной карты.** \n",
    "\n",
    "**Критерии:** Нет кредитной карты, возраст до 35 лет, активные клиенты\n",
    "\n",
    "**Размер сегмента**: 463 человека. \n",
    "\n",
    "**Доля оттока**: 50 %\n",
    "\n",
    "**Меры**: Молодые клиенты, уже активно использующие продукты банка, но у которых до сих пор нет кредитной карты. Возможно, они являются зарплатными клиентами и, соответственно, даже имеют льготные условия, о которых им неизвестно, или пользуются кредитной картой другого банка. Рекомендацией может быть дополнительное информирование в виде предодобренных предложений по кредитным картам исходя из баллов скоринга при обращении в банк или действиях с действующими продуктами банка, а также использование в рекламе фокуса на молодой возраст и потребности, которые можно закрыть с помощью кредитной карты - петешествия, спорт, дополнительное образование."
   ]
  },
  {
   "cell_type": "markdown",
   "metadata": {},
   "source": [
    "**Сегмент 2. Мужчины с качественной собственностью и средним+ доходом** \n",
    "\n",
    "**Критерии:**  Мужчины, оценка собственности от 4,  доход от 100 до 220 тыс. руб. \n",
    "\n",
    "**Размер сегмента**: 970 человек. \n",
    "\n",
    "**Доля оттока**: 41 %\n",
    "\n",
    "**Меры**: Мужчины, у которых есть ценная с точки зрения банка собственность и средний по банку или выше доход. Эффективным может быть предложение страховых продуктов для сохранения собственности, а также кредитные продукты, которые исходя из наличия ликвидного ценного залога могут быть предложены на более выгодных условиях, чем для среднестатического клиента банка - по более низкой ставке или в большем размере. Также возможен фокус на пол в рекламе, например, предложение потребительского кредита в соответствии с потребностями и особенностями целевого сегмента - на ремонт дома, автомобиля или покупку гаража, а также размещение рекламы в спортзалах, автосервисах, строительных магазинах и пр."
   ]
  },
  {
   "cell_type": "markdown",
   "metadata": {},
   "source": [
    "**Сегмент 3. Клиенты с несколькими (от 3-х) продуктами, высокими остатками на пассивных счетах и высокими баллами скоринга** \n",
    "\n",
    "**Критерии:** От трех продуктов, остатки на пассивных счетах от 700 000 руб., баллы скоринга от 820 (по шкале до 1000)\n",
    "\n",
    "**Размер сегмента**: 584 человека. \n",
    "\n",
    "**Доля оттока**: 59 %\n",
    "\n",
    "**Меры**: Качественные клиента банка (с высокими баллами скоринга, которые тесно связаны с баллом собственности и оценочной заработной платой) с отностительно высокими баллами скоринга и несколькими продуктами. Эффективным может быть разработка \"коробочных\" продуктов, когда совместное использование продуктов делает их более выгодным для клиента, а также дает возможность банку заработать на дополнительном к тому что уже имеет клиент наполнению коробки. Такие пакетные предложения есть у других банков и их отсутствие может привести к уходу клиента в другой банк. Также стоит обратить внимание на инструменты управления пассивами для клиентов с высокими доходами, например, инвестиционные и сберегательные счета. Более эффективным может быть работы с такими клиентами напрямую через персональных менеджеров, вместо использования рассылки и иных массовых методов."
   ]
  }
 ],
 "metadata": {
  "ExecuteTimeLog": [
   {
    "duration": 4,
    "start_time": "2024-07-26T10:50:56.575Z"
   },
   {
    "duration": 2,
    "start_time": "2024-07-26T10:50:58.055Z"
   },
   {
    "duration": 3,
    "start_time": "2024-07-26T10:51:02.847Z"
   },
   {
    "duration": 55,
    "start_time": "2024-07-26T10:52:38.076Z"
   },
   {
    "duration": 489,
    "start_time": "2024-07-26T10:52:59.019Z"
   },
   {
    "duration": 85,
    "start_time": "2024-07-26T10:53:10.854Z"
   },
   {
    "duration": 127,
    "start_time": "2024-07-26T10:55:31.861Z"
   },
   {
    "duration": 81,
    "start_time": "2024-07-26T10:55:45.774Z"
   },
   {
    "duration": 13,
    "start_time": "2024-07-26T10:55:59.614Z"
   },
   {
    "duration": 1862,
    "start_time": "2024-08-05T04:40:10.265Z"
   },
   {
    "duration": 96,
    "start_time": "2024-08-05T04:40:12.129Z"
   },
   {
    "duration": 8,
    "start_time": "2024-08-05T04:40:12.226Z"
   },
   {
    "duration": 16,
    "start_time": "2024-08-05T04:40:12.236Z"
   },
   {
    "duration": 10,
    "start_time": "2024-08-05T04:40:12.253Z"
   },
   {
    "duration": 31,
    "start_time": "2024-08-05T04:40:12.264Z"
   },
   {
    "duration": 11,
    "start_time": "2024-08-05T04:40:12.297Z"
   },
   {
    "duration": 18,
    "start_time": "2024-08-05T04:40:12.310Z"
   },
   {
    "duration": 12,
    "start_time": "2024-08-05T04:40:12.330Z"
   },
   {
    "duration": 68,
    "start_time": "2024-08-05T04:40:12.345Z"
   },
   {
    "duration": 3,
    "start_time": "2024-08-05T04:40:12.415Z"
   },
   {
    "duration": 47,
    "start_time": "2024-08-05T04:40:12.419Z"
   },
   {
    "duration": 1226,
    "start_time": "2024-08-05T04:40:12.467Z"
   },
   {
    "duration": 350,
    "start_time": "2024-08-05T04:40:13.696Z"
   },
   {
    "duration": 65,
    "start_time": "2024-08-05T04:40:14.048Z"
   },
   {
    "duration": 15,
    "start_time": "2024-08-05T04:40:14.114Z"
   },
   {
    "duration": 5,
    "start_time": "2024-08-05T04:40:14.130Z"
   },
   {
    "duration": 3,
    "start_time": "2024-08-05T04:40:14.137Z"
   },
   {
    "duration": 323,
    "start_time": "2024-08-05T04:40:14.142Z"
   },
   {
    "duration": 67,
    "start_time": "2024-08-05T04:40:14.467Z"
   },
   {
    "duration": 2649,
    "start_time": "2024-08-05T04:40:14.536Z"
   },
   {
    "duration": 1608,
    "start_time": "2024-08-05T04:40:17.193Z"
   },
   {
    "duration": 1886,
    "start_time": "2024-08-05T04:40:18.802Z"
   },
   {
    "duration": 913,
    "start_time": "2024-08-05T04:40:20.696Z"
   },
   {
    "duration": 122,
    "start_time": "2024-08-05T04:40:21.611Z"
   },
   {
    "duration": 264,
    "start_time": "2024-08-05T04:40:21.735Z"
   },
   {
    "duration": 11,
    "start_time": "2024-08-05T04:40:22.000Z"
   },
   {
    "duration": 31,
    "start_time": "2024-08-05T04:40:22.014Z"
   },
   {
    "duration": 30,
    "start_time": "2024-08-05T04:40:22.047Z"
   },
   {
    "duration": 26,
    "start_time": "2024-08-05T04:40:22.079Z"
   },
   {
    "duration": 19,
    "start_time": "2024-08-05T04:40:22.107Z"
   },
   {
    "duration": 19,
    "start_time": "2024-08-05T04:40:22.128Z"
   },
   {
    "duration": 12,
    "start_time": "2024-08-05T04:40:22.149Z"
   },
   {
    "duration": 1660,
    "start_time": "2024-08-06T00:00:38.197Z"
   },
   {
    "duration": 0,
    "start_time": "2024-08-06T00:00:39.860Z"
   },
   {
    "duration": 0,
    "start_time": "2024-08-06T00:00:39.861Z"
   },
   {
    "duration": 0,
    "start_time": "2024-08-06T00:00:39.862Z"
   },
   {
    "duration": 0,
    "start_time": "2024-08-06T00:00:39.863Z"
   },
   {
    "duration": 0,
    "start_time": "2024-08-06T00:00:39.864Z"
   },
   {
    "duration": 0,
    "start_time": "2024-08-06T00:00:39.864Z"
   },
   {
    "duration": 0,
    "start_time": "2024-08-06T00:00:39.865Z"
   },
   {
    "duration": 0,
    "start_time": "2024-08-06T00:00:39.866Z"
   },
   {
    "duration": 0,
    "start_time": "2024-08-06T00:00:39.867Z"
   },
   {
    "duration": 0,
    "start_time": "2024-08-06T00:00:39.868Z"
   },
   {
    "duration": 0,
    "start_time": "2024-08-06T00:00:39.868Z"
   },
   {
    "duration": 0,
    "start_time": "2024-08-06T00:00:39.869Z"
   },
   {
    "duration": 0,
    "start_time": "2024-08-06T00:00:39.870Z"
   },
   {
    "duration": 0,
    "start_time": "2024-08-06T00:00:39.871Z"
   },
   {
    "duration": 0,
    "start_time": "2024-08-06T00:00:39.872Z"
   },
   {
    "duration": 0,
    "start_time": "2024-08-06T00:00:39.873Z"
   },
   {
    "duration": 0,
    "start_time": "2024-08-06T00:00:39.873Z"
   },
   {
    "duration": 0,
    "start_time": "2024-08-06T00:00:39.874Z"
   },
   {
    "duration": 0,
    "start_time": "2024-08-06T00:00:39.875Z"
   },
   {
    "duration": 0,
    "start_time": "2024-08-06T00:00:39.902Z"
   },
   {
    "duration": 0,
    "start_time": "2024-08-06T00:00:39.903Z"
   },
   {
    "duration": 0,
    "start_time": "2024-08-06T00:00:39.903Z"
   },
   {
    "duration": 0,
    "start_time": "2024-08-06T00:00:39.904Z"
   },
   {
    "duration": 0,
    "start_time": "2024-08-06T00:00:39.905Z"
   },
   {
    "duration": 0,
    "start_time": "2024-08-06T00:00:39.906Z"
   },
   {
    "duration": 0,
    "start_time": "2024-08-06T00:00:39.907Z"
   },
   {
    "duration": 0,
    "start_time": "2024-08-06T00:00:39.908Z"
   },
   {
    "duration": 0,
    "start_time": "2024-08-06T00:00:39.908Z"
   },
   {
    "duration": 0,
    "start_time": "2024-08-06T00:00:39.909Z"
   },
   {
    "duration": 0,
    "start_time": "2024-08-06T00:00:39.910Z"
   },
   {
    "duration": 0,
    "start_time": "2024-08-06T00:00:39.911Z"
   },
   {
    "duration": 0,
    "start_time": "2024-08-06T00:00:39.912Z"
   },
   {
    "duration": 0,
    "start_time": "2024-08-06T00:00:39.912Z"
   },
   {
    "duration": 3478,
    "start_time": "2024-08-06T00:04:25.958Z"
   },
   {
    "duration": 55,
    "start_time": "2024-08-06T00:04:41.673Z"
   },
   {
    "duration": 119,
    "start_time": "2024-08-06T00:04:41.729Z"
   },
   {
    "duration": 6,
    "start_time": "2024-08-06T00:04:41.849Z"
   },
   {
    "duration": 15,
    "start_time": "2024-08-06T00:04:41.856Z"
   },
   {
    "duration": 15,
    "start_time": "2024-08-06T00:04:41.873Z"
   },
   {
    "duration": 741,
    "start_time": "2024-08-06T00:04:41.889Z"
   },
   {
    "duration": 146,
    "start_time": "2024-08-06T00:04:42.632Z"
   },
   {
    "duration": 4,
    "start_time": "2024-08-06T00:04:42.779Z"
   },
   {
    "duration": 593,
    "start_time": "2024-08-06T00:04:42.785Z"
   },
   {
    "duration": 9,
    "start_time": "2024-08-06T00:04:43.380Z"
   },
   {
    "duration": 19,
    "start_time": "2024-08-06T00:04:43.402Z"
   },
   {
    "duration": 9,
    "start_time": "2024-08-06T00:04:43.423Z"
   },
   {
    "duration": 36,
    "start_time": "2024-08-06T00:04:43.434Z"
   },
   {
    "duration": 3,
    "start_time": "2024-08-06T00:04:43.471Z"
   },
   {
    "duration": 36,
    "start_time": "2024-08-06T00:04:43.475Z"
   },
   {
    "duration": 846,
    "start_time": "2024-08-06T00:04:43.513Z"
   },
   {
    "duration": 278,
    "start_time": "2024-08-06T00:04:44.360Z"
   },
   {
    "duration": 32,
    "start_time": "2024-08-06T00:04:44.639Z"
   },
   {
    "duration": 57,
    "start_time": "2024-08-06T00:04:44.672Z"
   },
   {
    "duration": 85,
    "start_time": "2024-08-06T00:04:44.730Z"
   },
   {
    "duration": 227,
    "start_time": "2024-08-06T00:04:44.816Z"
   },
   {
    "duration": 46,
    "start_time": "2024-08-06T00:04:45.044Z"
   },
   {
    "duration": 1439,
    "start_time": "2024-08-06T00:04:45.091Z"
   },
   {
    "duration": 1053,
    "start_time": "2024-08-06T00:04:46.532Z"
   },
   {
    "duration": 1414,
    "start_time": "2024-08-06T00:04:47.586Z"
   },
   {
    "duration": 703,
    "start_time": "2024-08-06T00:04:49.001Z"
   },
   {
    "duration": 21,
    "start_time": "2024-08-06T00:04:49.706Z"
   },
   {
    "duration": 30,
    "start_time": "2024-08-06T00:04:49.730Z"
   },
   {
    "duration": 0,
    "start_time": "2024-08-06T00:04:49.761Z"
   },
   {
    "duration": 0,
    "start_time": "2024-08-06T00:04:49.762Z"
   },
   {
    "duration": 0,
    "start_time": "2024-08-06T00:04:49.763Z"
   },
   {
    "duration": 0,
    "start_time": "2024-08-06T00:04:49.764Z"
   },
   {
    "duration": 0,
    "start_time": "2024-08-06T00:04:49.765Z"
   },
   {
    "duration": 0,
    "start_time": "2024-08-06T00:04:49.766Z"
   },
   {
    "duration": 13,
    "start_time": "2024-08-06T00:07:42.849Z"
   },
   {
    "duration": 14,
    "start_time": "2024-08-06T00:10:01.856Z"
   },
   {
    "duration": 14,
    "start_time": "2024-08-06T00:10:25.871Z"
   },
   {
    "duration": 16,
    "start_time": "2024-08-06T00:10:25.886Z"
   },
   {
    "duration": 3,
    "start_time": "2024-08-06T00:10:25.903Z"
   },
   {
    "duration": 13,
    "start_time": "2024-08-06T00:10:25.907Z"
   },
   {
    "duration": 11,
    "start_time": "2024-08-06T00:10:25.922Z"
   },
   {
    "duration": 10,
    "start_time": "2024-08-06T00:10:25.934Z"
   },
   {
    "duration": 24,
    "start_time": "2024-08-06T00:10:25.945Z"
   },
   {
    "duration": 2046,
    "start_time": "2024-08-06T09:49:17.055Z"
   },
   {
    "duration": 0,
    "start_time": "2024-08-06T09:49:19.107Z"
   },
   {
    "duration": 0,
    "start_time": "2024-08-06T09:49:19.108Z"
   },
   {
    "duration": 0,
    "start_time": "2024-08-06T09:49:19.109Z"
   },
   {
    "duration": 0,
    "start_time": "2024-08-06T09:49:19.110Z"
   },
   {
    "duration": 0,
    "start_time": "2024-08-06T09:49:19.111Z"
   },
   {
    "duration": 0,
    "start_time": "2024-08-06T09:49:19.112Z"
   },
   {
    "duration": 0,
    "start_time": "2024-08-06T09:49:19.113Z"
   },
   {
    "duration": 0,
    "start_time": "2024-08-06T09:49:19.114Z"
   },
   {
    "duration": 0,
    "start_time": "2024-08-06T09:49:19.115Z"
   },
   {
    "duration": 0,
    "start_time": "2024-08-06T09:49:19.116Z"
   },
   {
    "duration": 0,
    "start_time": "2024-08-06T09:49:19.117Z"
   },
   {
    "duration": 0,
    "start_time": "2024-08-06T09:49:19.118Z"
   },
   {
    "duration": 0,
    "start_time": "2024-08-06T09:49:19.119Z"
   },
   {
    "duration": 0,
    "start_time": "2024-08-06T09:49:19.120Z"
   },
   {
    "duration": 0,
    "start_time": "2024-08-06T09:49:19.121Z"
   },
   {
    "duration": 0,
    "start_time": "2024-08-06T09:49:19.122Z"
   },
   {
    "duration": 0,
    "start_time": "2024-08-06T09:49:19.123Z"
   },
   {
    "duration": 0,
    "start_time": "2024-08-06T09:49:19.124Z"
   },
   {
    "duration": 0,
    "start_time": "2024-08-06T09:49:19.125Z"
   },
   {
    "duration": 0,
    "start_time": "2024-08-06T09:49:19.126Z"
   },
   {
    "duration": 0,
    "start_time": "2024-08-06T09:49:19.128Z"
   },
   {
    "duration": 0,
    "start_time": "2024-08-06T09:49:19.129Z"
   },
   {
    "duration": 0,
    "start_time": "2024-08-06T09:49:19.130Z"
   },
   {
    "duration": 0,
    "start_time": "2024-08-06T09:49:19.131Z"
   },
   {
    "duration": 0,
    "start_time": "2024-08-06T09:49:19.132Z"
   },
   {
    "duration": 0,
    "start_time": "2024-08-06T09:49:19.133Z"
   },
   {
    "duration": 0,
    "start_time": "2024-08-06T09:49:19.134Z"
   },
   {
    "duration": 0,
    "start_time": "2024-08-06T09:49:19.135Z"
   },
   {
    "duration": 0,
    "start_time": "2024-08-06T09:49:19.182Z"
   },
   {
    "duration": 0,
    "start_time": "2024-08-06T09:49:19.183Z"
   },
   {
    "duration": 0,
    "start_time": "2024-08-06T09:49:19.185Z"
   },
   {
    "duration": 0,
    "start_time": "2024-08-06T09:49:19.186Z"
   },
   {
    "duration": 0,
    "start_time": "2024-08-06T09:49:19.186Z"
   },
   {
    "duration": 3916,
    "start_time": "2024-08-06T09:56:26.307Z"
   },
   {
    "duration": 2743,
    "start_time": "2024-08-06T09:57:24.651Z"
   },
   {
    "duration": 1796,
    "start_time": "2024-08-06T09:57:27.396Z"
   },
   {
    "duration": 119,
    "start_time": "2024-08-06T09:57:29.193Z"
   },
   {
    "duration": 7,
    "start_time": "2024-08-06T09:57:29.314Z"
   },
   {
    "duration": 12,
    "start_time": "2024-08-06T09:57:29.323Z"
   },
   {
    "duration": 18,
    "start_time": "2024-08-06T09:57:29.336Z"
   },
   {
    "duration": 882,
    "start_time": "2024-08-06T09:57:29.356Z"
   },
   {
    "duration": 204,
    "start_time": "2024-08-06T09:57:30.239Z"
   },
   {
    "duration": 5,
    "start_time": "2024-08-06T09:57:30.445Z"
   },
   {
    "duration": 792,
    "start_time": "2024-08-06T09:57:30.453Z"
   },
   {
    "duration": 11,
    "start_time": "2024-08-06T09:57:31.247Z"
   },
   {
    "duration": 51,
    "start_time": "2024-08-06T09:57:31.260Z"
   },
   {
    "duration": 21,
    "start_time": "2024-08-06T09:57:31.313Z"
   },
   {
    "duration": 49,
    "start_time": "2024-08-06T09:57:31.336Z"
   },
   {
    "duration": 13,
    "start_time": "2024-08-06T09:57:31.388Z"
   },
   {
    "duration": 75,
    "start_time": "2024-08-06T09:57:31.403Z"
   },
   {
    "duration": 1178,
    "start_time": "2024-08-06T09:57:31.480Z"
   },
   {
    "duration": 378,
    "start_time": "2024-08-06T09:57:32.661Z"
   },
   {
    "duration": 59,
    "start_time": "2024-08-06T09:57:33.041Z"
   },
   {
    "duration": 16,
    "start_time": "2024-08-06T09:57:33.101Z"
   },
   {
    "duration": 8,
    "start_time": "2024-08-06T09:57:33.119Z"
   },
   {
    "duration": 319,
    "start_time": "2024-08-06T09:57:33.129Z"
   },
   {
    "duration": 73,
    "start_time": "2024-08-06T09:57:33.450Z"
   },
   {
    "duration": 1975,
    "start_time": "2024-08-06T09:57:33.525Z"
   },
   {
    "duration": 1497,
    "start_time": "2024-08-06T09:57:35.502Z"
   },
   {
    "duration": 1943,
    "start_time": "2024-08-06T09:57:37.001Z"
   },
   {
    "duration": 903,
    "start_time": "2024-08-06T09:57:38.946Z"
   },
   {
    "duration": 38,
    "start_time": "2024-08-06T09:57:39.853Z"
   },
   {
    "duration": 17,
    "start_time": "2024-08-06T09:57:39.893Z"
   },
   {
    "duration": 21,
    "start_time": "2024-08-06T09:57:39.912Z"
   },
   {
    "duration": 4,
    "start_time": "2024-08-06T09:57:39.935Z"
   },
   {
    "duration": 42,
    "start_time": "2024-08-06T09:57:39.941Z"
   },
   {
    "duration": 15,
    "start_time": "2024-08-06T09:57:39.985Z"
   },
   {
    "duration": 26,
    "start_time": "2024-08-06T09:57:40.001Z"
   },
   {
    "duration": 25,
    "start_time": "2024-08-06T09:57:40.029Z"
   }
  ],
  "kernelspec": {
   "display_name": "Python 3 (ipykernel)",
   "language": "python",
   "name": "python3"
  },
  "language_info": {
   "codemirror_mode": {
    "name": "ipython",
    "version": 3
   },
   "file_extension": ".py",
   "mimetype": "text/x-python",
   "name": "python",
   "nbconvert_exporter": "python",
   "pygments_lexer": "ipython3",
   "version": "3.9.18"
  },
  "toc": {
   "base_numbering": 1,
   "nav_menu": {},
   "number_sections": true,
   "sideBar": true,
   "skip_h1_title": true,
   "title_cell": "Table of Contents",
   "title_sidebar": "Contents",
   "toc_cell": false,
   "toc_position": {},
   "toc_section_display": true,
   "toc_window_display": false
  }
 },
 "nbformat": 4,
 "nbformat_minor": 2
}
