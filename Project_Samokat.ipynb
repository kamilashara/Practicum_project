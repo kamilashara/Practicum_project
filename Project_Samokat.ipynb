{
 "cells": [
  {
   "cell_type": "markdown",
   "id": "91e10c7f",
   "metadata": {},
   "source": [
    "# Исследование данных сервиса аренды самокатов\n"
   ]
  },
  {
   "cell_type": "markdown",
   "id": "b6793060",
   "metadata": {},
   "source": [
    "***Описание и цели проекта***\n",
    "\n",
    "Изучим данные сервиса аренды самокатов GoFast о пользователях и поездках, а также проверим несколько гипотез на основании трех датасетов, имеющихся в нашем распоряжении: \n",
    "\n",
    "- данные о пользователях: уникальный идентификатор пользователя, имя, возраст, город и тип подписки;\n",
    "- данные о поездказ: уникальный идентификатор пользователя, расстояние поездки в метрах, длительность поездки в минутах, дата поездки;\n",
    "- данные о двух возможных типах подписок: тип подписки, стоимость минуты поездки, стоимость начала поездки, стоимость ежемесячного платежа.\n",
    "    \n",
    "На основаниии указанных данных с целью определения возможных зон роста для бизнеса выполним следующие задачи:\n",
    "1. Изучим исходные датафреймы и выполним предобработку для дальнейшего анализа: проверим наличие пропусков, дубликатов и определим типы данных.\n",
    "2. Проведем исследовательский анализ данных: изучим данные о пользователях и поездках, выявим основные тенденции и характерные особенности, определим, как выглядит среднестатическая поездка и пользователь. \n",
    "3. Расммотрим две категории пользователей: с платной подлпиской и без. Опеределим различия в основных параметрах поездок пользователей каждой категории и изучим выручку, которую они приносят помесячно.  \n",
    "4. Проверим ряд гипотез, которые могут помочь улучшить показатели бизнеса."
   ]
  },
  {
   "cell_type": "code",
   "execution_count": 77,
   "id": "72576667",
   "metadata": {},
   "outputs": [],
   "source": [
    "import pandas as pd\n",
    "import matplotlib.pyplot as plt\n",
    "import numpy as np\n",
    "import scipy.stats as st\n",
    "from math import sqrt\n",
    "from scipy.stats import binom\n"
   ]
  },
  {
   "cell_type": "markdown",
   "id": "c42cbe00",
   "metadata": {},
   "source": [
    "## Загрузка данных <a id='download'></a>"
   ]
  },
  {
   "cell_type": "code",
   "execution_count": 78,
   "id": "eff9f206",
   "metadata": {},
   "outputs": [
    {
     "name": "stdout",
     "output_type": "stream",
     "text": [
      "<class 'pandas.core.frame.DataFrame'>\n",
      "RangeIndex: 1565 entries, 0 to 1564\n",
      "Data columns (total 5 columns):\n",
      " #   Column             Non-Null Count  Dtype \n",
      "---  ------             --------------  ----- \n",
      " 0   user_id            1565 non-null   int64 \n",
      " 1   name               1565 non-null   object\n",
      " 2   age                1565 non-null   int64 \n",
      " 3   city               1565 non-null   object\n",
      " 4   subscription_type  1565 non-null   object\n",
      "dtypes: int64(2), object(3)\n",
      "memory usage: 61.3+ KB\n"
     ]
    },
    {
     "data": {
      "text/html": [
       "<div>\n",
       "<style scoped>\n",
       "    .dataframe tbody tr th:only-of-type {\n",
       "        vertical-align: middle;\n",
       "    }\n",
       "\n",
       "    .dataframe tbody tr th {\n",
       "        vertical-align: top;\n",
       "    }\n",
       "\n",
       "    .dataframe thead th {\n",
       "        text-align: right;\n",
       "    }\n",
       "</style>\n",
       "<table border=\"1\" class=\"dataframe\">\n",
       "  <thead>\n",
       "    <tr style=\"text-align: right;\">\n",
       "      <th></th>\n",
       "      <th>user_id</th>\n",
       "      <th>name</th>\n",
       "      <th>age</th>\n",
       "      <th>city</th>\n",
       "      <th>subscription_type</th>\n",
       "    </tr>\n",
       "  </thead>\n",
       "  <tbody>\n",
       "    <tr>\n",
       "      <th>0</th>\n",
       "      <td>1</td>\n",
       "      <td>Кира</td>\n",
       "      <td>22</td>\n",
       "      <td>Тюмень</td>\n",
       "      <td>ultra</td>\n",
       "    </tr>\n",
       "    <tr>\n",
       "      <th>1</th>\n",
       "      <td>2</td>\n",
       "      <td>Станислав</td>\n",
       "      <td>31</td>\n",
       "      <td>Омск</td>\n",
       "      <td>ultra</td>\n",
       "    </tr>\n",
       "    <tr>\n",
       "      <th>2</th>\n",
       "      <td>3</td>\n",
       "      <td>Алексей</td>\n",
       "      <td>20</td>\n",
       "      <td>Москва</td>\n",
       "      <td>ultra</td>\n",
       "    </tr>\n",
       "    <tr>\n",
       "      <th>3</th>\n",
       "      <td>4</td>\n",
       "      <td>Константин</td>\n",
       "      <td>26</td>\n",
       "      <td>Ростов-на-Дону</td>\n",
       "      <td>ultra</td>\n",
       "    </tr>\n",
       "    <tr>\n",
       "      <th>4</th>\n",
       "      <td>5</td>\n",
       "      <td>Адель</td>\n",
       "      <td>28</td>\n",
       "      <td>Омск</td>\n",
       "      <td>ultra</td>\n",
       "    </tr>\n",
       "  </tbody>\n",
       "</table>\n",
       "</div>"
      ],
      "text/plain": [
       "   user_id        name  age            city subscription_type\n",
       "0        1        Кира   22          Тюмень             ultra\n",
       "1        2   Станислав   31            Омск             ultra\n",
       "2        3     Алексей   20          Москва             ultra\n",
       "3        4  Константин   26  Ростов-на-Дону             ultra\n",
       "4        5       Адель   28            Омск             ultra"
      ]
     },
     "execution_count": 78,
     "metadata": {},
     "output_type": "execute_result"
    }
   ],
   "source": [
    "# Загрузим данные о пользователях\n",
    "data_users = pd.read_csv('https://code.s3.yandex.net/datasets/users_go.csv')\n",
    "data_users.info()\n",
    "data_users.head()"
   ]
  },
  {
   "cell_type": "code",
   "execution_count": 79,
   "id": "c556e17c",
   "metadata": {},
   "outputs": [
    {
     "name": "stdout",
     "output_type": "stream",
     "text": [
      "<class 'pandas.core.frame.DataFrame'>\n",
      "RangeIndex: 18068 entries, 0 to 18067\n",
      "Data columns (total 4 columns):\n",
      " #   Column    Non-Null Count  Dtype  \n",
      "---  ------    --------------  -----  \n",
      " 0   user_id   18068 non-null  int64  \n",
      " 1   distance  18068 non-null  float64\n",
      " 2   duration  18068 non-null  float64\n",
      " 3   date      18068 non-null  object \n",
      "dtypes: float64(2), int64(1), object(1)\n",
      "memory usage: 564.8+ KB\n"
     ]
    },
    {
     "data": {
      "text/html": [
       "<div>\n",
       "<style scoped>\n",
       "    .dataframe tbody tr th:only-of-type {\n",
       "        vertical-align: middle;\n",
       "    }\n",
       "\n",
       "    .dataframe tbody tr th {\n",
       "        vertical-align: top;\n",
       "    }\n",
       "\n",
       "    .dataframe thead th {\n",
       "        text-align: right;\n",
       "    }\n",
       "</style>\n",
       "<table border=\"1\" class=\"dataframe\">\n",
       "  <thead>\n",
       "    <tr style=\"text-align: right;\">\n",
       "      <th></th>\n",
       "      <th>user_id</th>\n",
       "      <th>distance</th>\n",
       "      <th>duration</th>\n",
       "      <th>date</th>\n",
       "    </tr>\n",
       "  </thead>\n",
       "  <tbody>\n",
       "    <tr>\n",
       "      <th>0</th>\n",
       "      <td>1</td>\n",
       "      <td>4409.919140</td>\n",
       "      <td>25.599769</td>\n",
       "      <td>2021-01-01</td>\n",
       "    </tr>\n",
       "    <tr>\n",
       "      <th>1</th>\n",
       "      <td>1</td>\n",
       "      <td>2617.592153</td>\n",
       "      <td>15.816871</td>\n",
       "      <td>2021-01-18</td>\n",
       "    </tr>\n",
       "    <tr>\n",
       "      <th>2</th>\n",
       "      <td>1</td>\n",
       "      <td>754.159807</td>\n",
       "      <td>6.232113</td>\n",
       "      <td>2021-04-20</td>\n",
       "    </tr>\n",
       "    <tr>\n",
       "      <th>3</th>\n",
       "      <td>1</td>\n",
       "      <td>2694.783254</td>\n",
       "      <td>18.511000</td>\n",
       "      <td>2021-08-11</td>\n",
       "    </tr>\n",
       "    <tr>\n",
       "      <th>4</th>\n",
       "      <td>1</td>\n",
       "      <td>4028.687306</td>\n",
       "      <td>26.265803</td>\n",
       "      <td>2021-08-28</td>\n",
       "    </tr>\n",
       "  </tbody>\n",
       "</table>\n",
       "</div>"
      ],
      "text/plain": [
       "   user_id     distance   duration        date\n",
       "0        1  4409.919140  25.599769  2021-01-01\n",
       "1        1  2617.592153  15.816871  2021-01-18\n",
       "2        1   754.159807   6.232113  2021-04-20\n",
       "3        1  2694.783254  18.511000  2021-08-11\n",
       "4        1  4028.687306  26.265803  2021-08-28"
      ]
     },
     "execution_count": 79,
     "metadata": {},
     "output_type": "execute_result"
    }
   ],
   "source": [
    "# Данные о поездках\n",
    "data_rides = pd.read_csv('https://code.s3.yandex.net/datasets/rides_go.csv')\n",
    "data_rides.info()\n",
    "data_rides.head()"
   ]
  },
  {
   "cell_type": "code",
   "execution_count": 80,
   "id": "e53b0040",
   "metadata": {},
   "outputs": [
    {
     "name": "stdout",
     "output_type": "stream",
     "text": [
      "<class 'pandas.core.frame.DataFrame'>\n",
      "RangeIndex: 2 entries, 0 to 1\n",
      "Data columns (total 4 columns):\n",
      " #   Column             Non-Null Count  Dtype \n",
      "---  ------             --------------  ----- \n",
      " 0   subscription_type  2 non-null      object\n",
      " 1   minute_price       2 non-null      int64 \n",
      " 2   start_ride_price   2 non-null      int64 \n",
      " 3   subscription_fee   2 non-null      int64 \n",
      "dtypes: int64(3), object(1)\n",
      "memory usage: 192.0+ bytes\n"
     ]
    },
    {
     "data": {
      "text/html": [
       "<div>\n",
       "<style scoped>\n",
       "    .dataframe tbody tr th:only-of-type {\n",
       "        vertical-align: middle;\n",
       "    }\n",
       "\n",
       "    .dataframe tbody tr th {\n",
       "        vertical-align: top;\n",
       "    }\n",
       "\n",
       "    .dataframe thead th {\n",
       "        text-align: right;\n",
       "    }\n",
       "</style>\n",
       "<table border=\"1\" class=\"dataframe\">\n",
       "  <thead>\n",
       "    <tr style=\"text-align: right;\">\n",
       "      <th></th>\n",
       "      <th>subscription_type</th>\n",
       "      <th>minute_price</th>\n",
       "      <th>start_ride_price</th>\n",
       "      <th>subscription_fee</th>\n",
       "    </tr>\n",
       "  </thead>\n",
       "  <tbody>\n",
       "    <tr>\n",
       "      <th>0</th>\n",
       "      <td>free</td>\n",
       "      <td>8</td>\n",
       "      <td>50</td>\n",
       "      <td>0</td>\n",
       "    </tr>\n",
       "    <tr>\n",
       "      <th>1</th>\n",
       "      <td>ultra</td>\n",
       "      <td>6</td>\n",
       "      <td>0</td>\n",
       "      <td>199</td>\n",
       "    </tr>\n",
       "  </tbody>\n",
       "</table>\n",
       "</div>"
      ],
      "text/plain": [
       "  subscription_type  minute_price  start_ride_price  subscription_fee\n",
       "0              free             8                50                 0\n",
       "1             ultra             6                 0               199"
      ]
     },
     "execution_count": 80,
     "metadata": {},
     "output_type": "execute_result"
    }
   ],
   "source": [
    "# Данные о подписках\n",
    "data_subscriptions = pd.read_csv('https://code.s3.yandex.net/datasets/subscriptions_go.csv')\n",
    "data_subscriptions.info()\n",
    "data_subscriptions.head()"
   ]
  },
  {
   "cell_type": "code",
   "execution_count": 81,
   "id": "bb79242d",
   "metadata": {},
   "outputs": [],
   "source": [
    "# Сохраним в переменных первоначальное количество строк для контроля объема удаляемых данных в случае необходимости\n",
    "data_users_rows = data_users.shape[0]\n",
    "data_rides_rows = data_rides.shape[0]\n",
    "data_subscriptions_rows = data_subscriptions.shape[0]"
   ]
  },
  {
   "cell_type": "markdown",
   "id": "0c8a9894",
   "metadata": {},
   "source": [
    "Все три датасета не имеют пропусков, типы данных также соответствуют содержащейся в столбцах информации за исключением столбца с датой поездки, отредактируем его на этапе предобработки."
   ]
  },
  {
   "cell_type": "markdown",
   "id": "e95ebca7",
   "metadata": {},
   "source": [
    "## Предобработка данных <a id='processing'></a>"
   ]
  },
  {
   "cell_type": "markdown",
   "id": "474351fd",
   "metadata": {},
   "source": [
    "Проверим данные на наличие пропусков и дубликатов, обработаем их"
   ]
  },
  {
   "cell_type": "code",
   "execution_count": 82,
   "id": "af6d202c",
   "metadata": {},
   "outputs": [
    {
     "name": "stdout",
     "output_type": "stream",
     "text": [
      "user_id              0\n",
      "name                 0\n",
      "age                  0\n",
      "city                 0\n",
      "subscription_type    0\n",
      "dtype: int64\n"
     ]
    },
    {
     "data": {
      "text/plain": [
       "'Количество дубликатов 31'"
      ]
     },
     "execution_count": 82,
     "metadata": {},
     "output_type": "execute_result"
    }
   ],
   "source": [
    "# Посчитаем количество пропусков в данных о пользователях и количество дубликатов\n",
    "print(data_users.isna().sum().sort_values(ascending = False))\n",
    "f'Количество дубликатов {data_users.duplicated().sum()}'"
   ]
  },
  {
   "cell_type": "code",
   "execution_count": 83,
   "id": "959180c0",
   "metadata": {},
   "outputs": [
    {
     "data": {
      "text/plain": [
       "0.019808306709265144"
      ]
     },
     "execution_count": 83,
     "metadata": {},
     "output_type": "execute_result"
    }
   ],
   "source": [
    "# Удалим дубликаты в данных о пользователях \n",
    "data_users = data_users.drop_duplicates().reset_index(drop = True)\n",
    "\n",
    "# Оценим долю удаленных данных \n",
    "1 - data_users.shape[0]/data_users_rows"
   ]
  },
  {
   "cell_type": "code",
   "execution_count": 84,
   "id": "71590680",
   "metadata": {},
   "outputs": [
    {
     "name": "stdout",
     "output_type": "stream",
     "text": [
      "user_id     0\n",
      "distance    0\n",
      "duration    0\n",
      "date        0\n",
      "dtype: int64\n"
     ]
    },
    {
     "data": {
      "text/plain": [
       "'Количество дубликатов 0'"
      ]
     },
     "execution_count": 84,
     "metadata": {},
     "output_type": "execute_result"
    }
   ],
   "source": [
    "# Посчитаем количество пропусков в данных о поездках и количество дубликатов\n",
    "print(data_rides.isna().sum().sort_values(ascending = False))\n",
    "f'Количество дубликатов {data_rides.duplicated().sum()}'"
   ]
  },
  {
   "cell_type": "code",
   "execution_count": 85,
   "id": "cfcaee7b",
   "metadata": {},
   "outputs": [
    {
     "name": "stdout",
     "output_type": "stream",
     "text": [
      "subscription_type    0\n",
      "minute_price         0\n",
      "start_ride_price     0\n",
      "subscription_fee     0\n",
      "dtype: int64\n"
     ]
    },
    {
     "data": {
      "text/plain": [
       "'Количество дубликатов 0'"
      ]
     },
     "execution_count": 85,
     "metadata": {},
     "output_type": "execute_result"
    }
   ],
   "source": [
    "# Посчитаем количество пропусков в данных о подписках и количество дубликатов\n",
    "print(data_subscriptions.isna().sum().sort_values(ascending = False))\n",
    "f'Количество дубликатов {data_subscriptions.duplicated().sum()}'"
   ]
  },
  {
   "cell_type": "code",
   "execution_count": 86,
   "id": "d3614fc6",
   "metadata": {},
   "outputs": [
    {
     "name": "stdout",
     "output_type": "stream",
     "text": [
      "2021-01-01 00:00:00\n"
     ]
    },
    {
     "data": {
      "text/plain": [
       "Timestamp('2021-12-30 00:00:00')"
      ]
     },
     "execution_count": 86,
     "metadata": {},
     "output_type": "execute_result"
    }
   ],
   "source": [
    "# Изменим тип данных в столбце с датой поездки\n",
    "data_rides['date'] = pd.to_datetime(data_rides['date'], format = '%Y-%m-%d')\n",
    "\n",
    "# Проверим, за какой период предоставлены данные о поездках во избежение агрегации данных за несколько лет\n",
    "print(data_rides['date'].min())\n",
    "data_rides['date'].max()"
   ]
  },
  {
   "cell_type": "markdown",
   "id": "4ab215c2",
   "metadata": {},
   "source": [
    "Данные предоставлены за период с 01.01.2021 по 30.12.2021, т.е. они укладываются в один календарный год."
   ]
  },
  {
   "cell_type": "code",
   "execution_count": 87,
   "id": "82eb6785",
   "metadata": {},
   "outputs": [
    {
     "data": {
      "text/html": [
       "<div>\n",
       "<style scoped>\n",
       "    .dataframe tbody tr th:only-of-type {\n",
       "        vertical-align: middle;\n",
       "    }\n",
       "\n",
       "    .dataframe tbody tr th {\n",
       "        vertical-align: top;\n",
       "    }\n",
       "\n",
       "    .dataframe thead th {\n",
       "        text-align: right;\n",
       "    }\n",
       "</style>\n",
       "<table border=\"1\" class=\"dataframe\">\n",
       "  <thead>\n",
       "    <tr style=\"text-align: right;\">\n",
       "      <th></th>\n",
       "      <th>user_id</th>\n",
       "      <th>distance</th>\n",
       "      <th>duration</th>\n",
       "      <th>date</th>\n",
       "      <th>month_number</th>\n",
       "    </tr>\n",
       "  </thead>\n",
       "  <tbody>\n",
       "    <tr>\n",
       "      <th>0</th>\n",
       "      <td>1</td>\n",
       "      <td>4409.919140</td>\n",
       "      <td>25.599769</td>\n",
       "      <td>2021-01-01</td>\n",
       "      <td>1</td>\n",
       "    </tr>\n",
       "    <tr>\n",
       "      <th>1</th>\n",
       "      <td>1</td>\n",
       "      <td>2617.592153</td>\n",
       "      <td>15.816871</td>\n",
       "      <td>2021-01-18</td>\n",
       "      <td>1</td>\n",
       "    </tr>\n",
       "    <tr>\n",
       "      <th>2</th>\n",
       "      <td>1</td>\n",
       "      <td>754.159807</td>\n",
       "      <td>6.232113</td>\n",
       "      <td>2021-04-20</td>\n",
       "      <td>4</td>\n",
       "    </tr>\n",
       "    <tr>\n",
       "      <th>3</th>\n",
       "      <td>1</td>\n",
       "      <td>2694.783254</td>\n",
       "      <td>18.511000</td>\n",
       "      <td>2021-08-11</td>\n",
       "      <td>8</td>\n",
       "    </tr>\n",
       "    <tr>\n",
       "      <th>4</th>\n",
       "      <td>1</td>\n",
       "      <td>4028.687306</td>\n",
       "      <td>26.265803</td>\n",
       "      <td>2021-08-28</td>\n",
       "      <td>8</td>\n",
       "    </tr>\n",
       "  </tbody>\n",
       "</table>\n",
       "</div>"
      ],
      "text/plain": [
       "   user_id     distance   duration       date  month_number\n",
       "0        1  4409.919140  25.599769 2021-01-01             1\n",
       "1        1  2617.592153  15.816871 2021-01-18             1\n",
       "2        1   754.159807   6.232113 2021-04-20             4\n",
       "3        1  2694.783254  18.511000 2021-08-11             8\n",
       "4        1  4028.687306  26.265803 2021-08-28             8"
      ]
     },
     "execution_count": 87,
     "metadata": {},
     "output_type": "execute_result"
    }
   ],
   "source": [
    "# Создадим новый столбец с номером месяца\n",
    "data_rides['month_number'] = data_rides['date'].dt.month\n",
    "\n",
    "# Проверим изменения\n",
    "data_rides.head()"
   ]
  },
  {
   "cell_type": "markdown",
   "id": "212593c7",
   "metadata": {},
   "source": [
    "## Исследовательский анализ данных<a id='analysis'></a>"
   ]
  },
  {
   "cell_type": "code",
   "execution_count": 88,
   "id": "8fce5eae",
   "metadata": {},
   "outputs": [
    {
     "data": {
      "text/html": [
       "<div>\n",
       "<style scoped>\n",
       "    .dataframe tbody tr th:only-of-type {\n",
       "        vertical-align: middle;\n",
       "    }\n",
       "\n",
       "    .dataframe tbody tr th {\n",
       "        vertical-align: top;\n",
       "    }\n",
       "\n",
       "    .dataframe thead th {\n",
       "        text-align: right;\n",
       "    }\n",
       "</style>\n",
       "<table border=\"1\" class=\"dataframe\">\n",
       "  <thead>\n",
       "    <tr style=\"text-align: right;\">\n",
       "      <th></th>\n",
       "      <th>Количество пользователей</th>\n",
       "      <th>Доля от общего числа, %</th>\n",
       "    </tr>\n",
       "    <tr>\n",
       "      <th>city</th>\n",
       "      <th></th>\n",
       "      <th></th>\n",
       "    </tr>\n",
       "  </thead>\n",
       "  <tbody>\n",
       "    <tr>\n",
       "      <th>Пятигорск</th>\n",
       "      <td>219</td>\n",
       "      <td>14.28</td>\n",
       "    </tr>\n",
       "    <tr>\n",
       "      <th>Екатеринбург</th>\n",
       "      <td>204</td>\n",
       "      <td>13.30</td>\n",
       "    </tr>\n",
       "    <tr>\n",
       "      <th>Ростов-на-Дону</th>\n",
       "      <td>198</td>\n",
       "      <td>12.91</td>\n",
       "    </tr>\n",
       "    <tr>\n",
       "      <th>Краснодар</th>\n",
       "      <td>193</td>\n",
       "      <td>12.58</td>\n",
       "    </tr>\n",
       "    <tr>\n",
       "      <th>Сочи</th>\n",
       "      <td>189</td>\n",
       "      <td>12.32</td>\n",
       "    </tr>\n",
       "    <tr>\n",
       "      <th>Омск</th>\n",
       "      <td>183</td>\n",
       "      <td>11.93</td>\n",
       "    </tr>\n",
       "    <tr>\n",
       "      <th>Тюмень</th>\n",
       "      <td>180</td>\n",
       "      <td>11.73</td>\n",
       "    </tr>\n",
       "    <tr>\n",
       "      <th>Москва</th>\n",
       "      <td>168</td>\n",
       "      <td>10.95</td>\n",
       "    </tr>\n",
       "  </tbody>\n",
       "</table>\n",
       "</div>"
      ],
      "text/plain": [
       "                Количество пользователей  Доля от общего числа, %\n",
       "city                                                             \n",
       "Пятигорск                            219                    14.28\n",
       "Екатеринбург                         204                    13.30\n",
       "Ростов-на-Дону                       198                    12.91\n",
       "Краснодар                            193                    12.58\n",
       "Сочи                                 189                    12.32\n",
       "Омск                                 183                    11.93\n",
       "Тюмень                               180                    11.73\n",
       "Москва                               168                    10.95"
      ]
     },
     "execution_count": 88,
     "metadata": {},
     "output_type": "execute_result"
    }
   ],
   "source": [
    "# Частота встречаемости городов\n",
    "data_users_pivot = (data_users\n",
    "                    .pivot_table(index = 'city', values = 'user_id', aggfunc = 'count')\n",
    "                    .sort_values(by = 'user_id', ascending = False)\n",
    "                   )\n",
    "data_users_pivot['Доля от общего числа, %'] = (data_users_pivot['user_id']/data_users.shape[0]).round(4) * 100\n",
    "data_users_pivot.rename(columns = {'user_id': 'Количество пользователей'}, inplace = True)\n",
    "data_users_pivot"
   ]
  },
  {
   "cell_type": "code",
   "execution_count": 89,
   "id": "713ddca6",
   "metadata": {},
   "outputs": [
    {
     "data": {
      "image/png": "[encoded data removed]",
      "text/plain": [
       "<Figure size 640x480 with 1 Axes>"
      ]
     },
     "metadata": {},
     "output_type": "display_data"
    }
   ],
   "source": [
    "# Визуализируем встречаемость городов\n",
    "ax = data_users_pivot['Количество пользователей'].sort_values().plot(kind = 'barh', grid = True, color = '#607274')\n",
    "ax.set_ylabel('Города')\n",
    "ax.set_xlabel('Количество пользователей')\n",
    "ax.set_title('Города пользователей')\n",
    "plt.show()"
   ]
  },
  {
   "cell_type": "markdown",
   "id": "59b9cfe4",
   "metadata": {},
   "source": [
    "Наиболее часто в выборке встречаются пользователи из Пятигорска (219 человек - 14,28 % от общего числа) и Екатеринбурга (204 - 13,3 %), реже всего -  из Москвы (168 - 10,95 %). По гисторамме видно, что численность пользователей из разных городов сопоставима, все города - крупные центры, что удобно для сравнения. "
   ]
  },
  {
   "cell_type": "code",
   "execution_count": 90,
   "id": "c17a70ec",
   "metadata": {},
   "outputs": [
    {
     "data": {
      "text/html": [
       "<div>\n",
       "<style scoped>\n",
       "    .dataframe tbody tr th:only-of-type {\n",
       "        vertical-align: middle;\n",
       "    }\n",
       "\n",
       "    .dataframe tbody tr th {\n",
       "        vertical-align: top;\n",
       "    }\n",
       "\n",
       "    .dataframe thead th {\n",
       "        text-align: right;\n",
       "    }\n",
       "</style>\n",
       "<table border=\"1\" class=\"dataframe\">\n",
       "  <thead>\n",
       "    <tr style=\"text-align: right;\">\n",
       "      <th></th>\n",
       "      <th>Количество пользователей</th>\n",
       "      <th>Доля от общего числа, %</th>\n",
       "    </tr>\n",
       "  </thead>\n",
       "  <tbody>\n",
       "    <tr>\n",
       "      <th>free</th>\n",
       "      <td>835</td>\n",
       "      <td>54.43</td>\n",
       "    </tr>\n",
       "    <tr>\n",
       "      <th>ultra</th>\n",
       "      <td>699</td>\n",
       "      <td>45.57</td>\n",
       "    </tr>\n",
       "  </tbody>\n",
       "</table>\n",
       "</div>"
      ],
      "text/plain": [
       "       Количество пользователей  Доля от общего числа, %\n",
       "free                        835                    54.43\n",
       "ultra                       699                    45.57"
      ]
     },
     "execution_count": 90,
     "metadata": {},
     "output_type": "execute_result"
    }
   ],
   "source": [
    "# Соотношение пользователей с подпиской и без подписки\n",
    "sub_number = data_users['subscription_type'].value_counts()\n",
    "sub_percent = data_users['subscription_type'].value_counts()/data_users.shape[0]\n",
    "sub_percent_number = pd.concat([sub_number, sub_percent.round(4)*100], axis = 1, keys=['Количество пользователей', 'Доля от общего числа, %'])\n",
    "sub_percent_number"
   ]
  },
  {
   "cell_type": "code",
   "execution_count": 91,
   "id": "6b0914ed",
   "metadata": {},
   "outputs": [
    {
     "data": {
      "image/png": "[encoded data removed]",
      "text/plain": [
       "<Figure size 640x480 with 1 Axes>"
      ]
     },
     "metadata": {},
     "output_type": "display_data"
    }
   ],
   "source": [
    "# Визуализируем cоотношение пользователей с подпиской и без подписки\n",
    "sub = data_users.groupby('subscription_type')['user_id'].count().plot(kind = 'pie', explode = (0, 0.1), autopct = '%1.2f%%', colors = ['#DED0B6', '#607274'])\n",
    "sub.set_title('Тип подписки пользователей')\n",
    "sub.set_ylabel('')\n",
    "plt.show()"
   ]
  },
  {
   "cell_type": "markdown",
   "id": "43ee11bf",
   "metadata": {},
   "source": [
    "Количество пользователей без подписки (54,43 % от общего числа) превышает количество пользователей с платной подпиской (45,57 % от общего числа).  "
   ]
  },
  {
   "cell_type": "code",
   "execution_count": 92,
   "id": "965a8b28",
   "metadata": {},
   "outputs": [
    {
     "data": {
      "text/plain": [
       "count    1534.000000\n",
       "mean       24.903520\n",
       "std         4.572367\n",
       "min        12.000000\n",
       "25%        22.000000\n",
       "50%        25.000000\n",
       "75%        28.000000\n",
       "max        43.000000\n",
       "Name: age, dtype: float64"
      ]
     },
     "execution_count": 92,
     "metadata": {},
     "output_type": "execute_result"
    }
   ],
   "source": [
    "# Изучим возраст пользователей\n",
    "data_users['age'].describe()"
   ]
  },
  {
   "cell_type": "code",
   "execution_count": 93,
   "id": "c686439f",
   "metadata": {},
   "outputs": [
    {
     "data": {
      "text/plain": [
       "Text(0.5, 1.0, 'Возраст пользователей')"
      ]
     },
     "execution_count": 93,
     "metadata": {},
     "output_type": "execute_result"
    },
    {
     "data": {
      "image/png": "[encoded data removed]",
      "text/plain": [
       "<Figure size 640x480 with 1 Axes>"
      ]
     },
     "metadata": {},
     "output_type": "display_data"
    }
   ],
   "source": [
    "# Визуализируем данные о возрасте пользователей\n",
    "us = data_users['age'].hist(bins = 32, color = '#607274')\n",
    "us.set_xlabel('Возраст')\n",
    "us.set_ylabel('Количество пользователей')\n",
    "us.set_title('Возраст пользователей')"
   ]
  },
  {
   "cell_type": "markdown",
   "id": "a62f989b",
   "metadata": {},
   "source": [
    "Возраст всех пользователей - от 12 до 43 лет, при этом наибольшее число пользователей - в возрасте от 20 до 30 лет, средний возраст - 25 лет. Пользователей старше 35 мало, а старше сорока - практически нет. Таким образом, сервис наиболее популярен у молодых людей."
   ]
  },
  {
   "cell_type": "code",
   "execution_count": 94,
   "id": "d1f2c74b",
   "metadata": {},
   "outputs": [
    {
     "data": {
      "text/plain": [
       "count    18068.000000\n",
       "mean      3070.659976\n",
       "std       1116.831209\n",
       "min          0.855683\n",
       "25%       2543.226360\n",
       "50%       3133.609994\n",
       "75%       3776.222735\n",
       "max       7211.007745\n",
       "Name: distance, dtype: float64"
      ]
     },
     "execution_count": 94,
     "metadata": {},
     "output_type": "execute_result"
    }
   ],
   "source": [
    "# Изучим расстояние, которое пользователь преодолел за одну поездку\n",
    "data_rides['distance'].describe()"
   ]
  },
  {
   "cell_type": "code",
   "execution_count": 95,
   "id": "578d7200",
   "metadata": {},
   "outputs": [
    {
     "data": {
      "text/plain": [
       "Text(0.5, 1.0, 'Расстояние за одну поездку')"
      ]
     },
     "execution_count": 95,
     "metadata": {},
     "output_type": "execute_result"
    },
    {
     "data": {
      "image/png": "[encoded data removed]",
      "text/plain": [
       "<Figure size 640x480 with 1 Axes>"
      ]
     },
     "metadata": {},
     "output_type": "display_data"
    }
   ],
   "source": [
    "# Визуализируем расстояние, которое пользователь преодолел за одну поездку\n",
    "rid = data_rides['distance'].hist(bins = 100, color = '#607274')\n",
    "rid.set_xlabel('Расстояние, м')\n",
    "rid.set_ylabel('Количество пользователей')\n",
    "rid.set_title('Расстояние за одну поездку')"
   ]
  },
  {
   "cell_type": "code",
   "execution_count": 96,
   "id": "4542d9c6",
   "metadata": {},
   "outputs": [
    {
     "data": {
      "text/plain": [
       "78"
      ]
     },
     "execution_count": 96,
     "metadata": {},
     "output_type": "execute_result"
    }
   ],
   "source": [
    "data_rides.query('distance < 100').shape[0]"
   ]
  },
  {
   "cell_type": "markdown",
   "id": "e3b3974b",
   "metadata": {},
   "source": [
    "Расстояния, которое преодолевали пользователи за одну поездку - от 0,8 метров до 7,2 км. При этом присутствуют подозрительно короткие поездки: например, 78 поездок имели длину менее 100 метров. Поездки на длинные дистанции свыше 6 км встречаются редко.\n",
    "Среднее расстояние, которое совершает пользователь во время поездки - 3 км. На гистограмме виден резкий спад количества поездок на отметке примерно в 1,5 км, возможно, поездки до указанной отметки имеют отдельную природу, например, отмененные по причине технической неисправности самоката или проблем с приложением. "
   ]
  },
  {
   "cell_type": "code",
   "execution_count": 97,
   "id": "57de798f",
   "metadata": {},
   "outputs": [
    {
     "data": {
      "text/plain": [
       "count    18068.000000\n",
       "mean        17.805011\n",
       "std          6.091051\n",
       "min          0.500000\n",
       "25%         13.597563\n",
       "50%         17.678395\n",
       "75%         21.724800\n",
       "max         40.823963\n",
       "Name: duration, dtype: float64"
      ]
     },
     "execution_count": 97,
     "metadata": {},
     "output_type": "execute_result"
    }
   ],
   "source": [
    "# Изучим продолжительность поездок\n",
    "data_rides['duration'].describe()"
   ]
  },
  {
   "cell_type": "code",
   "execution_count": 98,
   "id": "62e8e147",
   "metadata": {},
   "outputs": [
    {
     "data": {
      "image/png": "[encoded data removed]",
      "text/plain": [
       "<Figure size 640x480 with 1 Axes>"
      ]
     },
     "metadata": {},
     "output_type": "display_data"
    }
   ],
   "source": [
    "# Визуализируем продолжительность поездок\n",
    "dur = data_rides['duration'].hist(bins = 200, color = '#607274')\n",
    "dur.set_xlabel('Продолжительность, мин')\n",
    "dur.set_ylabel('Количество пользователей')\n",
    "dur.set_title('Продолжительность поездок')\n",
    "plt.show()"
   ]
  },
  {
   "cell_type": "markdown",
   "id": "254033ca",
   "metadata": {},
   "source": [
    "Длительность поездок составила от 0.5 до 40.8 минут, средняя продолжительность поездки - 17 минут. Длинные поездки свыше 35 минут встречаются редко. Кроме того, на гистограмме видим всплеск на отметке 0,5 минуты - 95 поездок имеют такую длительность, вероятно, имел место какой-то технический сбой, понять природу которого важно, т.к. длительность поездки напрямую влияет на стоимость и, соответственно, на выручку."
   ]
  },
  {
   "cell_type": "markdown",
   "id": "4ef51331",
   "metadata": {},
   "source": [
    "## Объединение данных<a id='visualize'></a>"
   ]
  },
  {
   "cell_type": "code",
   "execution_count": 99,
   "id": "6bf288b5",
   "metadata": {},
   "outputs": [
    {
     "data": {
      "text/html": [
       "<div>\n",
       "<style scoped>\n",
       "    .dataframe tbody tr th:only-of-type {\n",
       "        vertical-align: middle;\n",
       "    }\n",
       "\n",
       "    .dataframe tbody tr th {\n",
       "        vertical-align: top;\n",
       "    }\n",
       "\n",
       "    .dataframe thead th {\n",
       "        text-align: right;\n",
       "    }\n",
       "</style>\n",
       "<table border=\"1\" class=\"dataframe\">\n",
       "  <thead>\n",
       "    <tr style=\"text-align: right;\">\n",
       "      <th></th>\n",
       "      <th>user_id</th>\n",
       "      <th>distance</th>\n",
       "      <th>duration</th>\n",
       "      <th>date</th>\n",
       "      <th>month_number</th>\n",
       "      <th>name</th>\n",
       "      <th>age</th>\n",
       "      <th>city</th>\n",
       "      <th>subscription_type</th>\n",
       "      <th>minute_price</th>\n",
       "      <th>start_ride_price</th>\n",
       "      <th>subscription_fee</th>\n",
       "    </tr>\n",
       "  </thead>\n",
       "  <tbody>\n",
       "    <tr>\n",
       "      <th>0</th>\n",
       "      <td>1</td>\n",
       "      <td>4409.919140</td>\n",
       "      <td>25.599769</td>\n",
       "      <td>2021-01-01</td>\n",
       "      <td>1</td>\n",
       "      <td>Кира</td>\n",
       "      <td>22</td>\n",
       "      <td>Тюмень</td>\n",
       "      <td>ultra</td>\n",
       "      <td>6</td>\n",
       "      <td>0</td>\n",
       "      <td>199</td>\n",
       "    </tr>\n",
       "    <tr>\n",
       "      <th>1</th>\n",
       "      <td>1</td>\n",
       "      <td>2617.592153</td>\n",
       "      <td>15.816871</td>\n",
       "      <td>2021-01-18</td>\n",
       "      <td>1</td>\n",
       "      <td>Кира</td>\n",
       "      <td>22</td>\n",
       "      <td>Тюмень</td>\n",
       "      <td>ultra</td>\n",
       "      <td>6</td>\n",
       "      <td>0</td>\n",
       "      <td>199</td>\n",
       "    </tr>\n",
       "    <tr>\n",
       "      <th>2</th>\n",
       "      <td>1</td>\n",
       "      <td>754.159807</td>\n",
       "      <td>6.232113</td>\n",
       "      <td>2021-04-20</td>\n",
       "      <td>4</td>\n",
       "      <td>Кира</td>\n",
       "      <td>22</td>\n",
       "      <td>Тюмень</td>\n",
       "      <td>ultra</td>\n",
       "      <td>6</td>\n",
       "      <td>0</td>\n",
       "      <td>199</td>\n",
       "    </tr>\n",
       "    <tr>\n",
       "      <th>3</th>\n",
       "      <td>1</td>\n",
       "      <td>2694.783254</td>\n",
       "      <td>18.511000</td>\n",
       "      <td>2021-08-11</td>\n",
       "      <td>8</td>\n",
       "      <td>Кира</td>\n",
       "      <td>22</td>\n",
       "      <td>Тюмень</td>\n",
       "      <td>ultra</td>\n",
       "      <td>6</td>\n",
       "      <td>0</td>\n",
       "      <td>199</td>\n",
       "    </tr>\n",
       "    <tr>\n",
       "      <th>4</th>\n",
       "      <td>1</td>\n",
       "      <td>4028.687306</td>\n",
       "      <td>26.265803</td>\n",
       "      <td>2021-08-28</td>\n",
       "      <td>8</td>\n",
       "      <td>Кира</td>\n",
       "      <td>22</td>\n",
       "      <td>Тюмень</td>\n",
       "      <td>ultra</td>\n",
       "      <td>6</td>\n",
       "      <td>0</td>\n",
       "      <td>199</td>\n",
       "    </tr>\n",
       "    <tr>\n",
       "      <th>5</th>\n",
       "      <td>1</td>\n",
       "      <td>2770.890808</td>\n",
       "      <td>16.650138</td>\n",
       "      <td>2021-10-09</td>\n",
       "      <td>10</td>\n",
       "      <td>Кира</td>\n",
       "      <td>22</td>\n",
       "      <td>Тюмень</td>\n",
       "      <td>ultra</td>\n",
       "      <td>6</td>\n",
       "      <td>0</td>\n",
       "      <td>199</td>\n",
       "    </tr>\n",
       "    <tr>\n",
       "      <th>6</th>\n",
       "      <td>1</td>\n",
       "      <td>3039.020292</td>\n",
       "      <td>14.927879</td>\n",
       "      <td>2021-10-19</td>\n",
       "      <td>10</td>\n",
       "      <td>Кира</td>\n",
       "      <td>22</td>\n",
       "      <td>Тюмень</td>\n",
       "      <td>ultra</td>\n",
       "      <td>6</td>\n",
       "      <td>0</td>\n",
       "      <td>199</td>\n",
       "    </tr>\n",
       "    <tr>\n",
       "      <th>7</th>\n",
       "      <td>1</td>\n",
       "      <td>2842.118050</td>\n",
       "      <td>23.117468</td>\n",
       "      <td>2021-11-06</td>\n",
       "      <td>11</td>\n",
       "      <td>Кира</td>\n",
       "      <td>22</td>\n",
       "      <td>Тюмень</td>\n",
       "      <td>ultra</td>\n",
       "      <td>6</td>\n",
       "      <td>0</td>\n",
       "      <td>199</td>\n",
       "    </tr>\n",
       "    <tr>\n",
       "      <th>8</th>\n",
       "      <td>1</td>\n",
       "      <td>3412.690668</td>\n",
       "      <td>15.238072</td>\n",
       "      <td>2021-11-14</td>\n",
       "      <td>11</td>\n",
       "      <td>Кира</td>\n",
       "      <td>22</td>\n",
       "      <td>Тюмень</td>\n",
       "      <td>ultra</td>\n",
       "      <td>6</td>\n",
       "      <td>0</td>\n",
       "      <td>199</td>\n",
       "    </tr>\n",
       "    <tr>\n",
       "      <th>9</th>\n",
       "      <td>1</td>\n",
       "      <td>748.690645</td>\n",
       "      <td>15.041884</td>\n",
       "      <td>2021-11-22</td>\n",
       "      <td>11</td>\n",
       "      <td>Кира</td>\n",
       "      <td>22</td>\n",
       "      <td>Тюмень</td>\n",
       "      <td>ultra</td>\n",
       "      <td>6</td>\n",
       "      <td>0</td>\n",
       "      <td>199</td>\n",
       "    </tr>\n",
       "  </tbody>\n",
       "</table>\n",
       "</div>"
      ],
      "text/plain": [
       "   user_id     distance   duration       date  month_number  name  age  \\\n",
       "0        1  4409.919140  25.599769 2021-01-01             1  Кира   22   \n",
       "1        1  2617.592153  15.816871 2021-01-18             1  Кира   22   \n",
       "2        1   754.159807   6.232113 2021-04-20             4  Кира   22   \n",
       "3        1  2694.783254  18.511000 2021-08-11             8  Кира   22   \n",
       "4        1  4028.687306  26.265803 2021-08-28             8  Кира   22   \n",
       "5        1  2770.890808  16.650138 2021-10-09            10  Кира   22   \n",
       "6        1  3039.020292  14.927879 2021-10-19            10  Кира   22   \n",
       "7        1  2842.118050  23.117468 2021-11-06            11  Кира   22   \n",
       "8        1  3412.690668  15.238072 2021-11-14            11  Кира   22   \n",
       "9        1   748.690645  15.041884 2021-11-22            11  Кира   22   \n",
       "\n",
       "     city subscription_type  minute_price  start_ride_price  subscription_fee  \n",
       "0  Тюмень             ultra             6                 0               199  \n",
       "1  Тюмень             ultra             6                 0               199  \n",
       "2  Тюмень             ultra             6                 0               199  \n",
       "3  Тюмень             ultra             6                 0               199  \n",
       "4  Тюмень             ultra             6                 0               199  \n",
       "5  Тюмень             ultra             6                 0               199  \n",
       "6  Тюмень             ultra             6                 0               199  \n",
       "7  Тюмень             ultra             6                 0               199  \n",
       "8  Тюмень             ultra             6                 0               199  \n",
       "9  Тюмень             ultra             6                 0               199  "
      ]
     },
     "execution_count": 99,
     "metadata": {},
     "output_type": "execute_result"
    }
   ],
   "source": [
    "# Объединим данные о пользователях, поездках и подписках в один датафрейм\n",
    "data = data_rides.merge(data_users, on = 'user_id', how = 'left')\n",
    "data = data.merge(data_subscriptions, on = 'subscription_type', how = 'left')\n",
    "data.head(10)"
   ]
  },
  {
   "cell_type": "code",
   "execution_count": 100,
   "id": "b99c15ee",
   "metadata": {},
   "outputs": [
    {
     "data": {
      "text/plain": [
       "(18068, 12)"
      ]
     },
     "execution_count": 100,
     "metadata": {},
     "output_type": "execute_result"
    }
   ],
   "source": [
    "# Проверим размер датафрейма после объединения\n",
    "data.shape"
   ]
  },
  {
   "cell_type": "code",
   "execution_count": 101,
   "id": "7910dcc2",
   "metadata": {},
   "outputs": [
    {
     "data": {
      "text/plain": [
       "user_id              0\n",
       "distance             0\n",
       "duration             0\n",
       "date                 0\n",
       "month_number         0\n",
       "name                 0\n",
       "age                  0\n",
       "city                 0\n",
       "subscription_type    0\n",
       "minute_price         0\n",
       "start_ride_price     0\n",
       "subscription_fee     0\n",
       "dtype: int64"
      ]
     },
     "execution_count": 101,
     "metadata": {},
     "output_type": "execute_result"
    }
   ],
   "source": [
    "# Проверим объединенный датафрейм на пропуски\n",
    "data.isna().sum()"
   ]
  },
  {
   "cell_type": "markdown",
   "id": "48a1062d",
   "metadata": {},
   "source": [
    "В объединенном датасете пропуски отсутвуют, количество строк соответсвует количеству строк в данных о поездках."
   ]
  },
  {
   "cell_type": "code",
   "execution_count": 102,
   "id": "15bc6e7c",
   "metadata": {},
   "outputs": [],
   "source": [
    "# Создадим два датафрейма с данными о пользователях с подпиской и без\n",
    "data_ultra = data.query('subscription_type == \"ultra\"')\n",
    "data_free = data.query('subscription_type == \"free\"')"
   ]
  },
  {
   "cell_type": "code",
   "execution_count": 103,
   "id": "6cc5e2c1",
   "metadata": {},
   "outputs": [
    {
     "data": {
      "text/html": [
       "<div>\n",
       "<style scoped>\n",
       "    .dataframe tbody tr th:only-of-type {\n",
       "        vertical-align: middle;\n",
       "    }\n",
       "\n",
       "    .dataframe tbody tr th {\n",
       "        vertical-align: top;\n",
       "    }\n",
       "\n",
       "    .dataframe thead th {\n",
       "        text-align: right;\n",
       "    }\n",
       "</style>\n",
       "<table border=\"1\" class=\"dataframe\">\n",
       "  <thead>\n",
       "    <tr style=\"text-align: right;\">\n",
       "      <th></th>\n",
       "      <th>Количество поездок</th>\n",
       "      <th>Доля от общего числа, %</th>\n",
       "    </tr>\n",
       "  </thead>\n",
       "  <tbody>\n",
       "    <tr>\n",
       "      <th>free</th>\n",
       "      <td>11568</td>\n",
       "      <td>64.02</td>\n",
       "    </tr>\n",
       "    <tr>\n",
       "      <th>ultra</th>\n",
       "      <td>6500</td>\n",
       "      <td>35.98</td>\n",
       "    </tr>\n",
       "  </tbody>\n",
       "</table>\n",
       "</div>"
      ],
      "text/plain": [
       "       Количество поездок  Доля от общего числа, %\n",
       "free                11568                    64.02\n",
       "ultra                6500                    35.98"
      ]
     },
     "execution_count": 103,
     "metadata": {},
     "output_type": "execute_result"
    }
   ],
   "source": [
    "# Оценим долю поездок совершенных пользователями с подпиской и без\n",
    "data_sub_number = data['subscription_type'].value_counts()\n",
    "data_sub_percent = data['subscription_type'].value_counts()/data.shape[0]\n",
    "data_sub_percent_number = pd.concat([data_sub_number, data_sub_percent.round(4)*100], axis = 1, keys=['Количество поездок', 'Доля от общего числа, %'])\n",
    "data_sub_percent_number"
   ]
  },
  {
   "cell_type": "markdown",
   "id": "fb6af8f0",
   "metadata": {},
   "source": [
    "Большая часть рассматриваемых поездок (63,8 %) совершена пользователями без подписки."
   ]
  },
  {
   "cell_type": "code",
   "execution_count": 104,
   "id": "789f74ff",
   "metadata": {},
   "outputs": [
    {
     "data": {
      "image/png": "[encoded data removed]",
      "text/plain": [
       "<Figure size 1000x400 with 1 Axes>"
      ]
     },
     "metadata": {},
     "output_type": "display_data"
    }
   ],
   "source": [
    "# Визуализируем информацию о расстоянии для пользователей обеих категорий\n",
    "ultra_dist_median = data_ultra['distance'].median()\n",
    "\n",
    "free_dist_median = data_free['distance'].median()\n",
    "\n",
    "data_free_hist = data_free['distance'].hist(bins = 150, label = 'Без подписки', color = '#DED0B6')\n",
    "data_free_hist.axvline(free_dist_median, label = 'Медиана, без подписки', color = '#DED0B6', alpha = 0.5, linestyle = '--')\n",
    "\n",
    "data_ultra_hist = data_ultra['distance'].hist(bins = 150, ax = data_free_hist, figsize = (10, 4), alpha = 0.8, label = 'По подписке', color= '#607274')\n",
    "data_ultra_hist.axvline(ultra_dist_median, label = 'Медиана, по подписке', color = '#607274', alpha = 0.9, linestyle = '--')\n",
    "data_ultra_hist.set_xlabel('Расстояние, м')\n",
    "data_ultra_hist.set_ylabel('Количество пользователей')\n",
    "data_ultra_hist.set_title('Расстояние за одну поездку')\n",
    "plt.legend()\n",
    "plt.show()"
   ]
  },
  {
   "cell_type": "markdown",
   "id": "089bfada",
   "metadata": {},
   "source": [
    "Пользователи без подписки чаще совершают поездки, при этом разброс преодолеваемого расстояния у них шире, а медианное расстояние немного меньше, чем у пользователей с подпиской и составляет чуть больше 3 км."
   ]
  },
  {
   "cell_type": "code",
   "execution_count": 105,
   "id": "273789d2",
   "metadata": {},
   "outputs": [
    {
     "data": {
      "image/png": "[encoded data removed]",
      "text/plain": [
       "<Figure size 1000x400 with 1 Axes>"
      ]
     },
     "metadata": {},
     "output_type": "display_data"
    }
   ],
   "source": [
    "# Визуализируем информацию о расстоянии поездок для пользователей обеих категорий\n",
    "ultra_dur_median = data_ultra['duration'].median()\n",
    "\n",
    "free_dur_median = data_free['duration'].median()\n",
    "\n",
    "data_free_hist_dur = data_free['duration'].hist(bins = 150, label = 'Без подписки', color = '#DED0B6')\n",
    "data_free_hist_dur.axvline(free_dur_median, label = 'Медиана, без подписки', color = '#DED0B6', alpha = 0.5, linestyle = '--')\n",
    "\n",
    "data_ultra_hist_dur = data_ultra['duration'].hist(bins = 150, ax = data_free_hist_dur, figsize = (10, 4), alpha = 0.8, label = 'По подписке', color = '#607274')\n",
    "data_ultra_hist_dur.axvline(ultra_dur_median, label = 'Медиана, по подписке', color = '#607274', alpha = 0.9, linestyle = '--')\n",
    "data_ultra_hist_dur.set_xlabel('Продолжительность, мин')\n",
    "data_ultra_hist_dur.set_ylabel('Количество пользователей')\n",
    "data_ultra_hist_dur.set_title('Продолжительность поездок')\n",
    "plt.legend()\n",
    "plt.show()"
   ]
  },
  {
   "cell_type": "markdown",
   "id": "c7c84638",
   "metadata": {},
   "source": [
    "Пользователи без подписки чаще совершают поездки, однако медианное время поездки у них меньше, чем у пользователей с подпиской."
   ]
  },
  {
   "cell_type": "markdown",
   "id": "402d620f",
   "metadata": {},
   "source": [
    "## Подсчёт выручки<a id='earnings'></a>"
   ]
  },
  {
   "cell_type": "code",
   "execution_count": 106,
   "id": "77fb1218",
   "metadata": {},
   "outputs": [
    {
     "data": {
      "text/html": [
       "<div>\n",
       "<style scoped>\n",
       "    .dataframe tbody tr th:only-of-type {\n",
       "        vertical-align: middle;\n",
       "    }\n",
       "\n",
       "    .dataframe tbody tr th {\n",
       "        vertical-align: top;\n",
       "    }\n",
       "\n",
       "    .dataframe thead th {\n",
       "        text-align: right;\n",
       "    }\n",
       "</style>\n",
       "<table border=\"1\" class=\"dataframe\">\n",
       "  <thead>\n",
       "    <tr style=\"text-align: right;\">\n",
       "      <th></th>\n",
       "      <th>user_id</th>\n",
       "      <th>month_number</th>\n",
       "      <th>distance</th>\n",
       "      <th>duration</th>\n",
       "      <th>rides_number</th>\n",
       "      <th>subscription_type</th>\n",
       "      <th>minute_price</th>\n",
       "      <th>start_ride_price</th>\n",
       "      <th>subscription_fee</th>\n",
       "    </tr>\n",
       "  </thead>\n",
       "  <tbody>\n",
       "    <tr>\n",
       "      <th>0</th>\n",
       "      <td>1</td>\n",
       "      <td>1</td>\n",
       "      <td>7027.511294</td>\n",
       "      <td>42.0</td>\n",
       "      <td>2</td>\n",
       "      <td>ultra</td>\n",
       "      <td>6</td>\n",
       "      <td>0</td>\n",
       "      <td>199</td>\n",
       "    </tr>\n",
       "    <tr>\n",
       "      <th>1</th>\n",
       "      <td>1</td>\n",
       "      <td>4</td>\n",
       "      <td>754.159807</td>\n",
       "      <td>7.0</td>\n",
       "      <td>1</td>\n",
       "      <td>ultra</td>\n",
       "      <td>6</td>\n",
       "      <td>0</td>\n",
       "      <td>199</td>\n",
       "    </tr>\n",
       "    <tr>\n",
       "      <th>2</th>\n",
       "      <td>1</td>\n",
       "      <td>8</td>\n",
       "      <td>6723.470560</td>\n",
       "      <td>46.0</td>\n",
       "      <td>2</td>\n",
       "      <td>ultra</td>\n",
       "      <td>6</td>\n",
       "      <td>0</td>\n",
       "      <td>199</td>\n",
       "    </tr>\n",
       "    <tr>\n",
       "      <th>3</th>\n",
       "      <td>1</td>\n",
       "      <td>10</td>\n",
       "      <td>5809.911100</td>\n",
       "      <td>32.0</td>\n",
       "      <td>2</td>\n",
       "      <td>ultra</td>\n",
       "      <td>6</td>\n",
       "      <td>0</td>\n",
       "      <td>199</td>\n",
       "    </tr>\n",
       "    <tr>\n",
       "      <th>4</th>\n",
       "      <td>1</td>\n",
       "      <td>11</td>\n",
       "      <td>7003.499363</td>\n",
       "      <td>56.0</td>\n",
       "      <td>3</td>\n",
       "      <td>ultra</td>\n",
       "      <td>6</td>\n",
       "      <td>0</td>\n",
       "      <td>199</td>\n",
       "    </tr>\n",
       "    <tr>\n",
       "      <th>5</th>\n",
       "      <td>1</td>\n",
       "      <td>12</td>\n",
       "      <td>6751.629942</td>\n",
       "      <td>28.0</td>\n",
       "      <td>2</td>\n",
       "      <td>ultra</td>\n",
       "      <td>6</td>\n",
       "      <td>0</td>\n",
       "      <td>199</td>\n",
       "    </tr>\n",
       "    <tr>\n",
       "      <th>6</th>\n",
       "      <td>2</td>\n",
       "      <td>3</td>\n",
       "      <td>10187.723006</td>\n",
       "      <td>63.0</td>\n",
       "      <td>3</td>\n",
       "      <td>ultra</td>\n",
       "      <td>6</td>\n",
       "      <td>0</td>\n",
       "      <td>199</td>\n",
       "    </tr>\n",
       "    <tr>\n",
       "      <th>7</th>\n",
       "      <td>2</td>\n",
       "      <td>4</td>\n",
       "      <td>6164.381824</td>\n",
       "      <td>40.0</td>\n",
       "      <td>2</td>\n",
       "      <td>ultra</td>\n",
       "      <td>6</td>\n",
       "      <td>0</td>\n",
       "      <td>199</td>\n",
       "    </tr>\n",
       "    <tr>\n",
       "      <th>8</th>\n",
       "      <td>2</td>\n",
       "      <td>6</td>\n",
       "      <td>3255.338202</td>\n",
       "      <td>14.0</td>\n",
       "      <td>1</td>\n",
       "      <td>ultra</td>\n",
       "      <td>6</td>\n",
       "      <td>0</td>\n",
       "      <td>199</td>\n",
       "    </tr>\n",
       "    <tr>\n",
       "      <th>9</th>\n",
       "      <td>2</td>\n",
       "      <td>7</td>\n",
       "      <td>6780.722964</td>\n",
       "      <td>48.0</td>\n",
       "      <td>2</td>\n",
       "      <td>ultra</td>\n",
       "      <td>6</td>\n",
       "      <td>0</td>\n",
       "      <td>199</td>\n",
       "    </tr>\n",
       "  </tbody>\n",
       "</table>\n",
       "</div>"
      ],
      "text/plain": [
       "   user_id  month_number      distance  duration  rides_number  \\\n",
       "0        1             1   7027.511294      42.0             2   \n",
       "1        1             4    754.159807       7.0             1   \n",
       "2        1             8   6723.470560      46.0             2   \n",
       "3        1            10   5809.911100      32.0             2   \n",
       "4        1            11   7003.499363      56.0             3   \n",
       "5        1            12   6751.629942      28.0             2   \n",
       "6        2             3  10187.723006      63.0             3   \n",
       "7        2             4   6164.381824      40.0             2   \n",
       "8        2             6   3255.338202      14.0             1   \n",
       "9        2             7   6780.722964      48.0             2   \n",
       "\n",
       "  subscription_type  minute_price  start_ride_price  subscription_fee  \n",
       "0             ultra             6                 0               199  \n",
       "1             ultra             6                 0               199  \n",
       "2             ultra             6                 0               199  \n",
       "3             ultra             6                 0               199  \n",
       "4             ultra             6                 0               199  \n",
       "5             ultra             6                 0               199  \n",
       "6             ultra             6                 0               199  \n",
       "7             ultra             6                 0               199  \n",
       "8             ultra             6                 0               199  \n",
       "9             ultra             6                 0               199  "
      ]
     },
     "execution_count": 106,
     "metadata": {},
     "output_type": "execute_result"
    }
   ],
   "source": [
    "# Округлим в большую сторону длительность поездки, т.к. оплата поминутная\n",
    "data['duration'] = np.ceil(data['duration']) \n",
    "\n",
    "# Создадим датафрейм с агрегированными данными о поездках: \n",
    "# суммарное расстояние, количество поездок и суммарное время для каждого пользователя за каждый месяц, \n",
    "# а также данные о подписке для подсчета выручки\n",
    "data_grouped = (data\n",
    "                .groupby(['user_id', 'month_number'])\n",
    "                .agg({'distance': 'sum', 'duration': 'sum', 'date': 'count', 'subscription_type': 'first'})\n",
    "                .reset_index()\n",
    "                .rename(columns = {'date': 'rides_number'})\n",
    "                .merge(data_subscriptions, on = 'subscription_type', how = 'left')\n",
    "               )\n",
    "\n",
    "data_grouped.head(10)"
   ]
  },
  {
   "cell_type": "code",
   "execution_count": 107,
   "id": "f49796bd",
   "metadata": {},
   "outputs": [
    {
     "data": {
      "text/plain": [
       "user_id              0\n",
       "month_number         0\n",
       "distance             0\n",
       "duration             0\n",
       "rides_number         0\n",
       "subscription_type    0\n",
       "minute_price         0\n",
       "start_ride_price     0\n",
       "subscription_fee     0\n",
       "dtype: int64"
      ]
     },
     "execution_count": 107,
     "metadata": {},
     "output_type": "execute_result"
    }
   ],
   "source": [
    "# Проверим сводную таблицу на пропуски\n",
    "data_grouped.isna().sum()"
   ]
  },
  {
   "cell_type": "markdown",
   "id": "328be528",
   "metadata": {},
   "source": [
    "В сводной таблице пропуски отсутствуют"
   ]
  },
  {
   "cell_type": "code",
   "execution_count": 108,
   "id": "72a7cb63",
   "metadata": {},
   "outputs": [
    {
     "data": {
      "text/html": [
       "<div>\n",
       "<style scoped>\n",
       "    .dataframe tbody tr th:only-of-type {\n",
       "        vertical-align: middle;\n",
       "    }\n",
       "\n",
       "    .dataframe tbody tr th {\n",
       "        vertical-align: top;\n",
       "    }\n",
       "\n",
       "    .dataframe thead th {\n",
       "        text-align: right;\n",
       "    }\n",
       "</style>\n",
       "<table border=\"1\" class=\"dataframe\">\n",
       "  <thead>\n",
       "    <tr style=\"text-align: right;\">\n",
       "      <th></th>\n",
       "      <th>user_id</th>\n",
       "      <th>month_number</th>\n",
       "      <th>distance</th>\n",
       "      <th>duration</th>\n",
       "      <th>rides_number</th>\n",
       "      <th>subscription_type</th>\n",
       "      <th>minute_price</th>\n",
       "      <th>start_ride_price</th>\n",
       "      <th>subscription_fee</th>\n",
       "      <th>earnings</th>\n",
       "    </tr>\n",
       "  </thead>\n",
       "  <tbody>\n",
       "    <tr>\n",
       "      <th>0</th>\n",
       "      <td>1</td>\n",
       "      <td>1</td>\n",
       "      <td>7027.511294</td>\n",
       "      <td>42.0</td>\n",
       "      <td>2</td>\n",
       "      <td>ultra</td>\n",
       "      <td>6</td>\n",
       "      <td>0</td>\n",
       "      <td>199</td>\n",
       "      <td>451.0</td>\n",
       "    </tr>\n",
       "    <tr>\n",
       "      <th>1</th>\n",
       "      <td>1</td>\n",
       "      <td>4</td>\n",
       "      <td>754.159807</td>\n",
       "      <td>7.0</td>\n",
       "      <td>1</td>\n",
       "      <td>ultra</td>\n",
       "      <td>6</td>\n",
       "      <td>0</td>\n",
       "      <td>199</td>\n",
       "      <td>241.0</td>\n",
       "    </tr>\n",
       "    <tr>\n",
       "      <th>2</th>\n",
       "      <td>1</td>\n",
       "      <td>8</td>\n",
       "      <td>6723.470560</td>\n",
       "      <td>46.0</td>\n",
       "      <td>2</td>\n",
       "      <td>ultra</td>\n",
       "      <td>6</td>\n",
       "      <td>0</td>\n",
       "      <td>199</td>\n",
       "      <td>475.0</td>\n",
       "    </tr>\n",
       "    <tr>\n",
       "      <th>3</th>\n",
       "      <td>1</td>\n",
       "      <td>10</td>\n",
       "      <td>5809.911100</td>\n",
       "      <td>32.0</td>\n",
       "      <td>2</td>\n",
       "      <td>ultra</td>\n",
       "      <td>6</td>\n",
       "      <td>0</td>\n",
       "      <td>199</td>\n",
       "      <td>391.0</td>\n",
       "    </tr>\n",
       "    <tr>\n",
       "      <th>4</th>\n",
       "      <td>1</td>\n",
       "      <td>11</td>\n",
       "      <td>7003.499363</td>\n",
       "      <td>56.0</td>\n",
       "      <td>3</td>\n",
       "      <td>ultra</td>\n",
       "      <td>6</td>\n",
       "      <td>0</td>\n",
       "      <td>199</td>\n",
       "      <td>535.0</td>\n",
       "    </tr>\n",
       "    <tr>\n",
       "      <th>5</th>\n",
       "      <td>1</td>\n",
       "      <td>12</td>\n",
       "      <td>6751.629942</td>\n",
       "      <td>28.0</td>\n",
       "      <td>2</td>\n",
       "      <td>ultra</td>\n",
       "      <td>6</td>\n",
       "      <td>0</td>\n",
       "      <td>199</td>\n",
       "      <td>367.0</td>\n",
       "    </tr>\n",
       "    <tr>\n",
       "      <th>6</th>\n",
       "      <td>2</td>\n",
       "      <td>3</td>\n",
       "      <td>10187.723006</td>\n",
       "      <td>63.0</td>\n",
       "      <td>3</td>\n",
       "      <td>ultra</td>\n",
       "      <td>6</td>\n",
       "      <td>0</td>\n",
       "      <td>199</td>\n",
       "      <td>577.0</td>\n",
       "    </tr>\n",
       "    <tr>\n",
       "      <th>7</th>\n",
       "      <td>2</td>\n",
       "      <td>4</td>\n",
       "      <td>6164.381824</td>\n",
       "      <td>40.0</td>\n",
       "      <td>2</td>\n",
       "      <td>ultra</td>\n",
       "      <td>6</td>\n",
       "      <td>0</td>\n",
       "      <td>199</td>\n",
       "      <td>439.0</td>\n",
       "    </tr>\n",
       "    <tr>\n",
       "      <th>8</th>\n",
       "      <td>2</td>\n",
       "      <td>6</td>\n",
       "      <td>3255.338202</td>\n",
       "      <td>14.0</td>\n",
       "      <td>1</td>\n",
       "      <td>ultra</td>\n",
       "      <td>6</td>\n",
       "      <td>0</td>\n",
       "      <td>199</td>\n",
       "      <td>283.0</td>\n",
       "    </tr>\n",
       "    <tr>\n",
       "      <th>9</th>\n",
       "      <td>2</td>\n",
       "      <td>7</td>\n",
       "      <td>6780.722964</td>\n",
       "      <td>48.0</td>\n",
       "      <td>2</td>\n",
       "      <td>ultra</td>\n",
       "      <td>6</td>\n",
       "      <td>0</td>\n",
       "      <td>199</td>\n",
       "      <td>487.0</td>\n",
       "    </tr>\n",
       "  </tbody>\n",
       "</table>\n",
       "</div>"
      ],
      "text/plain": [
       "   user_id  month_number      distance  duration  rides_number  \\\n",
       "0        1             1   7027.511294      42.0             2   \n",
       "1        1             4    754.159807       7.0             1   \n",
       "2        1             8   6723.470560      46.0             2   \n",
       "3        1            10   5809.911100      32.0             2   \n",
       "4        1            11   7003.499363      56.0             3   \n",
       "5        1            12   6751.629942      28.0             2   \n",
       "6        2             3  10187.723006      63.0             3   \n",
       "7        2             4   6164.381824      40.0             2   \n",
       "8        2             6   3255.338202      14.0             1   \n",
       "9        2             7   6780.722964      48.0             2   \n",
       "\n",
       "  subscription_type  minute_price  start_ride_price  subscription_fee  \\\n",
       "0             ultra             6                 0               199   \n",
       "1             ultra             6                 0               199   \n",
       "2             ultra             6                 0               199   \n",
       "3             ultra             6                 0               199   \n",
       "4             ultra             6                 0               199   \n",
       "5             ultra             6                 0               199   \n",
       "6             ultra             6                 0               199   \n",
       "7             ultra             6                 0               199   \n",
       "8             ultra             6                 0               199   \n",
       "9             ultra             6                 0               199   \n",
       "\n",
       "   earnings  \n",
       "0     451.0  \n",
       "1     241.0  \n",
       "2     475.0  \n",
       "3     391.0  \n",
       "4     535.0  \n",
       "5     367.0  \n",
       "6     577.0  \n",
       "7     439.0  \n",
       "8     283.0  \n",
       "9     487.0  "
      ]
     },
     "execution_count": 108,
     "metadata": {},
     "output_type": "execute_result"
    }
   ],
   "source": [
    "# Добавим столбец с помесячной выручкой, которую принёс каждый пользователь за каждый месяц\n",
    "\n",
    "data_grouped['earnings'] = data_grouped['subscription_fee'] + data_grouped['start_ride_price']*data_grouped['rides_number'] + data_grouped['minute_price']*data_grouped['duration']\n",
    "\n",
    "data_grouped.head(10)"
   ]
  },
  {
   "cell_type": "code",
   "execution_count": 109,
   "id": "4cf2ae52",
   "metadata": {},
   "outputs": [
    {
     "data": {
      "image/png": "[encoded data removed]",
      "text/plain": [
       "<Figure size 640x480 with 1 Axes>"
      ]
     },
     "metadata": {},
     "output_type": "display_data"
    }
   ],
   "source": [
    "#Исследуем ежемесячную выручку пользователей с платной полпиской и без нее и построим распределения  \n",
    "\n",
    "data_grouped_ultra = data_grouped.query('subscription_type == \"ultra\"')\n",
    "data_grouped_free = data_grouped.query('subscription_type == \"free\"')\n",
    "\n",
    "data_grouped_ultra_median = data_grouped_ultra['earnings'].median()\n",
    "data_grouped_free_median = data_grouped_free['earnings'].median()\n",
    "\n",
    "\n",
    "data_grouped_free_hist = data_grouped_free['earnings'].hist(bins = 150, label = 'Без подписки', color = '#DED0B6') \n",
    "data_grouped_free_hist.axvline(data_grouped_free_median, label = 'Медиана, без подписки', color = '#DED0B6', alpha = 0.5, linestyle = '--')\n",
    "\n",
    "data_grouped_ultra_hist = data_grouped_ultra['earnings'].hist(bins = 150, label = 'По подписке', alpha = 0.8, ax = data_grouped_free_hist, color = '#607274')\n",
    "data_grouped_ultra_hist.axvline(data_grouped_ultra_median, label = 'Медиана, по подписке', color = '#607274', alpha = 0.9, linestyle = '--')\n",
    "                                                             \n",
    "data_grouped_ultra_hist.set_xlabel('Выручка в месяц, руб.')\n",
    "data_grouped_ultra_hist.set_ylabel('Частота')\n",
    "data_grouped_ultra_hist.set_title('Ежемесячная выручка в разбивке по тарифам')\n",
    "plt.legend()\n",
    "    \n",
    "plt.show()\n"
   ]
  },
  {
   "cell_type": "markdown",
   "id": "7ae13dc5",
   "metadata": {},
   "source": [
    "Согласно гистограмме ежемесячная выручка пользователей с платной подпподпиской имеет меньший разрос и смещена вправо, в сторону увеличения выручки, кроме того медианное значение ежемесячной выручки пользователей с подпиской выше, чем пользователей без нее."
   ]
  },
  {
   "cell_type": "markdown",
   "id": "41545ac0",
   "metadata": {},
   "source": [
    "## Проверка гипотез<a id='hypotheses'></a>"
   ]
  },
  {
   "cell_type": "markdown",
   "id": "11ec1ad4",
   "metadata": {},
   "source": [
    "**Проверим гипотезу:** тратят ли пользователи с подпиской больше времени на поездки? Это важно, т.к. длительность поездки напрямую влияет на выручку. Для этого:\n",
    "    \n",
    "   1. Сформулируем нулевую гипотезу: пользователи с платной подпиской в среднем тратят на поездки столько же времени, сколько пользователи без подписки.\n",
    "   2. Сформулируем альтернативную гипотезу: пользователи с подпиской в среднем тратят больше времени на поездки, чем пользователи без подписки."
   ]
  },
  {
   "cell_type": "code",
   "execution_count": 110,
   "id": "23ea867b",
   "metadata": {},
   "outputs": [
    {
     "name": "stdout",
     "output_type": "stream",
     "text": [
      "Средняя продолжительность поездки пользователя с подпиской равна 18.54 минут.\n",
      "Средняя продолжительность поездки пользователя без подписки равна 17.39 минут.\n",
      "p-value: 5.675781377128977e-37\n",
      "Отвергаем нулевую гипотезу\n"
     ]
    }
   ],
   "source": [
    "# На шаге 4 мы видели, что продолжительность поездок для пользователей с подпиской и без распределена нормально.\n",
    "# Проверим с помощью t-теста гипотезу о том, тратят ли пользователи с подпиской больше времени на поездки\n",
    "# Вычислим среднее по каждой выборке\n",
    "\n",
    "ultra_dur_mean = data_ultra['duration'].mean().round(2)\n",
    "free_dur_mean = data_free['duration'].mean().round(2)\n",
    "\n",
    "print(f'Средняя продолжительность поездки пользователя с подпиской равна {ultra_dur_mean} минут.')\n",
    "print(f'Средняя продолжительность поездки пользователя без подписки равна {free_dur_mean} минут.')\n",
    "\n",
    "# проводим t-test для двух независимых выборок, в качестве альтернативной используем одностороннюю гипотезу «больше»\n",
    "# зададим уровень значимости\n",
    "\n",
    "alpha = 0.05\n",
    "results_dur = st.ttest_ind(data_ultra['duration'], data_free['duration'], alternative='greater', equal_var = False)\n",
    "\n",
    "print(f'p-value: {results_dur.pvalue}')\n",
    "\n",
    "# проверяем p-value\n",
    "if results_dur.pvalue < alpha:\n",
    "    print('Отвергаем нулевую гипотезу')\n",
    "else:\n",
    "    print('Нет оснований отвергнуть нулевую гипотезу')"
   ]
  },
  {
   "cell_type": "markdown",
   "id": "d379fa5e",
   "metadata": {},
   "source": [
    "Полученное значение p-value (1.6162210195310587e-29) намного меньше заданного уровня значимости, поэтому можно отвергнуть нулевую гипотезу в пользу альтернативной - пользователи с подпиской в среднем тратят больше времени на поездку, а значит потенциально более выгодны с точки зрения потенциальной выручки за поездки."
   ]
  },
  {
   "cell_type": "markdown",
   "id": "4e9df520",
   "metadata": {},
   "source": [
    "**Проверим гипотезу:** можно ли сказать, что среднее расстояние, которое проезжают пользователи с подпиской за одну поездку, не превышает 3130 метров (оптимальное с точки зрения износа самоката). Для этого:\n",
    "    \n",
    "   1. Сформулируем нулевую гипотезу: пользователи с платной подпиской в среднем за одну поездку проезжают 3130 метров.\n",
    "   2. Сформулируем альтернативную гипотезу: пользователи с подпиской в среднем за одну поездку проезжают больше 3130 метров."
   ]
  },
  {
   "cell_type": "code",
   "execution_count": 111,
   "id": "bec7bfb4",
   "metadata": {},
   "outputs": [
    {
     "name": "stdout",
     "output_type": "stream",
     "text": [
      "Среднее расстояние, которое проезжают пользователи с подпиской равно 3115.45 метров.\n",
      "p-value: 0.9195368847849785\n",
      "Не отвергаем нулевую гипотезу\n"
     ]
    }
   ],
   "source": [
    "# Проверим гипотезу о том, что среднее расстояние, которое проезжают пользователи с подпиской за одну поездку, \n",
    "# не превышает 3130 метров — оптимальное с точки зрения износа самоката.\n",
    "\n",
    "ultra_dis_mean = data_ultra['distance'].mean().round(2) \n",
    "print(f'Среднее расстояние, которое проезжают пользователи с подпиской равно {ultra_dis_mean} метров.')\n",
    "\n",
    "# проводим одновыборочный t-test, в качестве альтернативной используем одностороннюю гипотезу «меньше»\n",
    "# зададим уровень значимости\n",
    "\n",
    "alpha = 0.05\n",
    "value = 3130\n",
    "results_dis = st.ttest_1samp(data_ultra['distance'], value, alternative = 'greater')\n",
    "\n",
    "print('p-value:', results_dis.pvalue)\n",
    "\n",
    "# проверяем p-value\n",
    "if (results_dis.pvalue < alpha):\n",
    "    print('Отвергаем нулевую гипотезу')\n",
    "else:\n",
    "    print('Не отвергаем нулевую гипотезу') "
   ]
  },
  {
   "cell_type": "markdown",
   "id": "53a621a0",
   "metadata": {},
   "source": [
    "Полученное значение p-value позволяет не отвергать нулевую гипотезу о том, что пользователи с подпиской проезжают в среднем не более 3130 метров, то есть преодолевают расстояние оптимальное с точки зрения износа самоката."
   ]
  },
  {
   "cell_type": "markdown",
   "id": "b29c246e",
   "metadata": {},
   "source": [
    "***Проверим гипотезу:*** будет ли помесячная выручка от пользователей с подпиской по месяцам выше, чем выручка от пользователей без подписки. Для этого:\n",
    "    \n",
    "   1. Сформулируем нулевую гипотезу: помесячная выручка от пользователей с подпиской по месяцам равна выручке пользователей без подписки.\n",
    "   2. Сформулируем альтернативную гипотезу: помесячная выручка от пользователей с подпиской по месяцам больше выручки пользователей без подписки."
   ]
  },
  {
   "cell_type": "code",
   "execution_count": 112,
   "id": "4ac116a4",
   "metadata": {},
   "outputs": [
    {
     "name": "stdout",
     "output_type": "stream",
     "text": [
      "Среднемесячная выручка от пользователя с подпиской равна 362.79 рублей.\n",
      "Среднемесячная выручка от пользователя без подписки равна 328.64 рублей.\n",
      "p-value: 8.874140893976874e-40\n",
      "Отвергаем нулевую гипотезу\n"
     ]
    }
   ],
   "source": [
    "# Посчитаем среднее\n",
    "data_grouped_ultra_mean = data_grouped_ultra['earnings'].mean().round(2)\n",
    "data_grouped_free_mean = data_grouped_free['earnings'].mean().round(2)\n",
    "\n",
    "print(f'Среднемесячная выручка от пользователя с подпиской равна {data_grouped_ultra_mean} рублей.')\n",
    "print(f'Среднемесячная выручка от пользователя без подписки равна {data_grouped_free_mean} рублей.')\n",
    "\n",
    "# проводим t-test для двух независимых выборок, в качестве альтернативной используем одностороннюю гипотезу «больше»\n",
    "# зададим уровень значимости\n",
    "\n",
    "alpha = 0.05\n",
    "results_earn = st.ttest_ind(data_grouped_ultra['earnings'], data_grouped_free['earnings'], alternative = 'greater', equal_var = False)\n",
    "\n",
    "print(f'p-value: {results_earn.pvalue}')\n",
    "\n",
    "# проверяем p-value\n",
    "if results_earn.pvalue < alpha:\n",
    "    print('Отвергаем нулевую гипотезу')\n",
    "else:\n",
    "    print('Нет оснований отвергнуть нулевую гипотезу')"
   ]
  },
  {
   "cell_type": "markdown",
   "id": "4c2f2840",
   "metadata": {},
   "source": [
    "Полученное значение p-value (8.874140893976874e-40) намного меньше заданного уровня значимости, поэтому мы можем отвергнуть нулевую гипотезу в пользу альтернативной - среднемесячная выручка, которую приносит один пользователь с подпиской больше среднемесячной выручки пользователя без нее, что подтверждается гистограммой, построенной на шаге 5."
   ]
  },
  {
   "cell_type": "markdown",
   "id": "61213c5e",
   "metadata": {},
   "source": [
    "## Распределения. Задачи <a id='tasks'></a>"
   ]
  },
  {
   "cell_type": "markdown",
   "id": "18967910",
   "metadata": {},
   "source": [
    "**Задача 1.**<p> Отделу маркетинга GoFast поставили задачу: нужно провести акцию с раздачей промокодов на один бесплатный месяц подписки, в рамках которой как минимум 100 существующих клиентов должны продлить эту подписку. То есть по завершении периода действия подписки пользователь может либо отказаться от неё, либо продлить, совершив соответствующий платёж. \n",
    "Эта акция уже проводилась ранее и по итогу выяснилось, что после бесплатного пробного периода подписку продлевают 10 % пользователей. Выясните, какое минимальное количество промокодов нужно разослать, чтобы вероятность не выполнить план была примерно 5 %. Подберите параметры распределения, описывающего эту ситуацию, постройте график распределения и сформулируйте ответ на вопрос о количестве промокодов."
   ]
  },
  {
   "cell_type": "code",
   "execution_count": 113,
   "id": "95cd1d51",
   "metadata": {},
   "outputs": [
    {
     "data": {
      "text/plain": [
       "0.0505235199072141"
      ]
     },
     "execution_count": 113,
     "metadata": {},
     "output_type": "execute_result"
    },
    {
     "data": {
      "image/png": "[encoded data removed]",
      "text/plain": [
       "<Figure size 640x480 with 1 Axes>"
      ]
     },
     "metadata": {},
     "output_type": "display_data"
    }
   ],
   "source": [
    "# задаём параметры биномиального распределения для, например, 1000 независимых экспериментов, строим график распределения\n",
    "# и далее, меняя значение n смотрим, как меняется значение переменной result, \n",
    "# в конечном итоге ее значение должно быть максимально близко к 5  \n",
    "n_sub = 1171\n",
    "p_sub = 0.1\n",
    "\n",
    "dr = []\n",
    "\n",
    "for k in range(0, 200):\n",
    "    dr.append(binom.pmf(k,n_sub, p_sub))\n",
    "\n",
    "plt.bar(range(0, 200), dr, color = '#607274')\n",
    "plt.xlabel('Значения')\n",
    "plt.ylabel('Вероятности')\n",
    "plt.title('Распределение')\n",
    "plt.grid(True)\n",
    "\n",
    "result = binom.cdf(100,n_sub, p_sub, loc = 0)\n",
    "result\n"
   ]
  },
  {
   "cell_type": "markdown",
   "id": "557b2174",
   "metadata": {},
   "source": [
    "Таким образом, мы подобрали такое значение количества промокодов n = 1171, при котором вероятность того, что менее 100 чел. продлят подписку, равна 5,05 %."
   ]
  },
  {
   "cell_type": "markdown",
   "id": "7331ea64",
   "metadata": {},
   "source": [
    "**Задача 2.** <p> Отдел маркетинга рассылает клиентам push-уведомления в мобильном приложении. Клиенты могут открыть его или не открывать. Известно, что уведомления открывают около 40 % получивших клиентов. Отдел планирует разослать 1 млн уведомлений. С помощью аппроксимации постройте примерный график распределения и оцените вероятность того, что уведомление откроют не более 399,5 тыс. пользователей."
   ]
  },
  {
   "cell_type": "code",
   "execution_count": 114,
   "id": "ffdfc298",
   "metadata": {
    "scrolled": false
   },
   "outputs": [
    {
     "data": {
      "image/png": "[encoded data removed]",
      "text/plain": [
       "<Figure size 640x480 with 1 Axes>"
      ]
     },
     "metadata": {},
     "output_type": "display_data"
    },
    {
     "name": "stdout",
     "output_type": "stream",
     "text": [
      "0.15371708296369768\n"
     ]
    }
   ],
   "source": [
    "# задаём параметры биномиального распределения\n",
    "n_push = 1000000\n",
    "p_push = 0.4\n",
    "\n",
    "# зададим мат.ожидание и ст.отклонение нормального распределения равными\n",
    "# мат.ожиданию и ст.отклонению биномиального распределения\n",
    "mu = n_push * p_push\n",
    "sigma = sqrt(n_push * p_push * (1 - p_push))\n",
    "\n",
    "# зададим нормальное распределение\n",
    "distr = st.norm(mu, sigma)\n",
    "\n",
    "# зададим функцию, которая выдаёт <num> чисел,\n",
    "# равномерно распределённых от <start> до <stop>\n",
    "# (понадобится для визуализации нормального распределения)\n",
    "def linspace(start, stop, num):\n",
    "    step = (stop - start) / (num - 1)\n",
    "    result = []\n",
    "    for i in range(num):\n",
    "        result.append(start + step * i)\n",
    "    return result\n",
    "\n",
    "# границы промежутка, в котором будем строить график \n",
    "right = int(mu + 4 * sigma)\n",
    "left = int(mu - 4 * sigma)\n",
    "\n",
    "#рисуем график\n",
    "x = linspace(left, right, 1000)\n",
    "theplot = plt.subplot()\n",
    "theplot.plot(x, st.norm.pdf(x, mu, sigma), color = '#607274')\n",
    "plt.xlabel('Значения')\n",
    "plt.ylabel('Плотность вероятности')\n",
    "plt.title('Распределение')\n",
    "plt.grid(True)\n",
    "plt.show()\n",
    "\n",
    "\n",
    "# считаем вероятность хвоста слева от 399500 \n",
    "result = distr.cdf(399500)\n",
    "print(result)\n"
   ]
  },
  {
   "cell_type": "markdown",
   "id": "db8ad736",
   "metadata": {},
   "source": [
    "Вероятность того, что уведомление откроют не более 399,5 тыс. пользователей составило 15,3 %"
   ]
  },
  {
   "cell_type": "markdown",
   "id": "0acbfbd8",
   "metadata": {},
   "source": [
    "***Вывод***\n",
    "<p>Согласно приведенным данным сервиса аренды самокатов о пользователях и поездках больше всего зарегистрированных пользователей в Пятигорске (219 - 14,28 %) и Екатеринбурге (204 - 13,3 %). Средний возраст пользователя сервиса - 25 лет, наиболее популярен сервис у молодых людей в возрасте от 20 до 30 лет, среднее время одной поездки составляет 17 минут, а среднее расстояние - 3 км. \n",
    "45,57 % всех пользователей имеют подписку, а 54,43 % пользователей - нет, однако большая часть рассматриваемых поездок (63,8 %) совершена пользователями без подписки, тем не менее анализ параметров поездок пользователей обоих категорий полказал, что пользователи с платной подпиской совершают более длительные по времени и расстоянию поездки, что в свою очередь приводит к тому, что ежемесячная выручка, которую получает сервис от пользователя с подпиской превышает выручку от пользователя без подписки, что делает увеличение количества пользователей с платной подпиской перспективным для роста выручки направлением, так, например, расслыка  1171 промокодов с вероятностью 95% увеличит количество платных подписок минимум на 100 шт."
   ]
  }
 ],
 "metadata": {
  "ExecuteTimeLog": [
   {
    "duration": 1121,
    "start_time": "2024-03-19T00:14:23.744Z"
   },
   {
    "duration": 168,
    "start_time": "2024-03-19T00:14:24.866Z"
   },
   {
    "duration": 74,
    "start_time": "2024-03-19T00:14:25.036Z"
   },
   {
    "duration": 53,
    "start_time": "2024-03-19T00:14:25.112Z"
   },
   {
    "duration": 3,
    "start_time": "2024-03-19T00:14:25.166Z"
   },
   {
    "duration": 11,
    "start_time": "2024-03-19T00:14:25.170Z"
   },
   {
    "duration": 16,
    "start_time": "2024-03-19T00:14:25.182Z"
   },
   {
    "duration": 15,
    "start_time": "2024-03-19T00:14:25.199Z"
   },
   {
    "duration": 6,
    "start_time": "2024-03-19T00:14:25.216Z"
   },
   {
    "duration": 18,
    "start_time": "2024-03-19T00:14:25.225Z"
   },
   {
    "duration": 12,
    "start_time": "2024-03-19T00:14:25.245Z"
   },
   {
    "duration": 184,
    "start_time": "2024-03-19T00:14:25.258Z"
   },
   {
    "duration": 10,
    "start_time": "2024-03-19T00:14:25.444Z"
   },
   {
    "duration": 128,
    "start_time": "2024-03-19T00:14:25.456Z"
   },
   {
    "duration": 8,
    "start_time": "2024-03-19T00:14:25.585Z"
   },
   {
    "duration": 179,
    "start_time": "2024-03-19T00:14:25.594Z"
   },
   {
    "duration": 11,
    "start_time": "2024-03-19T00:14:25.775Z"
   },
   {
    "duration": 260,
    "start_time": "2024-03-19T00:14:25.787Z"
   },
   {
    "duration": 7,
    "start_time": "2024-03-19T00:14:26.049Z"
   },
   {
    "duration": 27,
    "start_time": "2024-03-19T00:14:26.057Z"
   },
   {
    "duration": 370,
    "start_time": "2024-03-19T00:14:26.086Z"
   },
   {
    "duration": 6,
    "start_time": "2024-03-19T00:14:26.457Z"
   },
   {
    "duration": 25,
    "start_time": "2024-03-19T00:14:26.464Z"
   },
   {
    "duration": 7,
    "start_time": "2024-03-19T00:14:26.491Z"
   },
   {
    "duration": 46,
    "start_time": "2024-03-19T00:14:26.499Z"
   },
   {
    "duration": 11,
    "start_time": "2024-03-19T00:14:26.547Z"
   },
   {
    "duration": 26,
    "start_time": "2024-03-19T00:14:26.559Z"
   },
   {
    "duration": 907,
    "start_time": "2024-03-19T00:14:26.587Z"
   },
   {
    "duration": 877,
    "start_time": "2024-03-19T00:14:27.496Z"
   },
   {
    "duration": 29,
    "start_time": "2024-03-19T00:14:28.374Z"
   },
   {
    "duration": 13,
    "start_time": "2024-03-19T00:14:28.404Z"
   },
   {
    "duration": 14,
    "start_time": "2024-03-19T00:14:28.419Z"
   },
   {
    "duration": 8,
    "start_time": "2024-03-19T00:14:28.435Z"
   },
   {
    "duration": 42,
    "start_time": "2024-03-19T00:14:28.444Z"
   },
   {
    "duration": 7,
    "start_time": "2024-03-19T00:14:28.487Z"
   },
   {
    "duration": 26,
    "start_time": "2024-03-19T00:14:28.495Z"
   },
   {
    "duration": 525,
    "start_time": "2024-03-19T00:14:28.523Z"
   },
   {
    "duration": 165,
    "start_time": "2024-03-19T00:14:29.050Z"
   },
   {
    "duration": 1112,
    "start_time": "2024-03-19T11:16:31.008Z"
   },
   {
    "duration": 73,
    "start_time": "2024-03-19T11:16:32.121Z"
   },
   {
    "duration": 108,
    "start_time": "2024-03-19T11:16:32.195Z"
   },
   {
    "duration": 52,
    "start_time": "2024-03-19T11:16:32.305Z"
   },
   {
    "duration": 3,
    "start_time": "2024-03-19T11:16:32.358Z"
   },
   {
    "duration": 65,
    "start_time": "2024-03-19T11:16:32.362Z"
   },
   {
    "duration": 40,
    "start_time": "2024-03-19T11:16:32.428Z"
   },
   {
    "duration": 29,
    "start_time": "2024-03-19T11:16:32.469Z"
   },
   {
    "duration": 25,
    "start_time": "2024-03-19T11:16:32.500Z"
   },
   {
    "duration": 44,
    "start_time": "2024-03-19T11:16:32.528Z"
   },
   {
    "duration": 73,
    "start_time": "2024-03-19T11:16:32.573Z"
   },
   {
    "duration": 208,
    "start_time": "2024-03-19T11:16:32.647Z"
   },
   {
    "duration": 13,
    "start_time": "2024-03-19T11:16:32.857Z"
   },
   {
    "duration": 124,
    "start_time": "2024-03-19T11:16:32.872Z"
   },
   {
    "duration": 8,
    "start_time": "2024-03-19T11:16:32.997Z"
   },
   {
    "duration": 180,
    "start_time": "2024-03-19T11:16:33.006Z"
   },
   {
    "duration": 8,
    "start_time": "2024-03-19T11:16:33.188Z"
   },
   {
    "duration": 269,
    "start_time": "2024-03-19T11:16:33.197Z"
   },
   {
    "duration": 7,
    "start_time": "2024-03-19T11:16:33.469Z"
   },
   {
    "duration": 8,
    "start_time": "2024-03-19T11:16:33.477Z"
   },
   {
    "duration": 372,
    "start_time": "2024-03-19T11:16:33.486Z"
   },
   {
    "duration": 12,
    "start_time": "2024-03-19T11:16:33.860Z"
   },
   {
    "duration": 14,
    "start_time": "2024-03-19T11:16:33.873Z"
   },
   {
    "duration": 7,
    "start_time": "2024-03-19T11:16:33.888Z"
   },
   {
    "duration": 25,
    "start_time": "2024-03-19T11:16:33.897Z"
   },
   {
    "duration": 11,
    "start_time": "2024-03-19T11:16:33.923Z"
   },
   {
    "duration": 35,
    "start_time": "2024-03-19T11:16:33.935Z"
   },
   {
    "duration": 892,
    "start_time": "2024-03-19T11:16:33.973Z"
   },
   {
    "duration": 824,
    "start_time": "2024-03-19T11:16:34.866Z"
   },
   {
    "duration": 25,
    "start_time": "2024-03-19T11:16:35.691Z"
   },
   {
    "duration": 13,
    "start_time": "2024-03-19T11:16:35.718Z"
   },
   {
    "duration": 26,
    "start_time": "2024-03-19T11:16:35.732Z"
   },
   {
    "duration": 10,
    "start_time": "2024-03-19T11:16:35.760Z"
   },
   {
    "duration": 23,
    "start_time": "2024-03-19T11:16:35.772Z"
   },
   {
    "duration": 6,
    "start_time": "2024-03-19T11:16:35.796Z"
   },
   {
    "duration": 11,
    "start_time": "2024-03-19T11:16:35.804Z"
   },
   {
    "duration": 507,
    "start_time": "2024-03-19T11:16:35.817Z"
   },
   {
    "duration": 161,
    "start_time": "2024-03-19T11:16:36.325Z"
   },
   {
    "duration": 1082,
    "start_time": "2024-03-19T11:23:05.799Z"
   },
   {
    "duration": 62,
    "start_time": "2024-03-19T11:23:06.883Z"
   },
   {
    "duration": 78,
    "start_time": "2024-03-19T11:23:06.946Z"
   },
   {
    "duration": 48,
    "start_time": "2024-03-19T11:23:07.026Z"
   },
   {
    "duration": 2,
    "start_time": "2024-03-19T11:23:07.076Z"
   },
   {
    "duration": 27,
    "start_time": "2024-03-19T11:23:07.080Z"
   },
   {
    "duration": 32,
    "start_time": "2024-03-19T11:23:07.108Z"
   },
   {
    "duration": 21,
    "start_time": "2024-03-19T11:23:07.142Z"
   },
   {
    "duration": 26,
    "start_time": "2024-03-19T11:23:07.164Z"
   },
   {
    "duration": 51,
    "start_time": "2024-03-19T11:23:07.193Z"
   },
   {
    "duration": 19,
    "start_time": "2024-03-19T11:23:07.246Z"
   },
   {
    "duration": 179,
    "start_time": "2024-03-19T11:23:07.266Z"
   },
   {
    "duration": 10,
    "start_time": "2024-03-19T11:23:07.446Z"
   },
   {
    "duration": 129,
    "start_time": "2024-03-19T11:23:07.458Z"
   },
   {
    "duration": 7,
    "start_time": "2024-03-19T11:23:07.589Z"
   },
   {
    "duration": 178,
    "start_time": "2024-03-19T11:23:07.597Z"
   },
   {
    "duration": 9,
    "start_time": "2024-03-19T11:23:07.777Z"
   },
   {
    "duration": 271,
    "start_time": "2024-03-19T11:23:07.787Z"
   },
   {
    "duration": 11,
    "start_time": "2024-03-19T11:23:08.059Z"
   },
   {
    "duration": 18,
    "start_time": "2024-03-19T11:23:08.071Z"
   },
   {
    "duration": 390,
    "start_time": "2024-03-19T11:23:08.090Z"
   },
   {
    "duration": 6,
    "start_time": "2024-03-19T11:23:08.481Z"
   },
   {
    "duration": 32,
    "start_time": "2024-03-19T11:23:08.489Z"
   },
   {
    "duration": 6,
    "start_time": "2024-03-19T11:23:08.522Z"
   },
   {
    "duration": 48,
    "start_time": "2024-03-19T11:23:08.529Z"
   },
   {
    "duration": 11,
    "start_time": "2024-03-19T11:23:08.578Z"
   },
   {
    "duration": 28,
    "start_time": "2024-03-19T11:23:08.591Z"
   },
   {
    "duration": 960,
    "start_time": "2024-03-19T11:23:08.621Z"
   },
   {
    "duration": 937,
    "start_time": "2024-03-19T11:23:09.582Z"
   },
   {
    "duration": 27,
    "start_time": "2024-03-19T11:23:10.521Z"
   },
   {
    "duration": 27,
    "start_time": "2024-03-19T11:23:10.549Z"
   },
   {
    "duration": 14,
    "start_time": "2024-03-19T11:23:10.577Z"
   },
   {
    "duration": 6,
    "start_time": "2024-03-19T11:23:10.592Z"
   },
   {
    "duration": 20,
    "start_time": "2024-03-19T11:23:10.599Z"
   },
   {
    "duration": 6,
    "start_time": "2024-03-19T11:23:10.621Z"
   },
   {
    "duration": 10,
    "start_time": "2024-03-19T11:23:10.628Z"
   },
   {
    "duration": 534,
    "start_time": "2024-03-19T11:23:10.639Z"
   },
   {
    "duration": 166,
    "start_time": "2024-03-19T11:23:11.174Z"
   },
   {
    "duration": 1084,
    "start_time": "2024-03-21T18:35:55.974Z"
   },
   {
    "duration": 67,
    "start_time": "2024-03-21T18:35:57.060Z"
   },
   {
    "duration": 81,
    "start_time": "2024-03-21T18:35:57.129Z"
   },
   {
    "duration": 76,
    "start_time": "2024-03-21T18:35:57.212Z"
   },
   {
    "duration": 3,
    "start_time": "2024-03-21T18:35:57.290Z"
   },
   {
    "duration": 33,
    "start_time": "2024-03-21T18:35:57.294Z"
   },
   {
    "duration": 12,
    "start_time": "2024-03-21T18:35:57.328Z"
   },
   {
    "duration": 17,
    "start_time": "2024-03-21T18:35:57.341Z"
   },
   {
    "duration": 7,
    "start_time": "2024-03-21T18:35:57.360Z"
   },
   {
    "duration": 10,
    "start_time": "2024-03-21T18:35:57.370Z"
   },
   {
    "duration": 20,
    "start_time": "2024-03-21T18:35:57.381Z"
   },
   {
    "duration": 17,
    "start_time": "2024-03-21T18:35:57.403Z"
   },
   {
    "duration": 195,
    "start_time": "2024-03-21T18:35:57.421Z"
   },
   {
    "duration": 11,
    "start_time": "2024-03-21T18:35:57.618Z"
   },
   {
    "duration": 83,
    "start_time": "2024-03-21T18:35:57.631Z"
   },
   {
    "duration": 8,
    "start_time": "2024-03-21T18:35:57.715Z"
   },
   {
    "duration": 198,
    "start_time": "2024-03-21T18:35:57.724Z"
   },
   {
    "duration": 9,
    "start_time": "2024-03-21T18:35:57.924Z"
   },
   {
    "duration": 279,
    "start_time": "2024-03-21T18:35:57.934Z"
   },
   {
    "duration": 6,
    "start_time": "2024-03-21T18:35:58.215Z"
   },
   {
    "duration": 12,
    "start_time": "2024-03-21T18:35:58.223Z"
   },
   {
    "duration": 373,
    "start_time": "2024-03-21T18:35:58.236Z"
   },
   {
    "duration": 25,
    "start_time": "2024-03-21T18:35:58.610Z"
   },
   {
    "duration": 3,
    "start_time": "2024-03-21T18:35:58.637Z"
   },
   {
    "duration": 23,
    "start_time": "2024-03-21T18:35:58.641Z"
   },
   {
    "duration": 11,
    "start_time": "2024-03-21T18:35:58.666Z"
   },
   {
    "duration": 29,
    "start_time": "2024-03-21T18:35:58.679Z"
   },
   {
    "duration": 968,
    "start_time": "2024-03-21T18:35:58.711Z"
   },
   {
    "duration": 921,
    "start_time": "2024-03-21T18:35:59.681Z"
   },
   {
    "duration": 26,
    "start_time": "2024-03-21T18:36:00.604Z"
   },
   {
    "duration": 45,
    "start_time": "2024-03-21T18:36:00.631Z"
   },
   {
    "duration": 57,
    "start_time": "2024-03-21T18:36:00.678Z"
   },
   {
    "duration": 1061,
    "start_time": "2024-03-21T18:36:00.737Z"
   },
   {
    "duration": 8,
    "start_time": "2024-03-21T18:36:01.801Z"
   },
   {
    "duration": 58,
    "start_time": "2024-03-21T18:36:01.811Z"
   },
   {
    "duration": 38,
    "start_time": "2024-03-21T18:36:01.871Z"
   },
   {
    "duration": 536,
    "start_time": "2024-03-21T18:36:01.911Z"
   },
   {
    "duration": 171,
    "start_time": "2024-03-21T18:36:02.448Z"
   }
  ],
  "kernelspec": {
   "display_name": "Python 3 (ipykernel)",
   "language": "python",
   "name": "python3"
  },
  "language_info": {
   "codemirror_mode": {
    "name": "ipython",
    "version": 3
   },
   "file_extension": ".py",
   "mimetype": "text/x-python",
   "name": "python",
   "nbconvert_exporter": "python",
   "pygments_lexer": "ipython3",
   "version": "3.9.18"
  },
  "toc": {
   "base_numbering": 1,
   "nav_menu": {},
   "number_sections": true,
   "sideBar": true,
   "skip_h1_title": true,
   "title_cell": "Table of Contents",
   "title_sidebar": "Contents",
   "toc_cell": false,
   "toc_position": {},
   "toc_section_display": true,
   "toc_window_display": false
  }
 },
 "nbformat": 4,
 "nbformat_minor": 5
}
