{
 "cells": [
  {
   "cell_type": "markdown",
   "id": "bb2a5331",
   "metadata": {},
   "source": [
    "# Исследование воронки продаж стартапа по продаже продуктов питания"
   ]
  },
  {
   "cell_type": "markdown",
   "id": "94dd92d9",
   "metadata": {},
   "source": [
    "***Описание и цели проекта***\n",
    "\n",
    "Для целей анализа воронки продаж стратапа по продаже продуктов питания и последующего исследования результатов A/A/B-эксперимента для оценки эффекта от изменения шрифтов в приложении изучим следующие имеющиеся в распоряжении данные лога:\n",
    "\n",
    "- название события\n",
    "- уникальный идентификатор пользователя\n",
    "- время события\n",
    "- номер эксперимента: 246 и 247 — контрольные группы, а 248 — экспериментальная\n",
    "\n",
    "На основаниии указанных данных:\n",
    "\n",
    "1. Выполним предобработку данных\n",
    "2. Изучим данные лога: \n",
    "- количество пользователей и событий, среднее количество событий на одного пользователя\n",
    "- оценим и скорректируем при необходимости период, за который анализируются данные\n",
    "3. Изучим воронку событий:\n",
    "- построим воронку событий, скорректировав при необходимости перечень рассматриваемых событий\n",
    "- оценим \"потери\" пользователей на каждом шаге и в периоде до оплаты\n",
    "4. В ходе A/A/B-эксперимента оценим влияние изменения шрифтов на долю пользователей на каждом шаге воронки продаж"
   ]
  },
  {
   "cell_type": "markdown",
   "id": "1a0d2532",
   "metadata": {},
   "source": [
    "## Предобработка данных"
   ]
  },
  {
   "cell_type": "code",
   "execution_count": 57,
   "id": "125b952e",
   "metadata": {},
   "outputs": [],
   "source": [
    "import pandas as pd\n",
    "import numpy as np\n",
    "from datetime import datetime, timedelta\n",
    "from matplotlib import pyplot as plt\n",
    "import seaborn as sns\n",
    "import math as mth\n",
    "from scipy import stats as st\n",
    "import plotly.express as px"
   ]
  },
  {
   "cell_type": "code",
   "execution_count": 58,
   "id": "56d0c308",
   "metadata": {},
   "outputs": [],
   "source": [
    "data = pd.read_csv('https://code.s3.yandex.net/datasets/logs_exp.csv', sep = '\\t')"
   ]
  },
  {
   "cell_type": "code",
   "execution_count": 59,
   "id": "47bf4b41",
   "metadata": {},
   "outputs": [
    {
     "name": "stdout",
     "output_type": "stream",
     "text": [
      "<class 'pandas.core.frame.DataFrame'>\n",
      "RangeIndex: 244126 entries, 0 to 244125\n",
      "Data columns (total 4 columns):\n",
      " #   Column          Non-Null Count   Dtype \n",
      "---  ------          --------------   ----- \n",
      " 0   EventName       244126 non-null  object\n",
      " 1   DeviceIDHash    244126 non-null  int64 \n",
      " 2   EventTimestamp  244126 non-null  int64 \n",
      " 3   ExpId           244126 non-null  int64 \n",
      "dtypes: int64(3), object(1)\n",
      "memory usage: 7.5+ MB\n"
     ]
    }
   ],
   "source": [
    "# Выведем основную информацию о датафрейме\n",
    "data.info() "
   ]
  },
  {
   "cell_type": "code",
   "execution_count": 60,
   "id": "64617d69",
   "metadata": {},
   "outputs": [],
   "source": [
    "# Переименуем столбцы\n",
    "data = data.rename(columns = {'EventName': 'event_name', 'DeviceIDHash': 'user_id', 'EventTimestamp': 'event_timestamp', 'ExpId': 'exp_id'}) "
   ]
  },
  {
   "cell_type": "code",
   "execution_count": 61,
   "id": "5e7053cf",
   "metadata": {},
   "outputs": [
    {
     "data": {
      "text/plain": [
       "'Количество дубликатов: 413'"
      ]
     },
     "execution_count": 61,
     "metadata": {},
     "output_type": "execute_result"
    }
   ],
   "source": [
    "# Проверим количество дубликатов\n",
    "f'Количество дубликатов: {data.duplicated().sum()}'"
   ]
  },
  {
   "cell_type": "code",
   "execution_count": 62,
   "id": "1d5083a9",
   "metadata": {},
   "outputs": [
    {
     "name": "stdout",
     "output_type": "stream",
     "text": [
      " Уникальные значения в столбце с названиями событий: ['MainScreenAppear' 'PaymentScreenSuccessful' 'CartScreenAppear'\n",
      " 'OffersScreenAppear' 'Tutorial']\n"
     ]
    },
    {
     "data": {
      "text/plain": [
       "' Уникальные значения в столбце с названиями групп: [246 248 247]'"
      ]
     },
     "execution_count": 62,
     "metadata": {},
     "output_type": "execute_result"
    }
   ],
   "source": [
    "# Выведем уникальные названия групп и этапов воронки, чтобы проверить наличие неявных дубликатов \n",
    "print(f' Уникальные значения в столбце с названиями событий: {data[\"event_name\"].unique()}')\n",
    "f' Уникальные значения в столбце с названиями групп: {data[\"exp_id\"].unique()}'"
   ]
  },
  {
   "cell_type": "markdown",
   "id": "b7d1569d",
   "metadata": {},
   "source": [
    "Неявные дубликаты отсутствуют"
   ]
  },
  {
   "cell_type": "code",
   "execution_count": 63,
   "id": "e3dcab1e",
   "metadata": {},
   "outputs": [
    {
     "data": {
      "text/plain": [
       "'Количество дубликатов: 0'"
      ]
     },
     "execution_count": 63,
     "metadata": {},
     "output_type": "execute_result"
    }
   ],
   "source": [
    "# Удалим дубликаты и проверим результат удаления\n",
    "data = data.drop_duplicates()\n",
    "f'Количество дубликатов: {data.duplicated().sum()}'"
   ]
  },
  {
   "cell_type": "code",
   "execution_count": 64,
   "id": "7aef85e4",
   "metadata": {},
   "outputs": [
    {
     "data": {
      "text/plain": [
       "'Количество пропусков: event_name         0\\nuser_id            0\\nevent_timestamp    0\\nexp_id             0\\ndtype: int64'"
      ]
     },
     "execution_count": 64,
     "metadata": {},
     "output_type": "execute_result"
    }
   ],
   "source": [
    "# Проверим наличие пропусков в данных\n",
    "f'Количество пропусков: {data.isna().sum().sort_values(ascending = False)}'"
   ]
  },
  {
   "cell_type": "markdown",
   "id": "75fa4b43",
   "metadata": {},
   "source": [
    "Пропуски отсутствуют"
   ]
  },
  {
   "cell_type": "code",
   "execution_count": 65,
   "id": "648d5589",
   "metadata": {},
   "outputs": [
    {
     "data": {
      "text/html": [
       "<div>\n",
       "<style scoped>\n",
       "    .dataframe tbody tr th:only-of-type {\n",
       "        vertical-align: middle;\n",
       "    }\n",
       "\n",
       "    .dataframe tbody tr th {\n",
       "        vertical-align: top;\n",
       "    }\n",
       "\n",
       "    .dataframe thead th {\n",
       "        text-align: right;\n",
       "    }\n",
       "</style>\n",
       "<table border=\"1\" class=\"dataframe\">\n",
       "  <thead>\n",
       "    <tr style=\"text-align: right;\">\n",
       "      <th></th>\n",
       "      <th>event_name</th>\n",
       "      <th>user_id</th>\n",
       "      <th>event_timestamp</th>\n",
       "      <th>exp_id</th>\n",
       "      <th>event_date</th>\n",
       "    </tr>\n",
       "  </thead>\n",
       "  <tbody>\n",
       "    <tr>\n",
       "      <th>0</th>\n",
       "      <td>MainScreenAppear</td>\n",
       "      <td>4575588528974610257</td>\n",
       "      <td>2019-07-25 04:43:36</td>\n",
       "      <td>246</td>\n",
       "      <td>2019-07-25</td>\n",
       "    </tr>\n",
       "    <tr>\n",
       "      <th>1</th>\n",
       "      <td>MainScreenAppear</td>\n",
       "      <td>7416695313311560658</td>\n",
       "      <td>2019-07-25 11:11:42</td>\n",
       "      <td>246</td>\n",
       "      <td>2019-07-25</td>\n",
       "    </tr>\n",
       "    <tr>\n",
       "      <th>2</th>\n",
       "      <td>PaymentScreenSuccessful</td>\n",
       "      <td>3518123091307005509</td>\n",
       "      <td>2019-07-25 11:28:47</td>\n",
       "      <td>248</td>\n",
       "      <td>2019-07-25</td>\n",
       "    </tr>\n",
       "    <tr>\n",
       "      <th>3</th>\n",
       "      <td>CartScreenAppear</td>\n",
       "      <td>3518123091307005509</td>\n",
       "      <td>2019-07-25 11:28:47</td>\n",
       "      <td>248</td>\n",
       "      <td>2019-07-25</td>\n",
       "    </tr>\n",
       "    <tr>\n",
       "      <th>4</th>\n",
       "      <td>PaymentScreenSuccessful</td>\n",
       "      <td>6217807653094995999</td>\n",
       "      <td>2019-07-25 11:48:42</td>\n",
       "      <td>248</td>\n",
       "      <td>2019-07-25</td>\n",
       "    </tr>\n",
       "  </tbody>\n",
       "</table>\n",
       "</div>"
      ],
      "text/plain": [
       "                event_name              user_id     event_timestamp exp_id  \\\n",
       "0         MainScreenAppear  4575588528974610257 2019-07-25 04:43:36    246   \n",
       "1         MainScreenAppear  7416695313311560658 2019-07-25 11:11:42    246   \n",
       "2  PaymentScreenSuccessful  3518123091307005509 2019-07-25 11:28:47    248   \n",
       "3         CartScreenAppear  3518123091307005509 2019-07-25 11:28:47    248   \n",
       "4  PaymentScreenSuccessful  6217807653094995999 2019-07-25 11:48:42    248   \n",
       "\n",
       "   event_date  \n",
       "0  2019-07-25  \n",
       "1  2019-07-25  \n",
       "2  2019-07-25  \n",
       "3  2019-07-25  \n",
       "4  2019-07-25  "
      ]
     },
     "execution_count": 65,
     "metadata": {},
     "output_type": "execute_result"
    }
   ],
   "source": [
    "# Исправим формат данных в столбце с датой события\n",
    "data['event_timestamp'] = pd.to_datetime(data['event_timestamp'], unit = 's') \n",
    "\n",
    "# Также изменим тип данных в столбце с группой на 'object', т.к. это не число, а категория\n",
    "data['exp_id'] = data['exp_id'].astype('object')\n",
    "\n",
    "# Добавим столбец с датой\n",
    "data['event_date'] = pd.to_datetime(data['event_timestamp']).dt.date\n",
    "data.head()"
   ]
  },
  {
   "cell_type": "markdown",
   "id": "a49a61ec",
   "metadata": {},
   "source": [
    "## Предварительный анализ данных"
   ]
  },
  {
   "cell_type": "code",
   "execution_count": 66,
   "id": "ea5d4517",
   "metadata": {},
   "outputs": [
    {
     "data": {
      "text/plain": [
       "'Количество событий в логе: 243713'"
      ]
     },
     "execution_count": 66,
     "metadata": {},
     "output_type": "execute_result"
    }
   ],
   "source": [
    "# Определим, сколько всего событий в логе\n",
    "# Поскольку датафрейм очищен от пропусков и дубликатов, количество строк должно быть равно количеству уникальных событий\n",
    "f'Количество событий в логе: {len(data)}'"
   ]
  },
  {
   "cell_type": "code",
   "execution_count": 67,
   "id": "68b6255e",
   "metadata": {},
   "outputs": [
    {
     "data": {
      "text/plain": [
       "'Количество пользователей в логе: 7551'"
      ]
     },
     "execution_count": 67,
     "metadata": {},
     "output_type": "execute_result"
    }
   ],
   "source": [
    "# Определим, сколько всего пользователей в логе\n",
    "f\"Количество пользователей в логе: {data['user_id'].nunique()}\""
   ]
  },
  {
   "cell_type": "code",
   "execution_count": 68,
   "id": "7ad0b9f6",
   "metadata": {},
   "outputs": [
    {
     "data": {
      "text/plain": [
       "'В среднем на одного пользователя приходится 32.28 событий'"
      ]
     },
     "execution_count": 68,
     "metadata": {},
     "output_type": "execute_result"
    }
   ],
   "source": [
    "# Определим, сколько в среднем событий приходится на пользователя\n",
    "f\"В среднем на одного пользователя приходится {round(len(data)/data['user_id'].nunique(), 2)} событий\""
   ]
  },
  {
   "cell_type": "code",
   "execution_count": 69,
   "id": "b575cc1d",
   "metadata": {},
   "outputs": [
    {
     "data": {
      "text/html": [
       "<div>\n",
       "<style scoped>\n",
       "    .dataframe tbody tr th:only-of-type {\n",
       "        vertical-align: middle;\n",
       "    }\n",
       "\n",
       "    .dataframe tbody tr th {\n",
       "        vertical-align: top;\n",
       "    }\n",
       "\n",
       "    .dataframe thead th {\n",
       "        text-align: right;\n",
       "    }\n",
       "</style>\n",
       "<table border=\"1\" class=\"dataframe\">\n",
       "  <thead>\n",
       "    <tr style=\"text-align: right;\">\n",
       "      <th></th>\n",
       "      <th>events_number</th>\n",
       "    </tr>\n",
       "    <tr>\n",
       "      <th>user_id</th>\n",
       "      <th></th>\n",
       "    </tr>\n",
       "  </thead>\n",
       "  <tbody>\n",
       "    <tr>\n",
       "      <th>6888746892508752</th>\n",
       "      <td>1</td>\n",
       "    </tr>\n",
       "    <tr>\n",
       "      <th>6909561520679493</th>\n",
       "      <td>5</td>\n",
       "    </tr>\n",
       "    <tr>\n",
       "      <th>6922444491712477</th>\n",
       "      <td>47</td>\n",
       "    </tr>\n",
       "    <tr>\n",
       "      <th>7435777799948366</th>\n",
       "      <td>6</td>\n",
       "    </tr>\n",
       "    <tr>\n",
       "      <th>7702139951469979</th>\n",
       "      <td>137</td>\n",
       "    </tr>\n",
       "  </tbody>\n",
       "</table>\n",
       "</div>"
      ],
      "text/plain": [
       "                  events_number\n",
       "user_id                        \n",
       "6888746892508752              1\n",
       "6909561520679493              5\n",
       "6922444491712477             47\n",
       "7435777799948366              6\n",
       "7702139951469979            137"
      ]
     },
     "metadata": {},
     "output_type": "display_data"
    },
    {
     "data": {
      "text/plain": [
       "count    7551.000000\n",
       "mean       32.275593\n",
       "std        65.154219\n",
       "min         1.000000\n",
       "25%         9.000000\n",
       "50%        20.000000\n",
       "75%        37.000000\n",
       "max      2307.000000\n",
       "Name: events_number, dtype: float64"
      ]
     },
     "execution_count": 69,
     "metadata": {},
     "output_type": "execute_result"
    }
   ],
   "source": [
    "# Оценим разброс количества событий на одного пользователя\n",
    "\n",
    "data_events_per_users= (data\n",
    "                        .pivot_table(index = 'user_id', values = 'event_name', aggfunc = 'count')\n",
    "                        .rename(columns = {'event_name': 'events_number'}) \n",
    "                       )\n",
    "display(data_events_per_users.head())\n",
    "data_events_per_users['events_number'].describe()"
   ]
  },
  {
   "cell_type": "code",
   "execution_count": 70,
   "id": "75213c4f",
   "metadata": {},
   "outputs": [
    {
     "data": {
      "image/png": "[encoded data removed]",
      "text/plain": [
       "<Figure size 1000x500 with 1 Axes>"
      ]
     },
     "metadata": {},
     "output_type": "display_data"
    }
   ],
   "source": [
    "plt.figure(figsize = (10, 5))\n",
    "x_values = pd.Series(range(0,len(data_events_per_users)))\n",
    "plt.scatter(x_values, data_events_per_users['events_number'], color = '#607274', alpha = 0.5) \n",
    "plt.xlabel('Порядковый номер пользователя')\n",
    "plt.ylabel('Количество событий')\n",
    "plt.title('Точечный график количества событий на одного пользователя') \n",
    "plt.grid()\n",
    "plt.show()"
   ]
  },
  {
   "cell_type": "markdown",
   "id": "6d5a9860",
   "metadata": {},
   "source": [
    "Медианное количество событий на одного пользователя - 20, при этом минимальное количество - 1, а максимальное - 2307, 75 % пользователей совершают не более 35 событий. Кроме того, большое количества выбросов также видим на точечном графике. Соответственно, отдельные наиболее активные пользователи из-за аномально большого количества событий, попав в одну из групп, могут повлиять на результат теста при оценке количества событий на каждом этапе, однако удаление каждого из таких пользователей может привести к потере большого числа событий, поэтому будем контролировать объем удаленных данных(событий) первоначального датасета, чтобы потерять не более 5 %."
   ]
  },
  {
   "cell_type": "code",
   "execution_count": 71,
   "id": "c7249a19",
   "metadata": {},
   "outputs": [
    {
     "data": {
      "text/plain": [
       "(243713, 7551)"
      ]
     },
     "execution_count": 71,
     "metadata": {},
     "output_type": "execute_result"
    }
   ],
   "source": [
    "# Сохраним в переменные размер первоначального датасета(количество событий), а также количество уникальных пользователей, \n",
    "# чтобы в дальнейшем использователь для оценки размера удаленных данных\n",
    "rows_events = data.shape[0] \n",
    "rows_users = data['user_id'].nunique()\n",
    "rows_events, rows_users"
   ]
  },
  {
   "cell_type": "code",
   "execution_count": 72,
   "id": "62c3695a",
   "metadata": {},
   "outputs": [
    {
     "name": "stdout",
     "output_type": "stream",
     "text": [
      "Удалено событий: 7512 шт. (3.08 % данных)\n",
      "Удалено пользователей: 4 шт. (0.05 % данных)\n"
     ]
    }
   ],
   "source": [
    "dad = data_events_per_users.query('events_number < 1300').index\n",
    "data = data.query('user_id in @dad')\n",
    "\n",
    "print(f'Удалено событий: {rows_events - data.shape[0]} шт. ({round(((1 - data.shape[0]/rows_events)*100), 2)} % данных)')  \n",
    "print(f'Удалено пользователей: {rows_users - data[\"user_id\"].nunique()} шт. ({round(((1 - data[\"user_id\"].nunique()/rows_users)*100), 2)} % данных)') "
   ]
  },
  {
   "cell_type": "code",
   "execution_count": 73,
   "id": "6814a046",
   "metadata": {},
   "outputs": [
    {
     "name": "stdout",
     "output_type": "stream",
     "text": [
      "Данные за период с 2019-07-25 по 2019-08-07\n"
     ]
    }
   ],
   "source": [
    "# Оценим временной промежуток, за который предоставлены данные\n",
    "print(f\"Данные за период с {data['event_date'].min()} по {data['event_date'].max()}\")"
   ]
  },
  {
   "cell_type": "markdown",
   "id": "44d38511",
   "metadata": {},
   "source": [
    "Итого в нашем распоряжении данные за 14 дней"
   ]
  },
  {
   "cell_type": "code",
   "execution_count": 74,
   "id": "fc488b59",
   "metadata": {},
   "outputs": [
    {
     "data": {
      "image/png": "[encoded data removed]",
      "text/plain": [
       "<Figure size 1000x500 with 1 Axes>"
      ]
     },
     "metadata": {},
     "output_type": "display_data"
    }
   ],
   "source": [
    "# Определим, как меняется количество данных за рассматриваемый период\n",
    "data_grouped_by_event = data.pivot_table(index = 'event_name', columns = 'event_date', values = 'user_id', aggfunc = 'count')\n",
    "data_grouped_by_event.plot(kind = 'bar', figsize = (10, 5), color = ['#A0937D', '#CCD3CA', '#E6B9A6', '#B6C7AA', '#DED0B6', '#607274', '#939185', '#2F3645', '#D6DAC8', '#9CAFAA', '#967E76', '#A2A378', '#E4D0D0', '#A4907C', '#C7BCA1', '#AA8B56'])\n",
    "plt.xlabel('Название события')\n",
    "plt.ylabel('Количество событий за период')\n",
    "plt.title('Количество событий в зависимости \\nот времени в разрезе групп') \n",
    "plt.xticks(rotation = 20)\n",
    "plt.grid()\n",
    "plt.show()"
   ]
  },
  {
   "cell_type": "markdown",
   "id": "660a229a",
   "metadata": {},
   "source": [
    "На диаграмме видим, что столбцы, показывающие количество событий за июль (с 25.07.19 по 31.07.19) практически не визуализируются, т.к. данные ха указанный период представлены в гораздо меньшем объеме, чем данные за август (с 01.08.19 по 07.08.19), поэтому для целей исследования имеет смысл ограничить рассматриваемые данные временным промежутком с 01.08.19 по 07.08.19, т.е. периодом в одну неделю."
   ]
  },
  {
   "cell_type": "code",
   "execution_count": 75,
   "id": "dc5f8d97",
   "metadata": {},
   "outputs": [
    {
     "data": {
      "text/html": [
       "<div>\n",
       "<style scoped>\n",
       "    .dataframe tbody tr th:only-of-type {\n",
       "        vertical-align: middle;\n",
       "    }\n",
       "\n",
       "    .dataframe tbody tr th {\n",
       "        vertical-align: top;\n",
       "    }\n",
       "\n",
       "    .dataframe thead th {\n",
       "        text-align: right;\n",
       "    }\n",
       "</style>\n",
       "<table border=\"1\" class=\"dataframe\">\n",
       "  <thead>\n",
       "    <tr style=\"text-align: right;\">\n",
       "      <th></th>\n",
       "      <th>event_name</th>\n",
       "      <th>user_id</th>\n",
       "      <th>event_timestamp</th>\n",
       "      <th>exp_id</th>\n",
       "      <th>event_date</th>\n",
       "    </tr>\n",
       "  </thead>\n",
       "  <tbody>\n",
       "    <tr>\n",
       "      <th>797</th>\n",
       "      <td>MainScreenAppear</td>\n",
       "      <td>3670880358399219515</td>\n",
       "      <td>2019-07-31 01:11:46</td>\n",
       "      <td>247</td>\n",
       "      <td>2019-07-31</td>\n",
       "    </tr>\n",
       "    <tr>\n",
       "      <th>798</th>\n",
       "      <td>OffersScreenAppear</td>\n",
       "      <td>3799109751993694887</td>\n",
       "      <td>2019-07-31 01:21:04</td>\n",
       "      <td>248</td>\n",
       "      <td>2019-07-31</td>\n",
       "    </tr>\n",
       "    <tr>\n",
       "      <th>799</th>\n",
       "      <td>Tutorial</td>\n",
       "      <td>1126021718529336913</td>\n",
       "      <td>2019-07-31 01:32:11</td>\n",
       "      <td>247</td>\n",
       "      <td>2019-07-31</td>\n",
       "    </tr>\n",
       "    <tr>\n",
       "      <th>800</th>\n",
       "      <td>MainScreenAppear</td>\n",
       "      <td>4293428370257583636</td>\n",
       "      <td>2019-07-31 02:19:18</td>\n",
       "      <td>248</td>\n",
       "      <td>2019-07-31</td>\n",
       "    </tr>\n",
       "    <tr>\n",
       "      <th>801</th>\n",
       "      <td>MainScreenAppear</td>\n",
       "      <td>4567464647598975872</td>\n",
       "      <td>2019-07-31 02:33:30</td>\n",
       "      <td>247</td>\n",
       "      <td>2019-07-31</td>\n",
       "    </tr>\n",
       "    <tr>\n",
       "      <th>...</th>\n",
       "      <td>...</td>\n",
       "      <td>...</td>\n",
       "      <td>...</td>\n",
       "      <td>...</td>\n",
       "      <td>...</td>\n",
       "    </tr>\n",
       "    <tr>\n",
       "      <th>39031</th>\n",
       "      <td>OffersScreenAppear</td>\n",
       "      <td>6077372516405234625</td>\n",
       "      <td>2019-08-01 23:56:45</td>\n",
       "      <td>246</td>\n",
       "      <td>2019-08-01</td>\n",
       "    </tr>\n",
       "    <tr>\n",
       "      <th>39032</th>\n",
       "      <td>OffersScreenAppear</td>\n",
       "      <td>6077372516405234625</td>\n",
       "      <td>2019-08-01 23:56:57</td>\n",
       "      <td>246</td>\n",
       "      <td>2019-08-01</td>\n",
       "    </tr>\n",
       "    <tr>\n",
       "      <th>39035</th>\n",
       "      <td>OffersScreenAppear</td>\n",
       "      <td>1872978591788881482</td>\n",
       "      <td>2019-08-01 23:57:31</td>\n",
       "      <td>247</td>\n",
       "      <td>2019-08-01</td>\n",
       "    </tr>\n",
       "    <tr>\n",
       "      <th>39041</th>\n",
       "      <td>OffersScreenAppear</td>\n",
       "      <td>6077372516405234625</td>\n",
       "      <td>2019-08-01 23:57:50</td>\n",
       "      <td>246</td>\n",
       "      <td>2019-08-01</td>\n",
       "    </tr>\n",
       "    <tr>\n",
       "      <th>39051</th>\n",
       "      <td>OffersScreenAppear</td>\n",
       "      <td>1872978591788881482</td>\n",
       "      <td>2019-08-01 23:58:31</td>\n",
       "      <td>247</td>\n",
       "      <td>2019-08-01</td>\n",
       "    </tr>\n",
       "  </tbody>\n",
       "</table>\n",
       "<p>36081 rows × 5 columns</p>\n",
       "</div>"
      ],
      "text/plain": [
       "               event_name              user_id     event_timestamp exp_id  \\\n",
       "797      MainScreenAppear  3670880358399219515 2019-07-31 01:11:46    247   \n",
       "798    OffersScreenAppear  3799109751993694887 2019-07-31 01:21:04    248   \n",
       "799              Tutorial  1126021718529336913 2019-07-31 01:32:11    247   \n",
       "800      MainScreenAppear  4293428370257583636 2019-07-31 02:19:18    248   \n",
       "801      MainScreenAppear  4567464647598975872 2019-07-31 02:33:30    247   \n",
       "...                   ...                  ...                 ...    ...   \n",
       "39031  OffersScreenAppear  6077372516405234625 2019-08-01 23:56:45    246   \n",
       "39032  OffersScreenAppear  6077372516405234625 2019-08-01 23:56:57    246   \n",
       "39035  OffersScreenAppear  1872978591788881482 2019-08-01 23:57:31    247   \n",
       "39041  OffersScreenAppear  6077372516405234625 2019-08-01 23:57:50    246   \n",
       "39051  OffersScreenAppear  1872978591788881482 2019-08-01 23:58:31    247   \n",
       "\n",
       "       event_date  \n",
       "797    2019-07-31  \n",
       "798    2019-07-31  \n",
       "799    2019-07-31  \n",
       "800    2019-07-31  \n",
       "801    2019-07-31  \n",
       "...           ...  \n",
       "39031  2019-08-01  \n",
       "39032  2019-08-01  \n",
       "39035  2019-08-01  \n",
       "39041  2019-08-01  \n",
       "39051  2019-08-01  \n",
       "\n",
       "[36081 rows x 5 columns]"
      ]
     },
     "execution_count": 75,
     "metadata": {},
     "output_type": "execute_result"
    }
   ],
   "source": [
    "# Рассмотрим более детально переход с 31 июля на 1 августа\n",
    "data_3107_0108 = data.query('event_timestamp >= \"2019-07-31 00:00:00\" and event_timestamp < \"2019-08-02 00:00:00\"')\n",
    "data_3107_0108"
   ]
  },
  {
   "cell_type": "code",
   "execution_count": 76,
   "id": "2c507ef3",
   "metadata": {},
   "outputs": [
    {
     "data": {
      "image/png": "[encoded data removed]",
      "text/plain": [
       "<Figure size 1200x500 with 1 Axes>"
      ]
     },
     "metadata": {},
     "output_type": "display_data"
    }
   ],
   "source": [
    "# Визуализируем количество всех событий с 31.07.19 по 01.08.19, \n",
    "#указав количество корзин сопоставимое с количеством минут в рассматриваемом промежутке\n",
    "plt.figure(figsize = (12, 5))\n",
    "data_3107_0108['event_timestamp'].hist(bins = 2880, grid = True, color =  '#607274')\n",
    "plt.xlabel('Дата и время')\n",
    "plt.ylabel('Средний чек')\n",
    "plt.title('Частота событий с 31.07.19 по 01.08.19') \n",
    "plt.xticks(rotation = 45)\n",
    "plt.grid()\n",
    "plt.show()"
   ]
  },
  {
   "cell_type": "markdown",
   "id": "d5a116e2",
   "metadata": {},
   "source": [
    "Первый скачок произошел 31.07.после 21:00, далее количество постепенно возрастало c 00:00 01.08"
   ]
  },
  {
   "cell_type": "code",
   "execution_count": 77,
   "id": "baf16932",
   "metadata": {},
   "outputs": [
    {
     "name": "stdout",
     "output_type": "stream",
     "text": [
      "Удалено событий: 9499 шт. (3.9 % данных)\n",
      "Удалено пользователей: 17 шт. (0.23 % данных)\n"
     ]
    }
   ],
   "source": [
    "# Ограничим данные временным промежутком с 01.08.19 по 07.08.19 и перезапишем их в новую переменную\n",
    "\n",
    "data_new = data.query('event_timestamp >= \"2019-07-31 21:00:00\"')\n",
    "\n",
    "# Оценим объем удаленных данных\n",
    "print(f'Удалено событий: {rows_events - data_new.shape[0]} шт. ({round(((1 - data_new.shape[0]/rows_events)*100), 2)} % данных)')  \n",
    "print(f'Удалено пользователей: {rows_users - data_new[\"user_id\"].nunique()} шт. ({round(((1 - data_new[\"user_id\"].nunique()/rows_users)*100), 2)} % данных)') "
   ]
  },
  {
   "cell_type": "code",
   "execution_count": 78,
   "id": "0166184a",
   "metadata": {},
   "outputs": [
    {
     "data": {
      "text/plain": [
       "'В новом датасете представлены представители следующих экспериментальных групп: [247 248 246]'"
      ]
     },
     "execution_count": 78,
     "metadata": {},
     "output_type": "execute_result"
    }
   ],
   "source": [
    "# Удостоверимся, что в новую переменную записаны данные о всех трех группах пользователей\n",
    "f\"В новом датасете представлены представители следующих экспериментальных групп: {data_new['exp_id'].unique()}\""
   ]
  },
  {
   "cell_type": "markdown",
   "id": "dcc53af0",
   "metadata": {},
   "source": [
    "Представители всех трех групп попали в новый датасет"
   ]
  },
  {
   "cell_type": "markdown",
   "id": "b19a6186",
   "metadata": {},
   "source": [
    "## Анализ воронки событий"
   ]
  },
  {
   "cell_type": "code",
   "execution_count": 79,
   "id": "6ba2e037",
   "metadata": {},
   "outputs": [
    {
     "data": {
      "text/plain": [
       "MainScreenAppear           117547\n",
       "OffersScreenAppear          45702\n",
       "CartScreenAppear            39117\n",
       "PaymentScreenSuccessful     30838\n",
       "Tutorial                     1010\n",
       "Name: event_name, dtype: int64"
      ]
     },
     "execution_count": 79,
     "metadata": {},
     "output_type": "execute_result"
    }
   ],
   "source": [
    "# Проверим частоту появления каждого события в логе\n",
    "data_new['event_name'].value_counts(ascending = False)"
   ]
  },
  {
   "cell_type": "markdown",
   "id": "ba74c40c",
   "metadata": {},
   "source": [
    "Отсортированные по частоте собятия представляют собой воронку, где события представлены в хронологической последовательности: \n",
    "- главная страница\n",
    "- страница с предложениями\n",
    "- корзина заказа\n",
    "- оплата заказа\n",
    "\n",
    "Однако обучение - наиболее редкое событие, вероятно, оно не является обязательным и не встраивается в воронку."
   ]
  },
  {
   "cell_type": "code",
   "execution_count": 80,
   "id": "5f2de3ff",
   "metadata": {},
   "outputs": [
    {
     "data": {
      "text/html": [
       "<div>\n",
       "<style scoped>\n",
       "    .dataframe tbody tr th:only-of-type {\n",
       "        vertical-align: middle;\n",
       "    }\n",
       "\n",
       "    .dataframe tbody tr th {\n",
       "        vertical-align: top;\n",
       "    }\n",
       "\n",
       "    .dataframe thead th {\n",
       "        text-align: right;\n",
       "    }\n",
       "</style>\n",
       "<table border=\"1\" class=\"dataframe\">\n",
       "  <thead>\n",
       "    <tr style=\"text-align: right;\">\n",
       "      <th></th>\n",
       "      <th>users_number</th>\n",
       "      <th>users_rate_%</th>\n",
       "    </tr>\n",
       "    <tr>\n",
       "      <th>event_name</th>\n",
       "      <th></th>\n",
       "      <th></th>\n",
       "    </tr>\n",
       "  </thead>\n",
       "  <tbody>\n",
       "    <tr>\n",
       "      <th>MainScreenAppear</th>\n",
       "      <td>7419</td>\n",
       "      <td>98.47</td>\n",
       "    </tr>\n",
       "    <tr>\n",
       "      <th>OffersScreenAppear</th>\n",
       "      <td>4593</td>\n",
       "      <td>60.96</td>\n",
       "    </tr>\n",
       "    <tr>\n",
       "      <th>CartScreenAppear</th>\n",
       "      <td>3732</td>\n",
       "      <td>49.54</td>\n",
       "    </tr>\n",
       "    <tr>\n",
       "      <th>PaymentScreenSuccessful</th>\n",
       "      <td>3536</td>\n",
       "      <td>46.93</td>\n",
       "    </tr>\n",
       "    <tr>\n",
       "      <th>Tutorial</th>\n",
       "      <td>843</td>\n",
       "      <td>11.19</td>\n",
       "    </tr>\n",
       "  </tbody>\n",
       "</table>\n",
       "</div>"
      ],
      "text/plain": [
       "                         users_number  users_rate_%\n",
       "event_name                                         \n",
       "MainScreenAppear                 7419         98.47\n",
       "OffersScreenAppear               4593         60.96\n",
       "CartScreenAppear                 3732         49.54\n",
       "PaymentScreenSuccessful          3536         46.93\n",
       "Tutorial                          843         11.19"
      ]
     },
     "execution_count": 80,
     "metadata": {},
     "output_type": "execute_result"
    }
   ],
   "source": [
    "# Определим, сколько уникальных пользователей совершали каждое из этих событий\n",
    "data_new_pivot_event = (data_new\n",
    " .pivot_table(index = 'event_name', values = 'user_id', aggfunc = 'nunique')\n",
    " .sort_values(by = 'user_id', ascending = False)\n",
    " .rename(columns = {'user_id': 'users_number'})\n",
    ")\n",
    "# Посчитаем долю пользователей, которые хоть раз совершали событие\n",
    "data_new_pivot_event['users_rate_%'] = (data_new_pivot_event['users_number']/data_new['user_id'].nunique()*100).round(2) \n",
    "data_new_pivot_event"
   ]
  },
  {
   "cell_type": "markdown",
   "id": "03202f47",
   "metadata": {},
   "source": [
    "Количество пользователей  также уменьшается, как и количество самих событий, т.е. некоторые пользователи не дошли до следующего шага вообще. Наиболее значительная потеря пользователей - чуть менее 40% - на этапе перехода с гланого экрана на страницу с предложениями. Кроме того, имеет смысл отказаться от учета обучения, т.к., вероятно, являясь необязательным, оно для нас неинформативно - лишь 11 % всех пользователей его прошли."
   ]
  },
  {
   "cell_type": "code",
   "execution_count": 81,
   "id": "af8544fc",
   "metadata": {},
   "outputs": [
    {
     "name": "stdout",
     "output_type": "stream",
     "text": [
      "Удалено событий: 10509 шт. (4.31 % данных)\n",
      "Удалено пользователей: 21 шт. (0.28 % данных)\n"
     ]
    }
   ],
   "source": [
    "# Создадим переменную, содержащую данные без учета событий tutorial\n",
    "data_funnel = data_new.query('event_name != \"Tutorial\"')\n",
    "\n",
    "# Оценим объем удаленных данных\n",
    "print(f'Удалено событий: {rows_events - data_funnel.shape[0]} шт. ({round(((1 - data_funnel.shape[0]/rows_events)*100), 2)} % данных)')  \n",
    "print(f'Удалено пользователей: {rows_users - data_funnel[\"user_id\"].nunique()} шт. ({round(((1 - data_funnel[\"user_id\"].nunique()/rows_users)*100), 2)} % данных)') "
   ]
  },
  {
   "cell_type": "code",
   "execution_count": 82,
   "id": "502d4183",
   "metadata": {},
   "outputs": [
    {
     "data": {
      "text/html": [
       "<div>\n",
       "<style scoped>\n",
       "    .dataframe tbody tr th:only-of-type {\n",
       "        vertical-align: middle;\n",
       "    }\n",
       "\n",
       "    .dataframe tbody tr th {\n",
       "        vertical-align: top;\n",
       "    }\n",
       "\n",
       "    .dataframe thead th {\n",
       "        text-align: right;\n",
       "    }\n",
       "</style>\n",
       "<table border=\"1\" class=\"dataframe\">\n",
       "  <thead>\n",
       "    <tr style=\"text-align: right;\">\n",
       "      <th></th>\n",
       "      <th>event_name</th>\n",
       "      <th>users_number</th>\n",
       "      <th>users_lost_rate, %</th>\n",
       "      <th>users_saved_rate, %</th>\n",
       "    </tr>\n",
       "  </thead>\n",
       "  <tbody>\n",
       "    <tr>\n",
       "      <th>0</th>\n",
       "      <td>MainScreenAppear</td>\n",
       "      <td>7419</td>\n",
       "      <td>0.00</td>\n",
       "      <td>100.00</td>\n",
       "    </tr>\n",
       "    <tr>\n",
       "      <th>1</th>\n",
       "      <td>OffersScreenAppear</td>\n",
       "      <td>4593</td>\n",
       "      <td>-38.09</td>\n",
       "      <td>61.91</td>\n",
       "    </tr>\n",
       "    <tr>\n",
       "      <th>2</th>\n",
       "      <td>CartScreenAppear</td>\n",
       "      <td>3732</td>\n",
       "      <td>-18.75</td>\n",
       "      <td>81.25</td>\n",
       "    </tr>\n",
       "    <tr>\n",
       "      <th>3</th>\n",
       "      <td>PaymentScreenSuccessful</td>\n",
       "      <td>3536</td>\n",
       "      <td>-5.25</td>\n",
       "      <td>94.75</td>\n",
       "    </tr>\n",
       "  </tbody>\n",
       "</table>\n",
       "</div>"
      ],
      "text/plain": [
       "                event_name  users_number  users_lost_rate, %  \\\n",
       "0         MainScreenAppear          7419                0.00   \n",
       "1       OffersScreenAppear          4593              -38.09   \n",
       "2         CartScreenAppear          3732              -18.75   \n",
       "3  PaymentScreenSuccessful          3536               -5.25   \n",
       "\n",
       "   users_saved_rate, %  \n",
       "0               100.00  \n",
       "1                61.91  \n",
       "2                81.25  \n",
       "3                94.75  "
      ]
     },
     "execution_count": 82,
     "metadata": {},
     "output_type": "execute_result"
    }
   ],
   "source": [
    "# Определим, какая доля пользователей проходит на следующий шаг воронки (от числа пользователей на предыдущем) \n",
    "data_funnel_pivot_events = (data_funnel\n",
    " .pivot_table(index = 'event_name', values = 'user_id', aggfunc = 'nunique')\n",
    " .sort_values(by = 'user_id', ascending = False)\n",
    " .rename(columns = {'user_id': 'users_number'}).reset_index()\n",
    ")\n",
    "# Для начала посчитаем более показательный процент потерь пользователей\n",
    "data_funnel_pivot_events['users_lost_rate, %'] = ((data_funnel_pivot_events['users_number'].pct_change())*100).fillna(0).round(2)\n",
    "\n",
    "# Дополнительно посчитаем прлоцент сохраненных пользользователей\n",
    "data_funnel_pivot_events['users_saved_rate, %'] = data_funnel_pivot_events['users_lost_rate, %'] + 100\n",
    "data_funnel_pivot_events"
   ]
  },
  {
   "cell_type": "code",
   "execution_count": 83,
   "id": "ba7a339f",
   "metadata": {},
   "outputs": [
    {
     "data": {
      "application/vnd.plotly.v1+json": {
       "config": {
        "plotlyServerURL": "https://plot.ly"
       },
       "data": [
        {
         "hovertemplate": "values=%{x}<br>labels=%{y}<extra></extra>",
         "legendgroup": "",
         "marker": {
          "color": "#636efa"
         },
         "name": "",
         "orientation": "h",
         "showlegend": false,
         "type": "funnel",
         "x": [
          7419,
          4593,
          3732,
          3536
         ],
         "xaxis": "x",
         "y": [
          "MainScreenAppear",
          "OffersScreenAppear",
          "CartScreenAppear",
          "PaymentScreenSuccessful"
         ],
         "yaxis": "y"
        }
       ],
       "layout": {
        "autosize": false,
        "height": 450,
        "legend": {
         "tracegroupgap": 0
        },
        "template": {
         "data": {
          "bar": [
           {
            "error_x": {
             "color": "#2a3f5f"
            },
            "error_y": {
             "color": "#2a3f5f"
            },
            "marker": {
             "line": {
              "color": "#E5ECF6",
              "width": 0.5
             },
             "pattern": {
              "fillmode": "overlay",
              "size": 10,
              "solidity": 0.2
             }
            },
            "type": "bar"
           }
          ],
          "barpolar": [
           {
            "marker": {
             "line": {
              "color": "#E5ECF6",
              "width": 0.5
             },
             "pattern": {
              "fillmode": "overlay",
              "size": 10,
              "solidity": 0.2
             }
            },
            "type": "barpolar"
           }
          ],
          "carpet": [
           {
            "aaxis": {
             "endlinecolor": "#2a3f5f",
             "gridcolor": "white",
             "linecolor": "white",
             "minorgridcolor": "white",
             "startlinecolor": "#2a3f5f"
            },
            "baxis": {
             "endlinecolor": "#2a3f5f",
             "gridcolor": "white",
             "linecolor": "white",
             "minorgridcolor": "white",
             "startlinecolor": "#2a3f5f"
            },
            "type": "carpet"
           }
          ],
          "choropleth": [
           {
            "colorbar": {
             "outlinewidth": 0,
             "ticks": ""
            },
            "type": "choropleth"
           }
          ],
          "contour": [
           {
            "colorbar": {
             "outlinewidth": 0,
             "ticks": ""
            },
            "colorscale": [
             [
              0,
              "#0d0887"
             ],
             [
              0.1111111111111111,
              "#46039f"
             ],
             [
              0.2222222222222222,
              "#7201a8"
             ],
             [
              0.3333333333333333,
              "#9c179e"
             ],
             [
              0.4444444444444444,
              "#bd3786"
             ],
             [
              0.5555555555555556,
              "#d8576b"
             ],
             [
              0.6666666666666666,
              "#ed7953"
             ],
             [
              0.7777777777777778,
              "#fb9f3a"
             ],
             [
              0.8888888888888888,
              "#fdca26"
             ],
             [
              1,
              "#f0f921"
             ]
            ],
            "type": "contour"
           }
          ],
          "contourcarpet": [
           {
            "colorbar": {
             "outlinewidth": 0,
             "ticks": ""
            },
            "type": "contourcarpet"
           }
          ],
          "heatmap": [
           {
            "colorbar": {
             "outlinewidth": 0,
             "ticks": ""
            },
            "colorscale": [
             [
              0,
              "#0d0887"
             ],
             [
              0.1111111111111111,
              "#46039f"
             ],
             [
              0.2222222222222222,
              "#7201a8"
             ],
             [
              0.3333333333333333,
              "#9c179e"
             ],
             [
              0.4444444444444444,
              "#bd3786"
             ],
             [
              0.5555555555555556,
              "#d8576b"
             ],
             [
              0.6666666666666666,
              "#ed7953"
             ],
             [
              0.7777777777777778,
              "#fb9f3a"
             ],
             [
              0.8888888888888888,
              "#fdca26"
             ],
             [
              1,
              "#f0f921"
             ]
            ],
            "type": "heatmap"
           }
          ],
          "heatmapgl": [
           {
            "colorbar": {
             "outlinewidth": 0,
             "ticks": ""
            },
            "colorscale": [
             [
              0,
              "#0d0887"
             ],
             [
              0.1111111111111111,
              "#46039f"
             ],
             [
              0.2222222222222222,
              "#7201a8"
             ],
             [
              0.3333333333333333,
              "#9c179e"
             ],
             [
              0.4444444444444444,
              "#bd3786"
             ],
             [
              0.5555555555555556,
              "#d8576b"
             ],
             [
              0.6666666666666666,
              "#ed7953"
             ],
             [
              0.7777777777777778,
              "#fb9f3a"
             ],
             [
              0.8888888888888888,
              "#fdca26"
             ],
             [
              1,
              "#f0f921"
             ]
            ],
            "type": "heatmapgl"
           }
          ],
          "histogram": [
           {
            "marker": {
             "pattern": {
              "fillmode": "overlay",
              "size": 10,
              "solidity": 0.2
             }
            },
            "type": "histogram"
           }
          ],
          "histogram2d": [
           {
            "colorbar": {
             "outlinewidth": 0,
             "ticks": ""
            },
            "colorscale": [
             [
              0,
              "#0d0887"
             ],
             [
              0.1111111111111111,
              "#46039f"
             ],
             [
              0.2222222222222222,
              "#7201a8"
             ],
             [
              0.3333333333333333,
              "#9c179e"
             ],
             [
              0.4444444444444444,
              "#bd3786"
             ],
             [
              0.5555555555555556,
              "#d8576b"
             ],
             [
              0.6666666666666666,
              "#ed7953"
             ],
             [
              0.7777777777777778,
              "#fb9f3a"
             ],
             [
              0.8888888888888888,
              "#fdca26"
             ],
             [
              1,
              "#f0f921"
             ]
            ],
            "type": "histogram2d"
           }
          ],
          "histogram2dcontour": [
           {
            "colorbar": {
             "outlinewidth": 0,
             "ticks": ""
            },
            "colorscale": [
             [
              0,
              "#0d0887"
             ],
             [
              0.1111111111111111,
              "#46039f"
             ],
             [
              0.2222222222222222,
              "#7201a8"
             ],
             [
              0.3333333333333333,
              "#9c179e"
             ],
             [
              0.4444444444444444,
              "#bd3786"
             ],
             [
              0.5555555555555556,
              "#d8576b"
             ],
             [
              0.6666666666666666,
              "#ed7953"
             ],
             [
              0.7777777777777778,
              "#fb9f3a"
             ],
             [
              0.8888888888888888,
              "#fdca26"
             ],
             [
              1,
              "#f0f921"
             ]
            ],
            "type": "histogram2dcontour"
           }
          ],
          "mesh3d": [
           {
            "colorbar": {
             "outlinewidth": 0,
             "ticks": ""
            },
            "type": "mesh3d"
           }
          ],
          "parcoords": [
           {
            "line": {
             "colorbar": {
              "outlinewidth": 0,
              "ticks": ""
             }
            },
            "type": "parcoords"
           }
          ],
          "pie": [
           {
            "automargin": true,
            "type": "pie"
           }
          ],
          "scatter": [
           {
            "marker": {
             "colorbar": {
              "outlinewidth": 0,
              "ticks": ""
             }
            },
            "type": "scatter"
           }
          ],
          "scatter3d": [
           {
            "line": {
             "colorbar": {
              "outlinewidth": 0,
              "ticks": ""
             }
            },
            "marker": {
             "colorbar": {
              "outlinewidth": 0,
              "ticks": ""
             }
            },
            "type": "scatter3d"
           }
          ],
          "scattercarpet": [
           {
            "marker": {
             "colorbar": {
              "outlinewidth": 0,
              "ticks": ""
             }
            },
            "type": "scattercarpet"
           }
          ],
          "scattergeo": [
           {
            "marker": {
             "colorbar": {
              "outlinewidth": 0,
              "ticks": ""
             }
            },
            "type": "scattergeo"
           }
          ],
          "scattergl": [
           {
            "marker": {
             "colorbar": {
              "outlinewidth": 0,
              "ticks": ""
             }
            },
            "type": "scattergl"
           }
          ],
          "scattermapbox": [
           {
            "marker": {
             "colorbar": {
              "outlinewidth": 0,
              "ticks": ""
             }
            },
            "type": "scattermapbox"
           }
          ],
          "scatterpolar": [
           {
            "marker": {
             "colorbar": {
              "outlinewidth": 0,
              "ticks": ""
             }
            },
            "type": "scatterpolar"
           }
          ],
          "scatterpolargl": [
           {
            "marker": {
             "colorbar": {
              "outlinewidth": 0,
              "ticks": ""
             }
            },
            "type": "scatterpolargl"
           }
          ],
          "scatterternary": [
           {
            "marker": {
             "colorbar": {
              "outlinewidth": 0,
              "ticks": ""
             }
            },
            "type": "scatterternary"
           }
          ],
          "surface": [
           {
            "colorbar": {
             "outlinewidth": 0,
             "ticks": ""
            },
            "colorscale": [
             [
              0,
              "#0d0887"
             ],
             [
              0.1111111111111111,
              "#46039f"
             ],
             [
              0.2222222222222222,
              "#7201a8"
             ],
             [
              0.3333333333333333,
              "#9c179e"
             ],
             [
              0.4444444444444444,
              "#bd3786"
             ],
             [
              0.5555555555555556,
              "#d8576b"
             ],
             [
              0.6666666666666666,
              "#ed7953"
             ],
             [
              0.7777777777777778,
              "#fb9f3a"
             ],
             [
              0.8888888888888888,
              "#fdca26"
             ],
             [
              1,
              "#f0f921"
             ]
            ],
            "type": "surface"
           }
          ],
          "table": [
           {
            "cells": {
             "fill": {
              "color": "#EBF0F8"
             },
             "line": {
              "color": "white"
             }
            },
            "header": {
             "fill": {
              "color": "#C8D4E3"
             },
             "line": {
              "color": "white"
             }
            },
            "type": "table"
           }
          ]
         },
         "layout": {
          "annotationdefaults": {
           "arrowcolor": "#2a3f5f",
           "arrowhead": 0,
           "arrowwidth": 1
          },
          "autotypenumbers": "strict",
          "coloraxis": {
           "colorbar": {
            "outlinewidth": 0,
            "ticks": ""
           }
          },
          "colorscale": {
           "diverging": [
            [
             0,
             "#8e0152"
            ],
            [
             0.1,
             "#c51b7d"
            ],
            [
             0.2,
             "#de77ae"
            ],
            [
             0.3,
             "#f1b6da"
            ],
            [
             0.4,
             "#fde0ef"
            ],
            [
             0.5,
             "#f7f7f7"
            ],
            [
             0.6,
             "#e6f5d0"
            ],
            [
             0.7,
             "#b8e186"
            ],
            [
             0.8,
             "#7fbc41"
            ],
            [
             0.9,
             "#4d9221"
            ],
            [
             1,
             "#276419"
            ]
           ],
           "sequential": [
            [
             0,
             "#0d0887"
            ],
            [
             0.1111111111111111,
             "#46039f"
            ],
            [
             0.2222222222222222,
             "#7201a8"
            ],
            [
             0.3333333333333333,
             "#9c179e"
            ],
            [
             0.4444444444444444,
             "#bd3786"
            ],
            [
             0.5555555555555556,
             "#d8576b"
            ],
            [
             0.6666666666666666,
             "#ed7953"
            ],
            [
             0.7777777777777778,
             "#fb9f3a"
            ],
            [
             0.8888888888888888,
             "#fdca26"
            ],
            [
             1,
             "#f0f921"
            ]
           ],
           "sequentialminus": [
            [
             0,
             "#0d0887"
            ],
            [
             0.1111111111111111,
             "#46039f"
            ],
            [
             0.2222222222222222,
             "#7201a8"
            ],
            [
             0.3333333333333333,
             "#9c179e"
            ],
            [
             0.4444444444444444,
             "#bd3786"
            ],
            [
             0.5555555555555556,
             "#d8576b"
            ],
            [
             0.6666666666666666,
             "#ed7953"
            ],
            [
             0.7777777777777778,
             "#fb9f3a"
            ],
            [
             0.8888888888888888,
             "#fdca26"
            ],
            [
             1,
             "#f0f921"
            ]
           ]
          },
          "colorway": [
           "#636efa",
           "#EF553B",
           "#00cc96",
           "#ab63fa",
           "#FFA15A",
           "#19d3f3",
           "#FF6692",
           "#B6E880",
           "#FF97FF",
           "#FECB52"
          ],
          "font": {
           "color": "#2a3f5f"
          },
          "geo": {
           "bgcolor": "white",
           "lakecolor": "white",
           "landcolor": "#E5ECF6",
           "showlakes": true,
           "showland": true,
           "subunitcolor": "white"
          },
          "hoverlabel": {
           "align": "left"
          },
          "hovermode": "closest",
          "mapbox": {
           "style": "light"
          },
          "paper_bgcolor": "white",
          "plot_bgcolor": "#E5ECF6",
          "polar": {
           "angularaxis": {
            "gridcolor": "white",
            "linecolor": "white",
            "ticks": ""
           },
           "bgcolor": "#E5ECF6",
           "radialaxis": {
            "gridcolor": "white",
            "linecolor": "white",
            "ticks": ""
           }
          },
          "scene": {
           "xaxis": {
            "backgroundcolor": "#E5ECF6",
            "gridcolor": "white",
            "gridwidth": 2,
            "linecolor": "white",
            "showbackground": true,
            "ticks": "",
            "zerolinecolor": "white"
           },
           "yaxis": {
            "backgroundcolor": "#E5ECF6",
            "gridcolor": "white",
            "gridwidth": 2,
            "linecolor": "white",
            "showbackground": true,
            "ticks": "",
            "zerolinecolor": "white"
           },
           "zaxis": {
            "backgroundcolor": "#E5ECF6",
            "gridcolor": "white",
            "gridwidth": 2,
            "linecolor": "white",
            "showbackground": true,
            "ticks": "",
            "zerolinecolor": "white"
           }
          },
          "shapedefaults": {
           "line": {
            "color": "#2a3f5f"
           }
          },
          "ternary": {
           "aaxis": {
            "gridcolor": "white",
            "linecolor": "white",
            "ticks": ""
           },
           "baxis": {
            "gridcolor": "white",
            "linecolor": "white",
            "ticks": ""
           },
           "bgcolor": "#E5ECF6",
           "caxis": {
            "gridcolor": "white",
            "linecolor": "white",
            "ticks": ""
           }
          },
          "title": {
           "x": 0.05
          },
          "xaxis": {
           "automargin": true,
           "gridcolor": "white",
           "linecolor": "white",
           "ticks": "",
           "title": {
            "standoff": 15
           },
           "zerolinecolor": "white",
           "zerolinewidth": 2
          },
          "yaxis": {
           "automargin": true,
           "gridcolor": "white",
           "linecolor": "white",
           "ticks": "",
           "title": {
            "standoff": 15
           },
           "zerolinecolor": "white",
           "zerolinewidth": 2
          }
         }
        },
        "title": {
         "text": "Воронка событий"
        },
        "width": 800,
        "xaxis": {
         "anchor": "y",
         "domain": [
          0,
          1
         ],
         "title": {
          "text": "values"
         }
        },
        "yaxis": {
         "anchor": "x",
         "domain": [
          0,
          1
         ],
         "title": {
          "text": "labels"
         }
        }
       }
      },
      "text/html": [
       "<div>                            <div id=\"a36c0a38-4672-4350-ab44-44b1a83d8493\" class=\"plotly-graph-div\" style=\"height:450px; width:800px;\"></div>            <script type=\"text/javascript\">                require([\"plotly\"], function(Plotly) {                    window.PLOTLYENV=window.PLOTLYENV || {};                                    if (document.getElementById(\"a36c0a38-4672-4350-ab44-44b1a83d8493\")) {                    Plotly.newPlot(                        \"a36c0a38-4672-4350-ab44-44b1a83d8493\",                        [{\"hovertemplate\":\"values=%{x}<br>labels=%{y}<extra></extra>\",\"legendgroup\":\"\",\"marker\":{\"color\":\"#636efa\"},\"name\":\"\",\"orientation\":\"h\",\"showlegend\":false,\"x\":[7419,4593,3732,3536],\"xaxis\":\"x\",\"y\":[\"MainScreenAppear\",\"OffersScreenAppear\",\"CartScreenAppear\",\"PaymentScreenSuccessful\"],\"yaxis\":\"y\",\"type\":\"funnel\"}],                        {\"template\":{\"data\":{\"bar\":[{\"error_x\":{\"color\":\"#2a3f5f\"},\"error_y\":{\"color\":\"#2a3f5f\"},\"marker\":{\"line\":{\"color\":\"#E5ECF6\",\"width\":0.5},\"pattern\":{\"fillmode\":\"overlay\",\"size\":10,\"solidity\":0.2}},\"type\":\"bar\"}],\"barpolar\":[{\"marker\":{\"line\":{\"color\":\"#E5ECF6\",\"width\":0.5},\"pattern\":{\"fillmode\":\"overlay\",\"size\":10,\"solidity\":0.2}},\"type\":\"barpolar\"}],\"carpet\":[{\"aaxis\":{\"endlinecolor\":\"#2a3f5f\",\"gridcolor\":\"white\",\"linecolor\":\"white\",\"minorgridcolor\":\"white\",\"startlinecolor\":\"#2a3f5f\"},\"baxis\":{\"endlinecolor\":\"#2a3f5f\",\"gridcolor\":\"white\",\"linecolor\":\"white\",\"minorgridcolor\":\"white\",\"startlinecolor\":\"#2a3f5f\"},\"type\":\"carpet\"}],\"choropleth\":[{\"colorbar\":{\"outlinewidth\":0,\"ticks\":\"\"},\"type\":\"choropleth\"}],\"contour\":[{\"colorbar\":{\"outlinewidth\":0,\"ticks\":\"\"},\"colorscale\":[[0.0,\"#0d0887\"],[0.1111111111111111,\"#46039f\"],[0.2222222222222222,\"#7201a8\"],[0.3333333333333333,\"#9c179e\"],[0.4444444444444444,\"#bd3786\"],[0.5555555555555556,\"#d8576b\"],[0.6666666666666666,\"#ed7953\"],[0.7777777777777778,\"#fb9f3a\"],[0.8888888888888888,\"#fdca26\"],[1.0,\"#f0f921\"]],\"type\":\"contour\"}],\"contourcarpet\":[{\"colorbar\":{\"outlinewidth\":0,\"ticks\":\"\"},\"type\":\"contourcarpet\"}],\"heatmap\":[{\"colorbar\":{\"outlinewidth\":0,\"ticks\":\"\"},\"colorscale\":[[0.0,\"#0d0887\"],[0.1111111111111111,\"#46039f\"],[0.2222222222222222,\"#7201a8\"],[0.3333333333333333,\"#9c179e\"],[0.4444444444444444,\"#bd3786\"],[0.5555555555555556,\"#d8576b\"],[0.6666666666666666,\"#ed7953\"],[0.7777777777777778,\"#fb9f3a\"],[0.8888888888888888,\"#fdca26\"],[1.0,\"#f0f921\"]],\"type\":\"heatmap\"}],\"heatmapgl\":[{\"colorbar\":{\"outlinewidth\":0,\"ticks\":\"\"},\"colorscale\":[[0.0,\"#0d0887\"],[0.1111111111111111,\"#46039f\"],[0.2222222222222222,\"#7201a8\"],[0.3333333333333333,\"#9c179e\"],[0.4444444444444444,\"#bd3786\"],[0.5555555555555556,\"#d8576b\"],[0.6666666666666666,\"#ed7953\"],[0.7777777777777778,\"#fb9f3a\"],[0.8888888888888888,\"#fdca26\"],[1.0,\"#f0f921\"]],\"type\":\"heatmapgl\"}],\"histogram\":[{\"marker\":{\"pattern\":{\"fillmode\":\"overlay\",\"size\":10,\"solidity\":0.2}},\"type\":\"histogram\"}],\"histogram2d\":[{\"colorbar\":{\"outlinewidth\":0,\"ticks\":\"\"},\"colorscale\":[[0.0,\"#0d0887\"],[0.1111111111111111,\"#46039f\"],[0.2222222222222222,\"#7201a8\"],[0.3333333333333333,\"#9c179e\"],[0.4444444444444444,\"#bd3786\"],[0.5555555555555556,\"#d8576b\"],[0.6666666666666666,\"#ed7953\"],[0.7777777777777778,\"#fb9f3a\"],[0.8888888888888888,\"#fdca26\"],[1.0,\"#f0f921\"]],\"type\":\"histogram2d\"}],\"histogram2dcontour\":[{\"colorbar\":{\"outlinewidth\":0,\"ticks\":\"\"},\"colorscale\":[[0.0,\"#0d0887\"],[0.1111111111111111,\"#46039f\"],[0.2222222222222222,\"#7201a8\"],[0.3333333333333333,\"#9c179e\"],[0.4444444444444444,\"#bd3786\"],[0.5555555555555556,\"#d8576b\"],[0.6666666666666666,\"#ed7953\"],[0.7777777777777778,\"#fb9f3a\"],[0.8888888888888888,\"#fdca26\"],[1.0,\"#f0f921\"]],\"type\":\"histogram2dcontour\"}],\"mesh3d\":[{\"colorbar\":{\"outlinewidth\":0,\"ticks\":\"\"},\"type\":\"mesh3d\"}],\"parcoords\":[{\"line\":{\"colorbar\":{\"outlinewidth\":0,\"ticks\":\"\"}},\"type\":\"parcoords\"}],\"pie\":[{\"automargin\":true,\"type\":\"pie\"}],\"scatter\":[{\"marker\":{\"colorbar\":{\"outlinewidth\":0,\"ticks\":\"\"}},\"type\":\"scatter\"}],\"scatter3d\":[{\"line\":{\"colorbar\":{\"outlinewidth\":0,\"ticks\":\"\"}},\"marker\":{\"colorbar\":{\"outlinewidth\":0,\"ticks\":\"\"}},\"type\":\"scatter3d\"}],\"scattercarpet\":[{\"marker\":{\"colorbar\":{\"outlinewidth\":0,\"ticks\":\"\"}},\"type\":\"scattercarpet\"}],\"scattergeo\":[{\"marker\":{\"colorbar\":{\"outlinewidth\":0,\"ticks\":\"\"}},\"type\":\"scattergeo\"}],\"scattergl\":[{\"marker\":{\"colorbar\":{\"outlinewidth\":0,\"ticks\":\"\"}},\"type\":\"scattergl\"}],\"scattermapbox\":[{\"marker\":{\"colorbar\":{\"outlinewidth\":0,\"ticks\":\"\"}},\"type\":\"scattermapbox\"}],\"scatterpolar\":[{\"marker\":{\"colorbar\":{\"outlinewidth\":0,\"ticks\":\"\"}},\"type\":\"scatterpolar\"}],\"scatterpolargl\":[{\"marker\":{\"colorbar\":{\"outlinewidth\":0,\"ticks\":\"\"}},\"type\":\"scatterpolargl\"}],\"scatterternary\":[{\"marker\":{\"colorbar\":{\"outlinewidth\":0,\"ticks\":\"\"}},\"type\":\"scatterternary\"}],\"surface\":[{\"colorbar\":{\"outlinewidth\":0,\"ticks\":\"\"},\"colorscale\":[[0.0,\"#0d0887\"],[0.1111111111111111,\"#46039f\"],[0.2222222222222222,\"#7201a8\"],[0.3333333333333333,\"#9c179e\"],[0.4444444444444444,\"#bd3786\"],[0.5555555555555556,\"#d8576b\"],[0.6666666666666666,\"#ed7953\"],[0.7777777777777778,\"#fb9f3a\"],[0.8888888888888888,\"#fdca26\"],[1.0,\"#f0f921\"]],\"type\":\"surface\"}],\"table\":[{\"cells\":{\"fill\":{\"color\":\"#EBF0F8\"},\"line\":{\"color\":\"white\"}},\"header\":{\"fill\":{\"color\":\"#C8D4E3\"},\"line\":{\"color\":\"white\"}},\"type\":\"table\"}]},\"layout\":{\"annotationdefaults\":{\"arrowcolor\":\"#2a3f5f\",\"arrowhead\":0,\"arrowwidth\":1},\"autotypenumbers\":\"strict\",\"coloraxis\":{\"colorbar\":{\"outlinewidth\":0,\"ticks\":\"\"}},\"colorscale\":{\"diverging\":[[0,\"#8e0152\"],[0.1,\"#c51b7d\"],[0.2,\"#de77ae\"],[0.3,\"#f1b6da\"],[0.4,\"#fde0ef\"],[0.5,\"#f7f7f7\"],[0.6,\"#e6f5d0\"],[0.7,\"#b8e186\"],[0.8,\"#7fbc41\"],[0.9,\"#4d9221\"],[1,\"#276419\"]],\"sequential\":[[0.0,\"#0d0887\"],[0.1111111111111111,\"#46039f\"],[0.2222222222222222,\"#7201a8\"],[0.3333333333333333,\"#9c179e\"],[0.4444444444444444,\"#bd3786\"],[0.5555555555555556,\"#d8576b\"],[0.6666666666666666,\"#ed7953\"],[0.7777777777777778,\"#fb9f3a\"],[0.8888888888888888,\"#fdca26\"],[1.0,\"#f0f921\"]],\"sequentialminus\":[[0.0,\"#0d0887\"],[0.1111111111111111,\"#46039f\"],[0.2222222222222222,\"#7201a8\"],[0.3333333333333333,\"#9c179e\"],[0.4444444444444444,\"#bd3786\"],[0.5555555555555556,\"#d8576b\"],[0.6666666666666666,\"#ed7953\"],[0.7777777777777778,\"#fb9f3a\"],[0.8888888888888888,\"#fdca26\"],[1.0,\"#f0f921\"]]},\"colorway\":[\"#636efa\",\"#EF553B\",\"#00cc96\",\"#ab63fa\",\"#FFA15A\",\"#19d3f3\",\"#FF6692\",\"#B6E880\",\"#FF97FF\",\"#FECB52\"],\"font\":{\"color\":\"#2a3f5f\"},\"geo\":{\"bgcolor\":\"white\",\"lakecolor\":\"white\",\"landcolor\":\"#E5ECF6\",\"showlakes\":true,\"showland\":true,\"subunitcolor\":\"white\"},\"hoverlabel\":{\"align\":\"left\"},\"hovermode\":\"closest\",\"mapbox\":{\"style\":\"light\"},\"paper_bgcolor\":\"white\",\"plot_bgcolor\":\"#E5ECF6\",\"polar\":{\"angularaxis\":{\"gridcolor\":\"white\",\"linecolor\":\"white\",\"ticks\":\"\"},\"bgcolor\":\"#E5ECF6\",\"radialaxis\":{\"gridcolor\":\"white\",\"linecolor\":\"white\",\"ticks\":\"\"}},\"scene\":{\"xaxis\":{\"backgroundcolor\":\"#E5ECF6\",\"gridcolor\":\"white\",\"gridwidth\":2,\"linecolor\":\"white\",\"showbackground\":true,\"ticks\":\"\",\"zerolinecolor\":\"white\"},\"yaxis\":{\"backgroundcolor\":\"#E5ECF6\",\"gridcolor\":\"white\",\"gridwidth\":2,\"linecolor\":\"white\",\"showbackground\":true,\"ticks\":\"\",\"zerolinecolor\":\"white\"},\"zaxis\":{\"backgroundcolor\":\"#E5ECF6\",\"gridcolor\":\"white\",\"gridwidth\":2,\"linecolor\":\"white\",\"showbackground\":true,\"ticks\":\"\",\"zerolinecolor\":\"white\"}},\"shapedefaults\":{\"line\":{\"color\":\"#2a3f5f\"}},\"ternary\":{\"aaxis\":{\"gridcolor\":\"white\",\"linecolor\":\"white\",\"ticks\":\"\"},\"baxis\":{\"gridcolor\":\"white\",\"linecolor\":\"white\",\"ticks\":\"\"},\"bgcolor\":\"#E5ECF6\",\"caxis\":{\"gridcolor\":\"white\",\"linecolor\":\"white\",\"ticks\":\"\"}},\"title\":{\"x\":0.05},\"xaxis\":{\"automargin\":true,\"gridcolor\":\"white\",\"linecolor\":\"white\",\"ticks\":\"\",\"title\":{\"standoff\":15},\"zerolinecolor\":\"white\",\"zerolinewidth\":2},\"yaxis\":{\"automargin\":true,\"gridcolor\":\"white\",\"linecolor\":\"white\",\"ticks\":\"\",\"title\":{\"standoff\":15},\"zerolinecolor\":\"white\",\"zerolinewidth\":2}}},\"xaxis\":{\"anchor\":\"y\",\"domain\":[0.0,1.0],\"title\":{\"text\":\"values\"}},\"yaxis\":{\"anchor\":\"x\",\"domain\":[0.0,1.0],\"title\":{\"text\":\"labels\"}},\"legend\":{\"tracegroupgap\":0},\"title\":{\"text\":\"\\u0412\\u043e\\u0440\\u043e\\u043d\\u043a\\u0430 \\u0441\\u043e\\u0431\\u044b\\u0442\\u0438\\u0439\"},\"autosize\":false,\"width\":800,\"height\":450},                        {\"responsive\": true}                    ).then(function(){\n",
       "                            \n",
       "var gd = document.getElementById('a36c0a38-4672-4350-ab44-44b1a83d8493');\n",
       "var x = new MutationObserver(function (mutations, observer) {{\n",
       "        var display = window.getComputedStyle(gd).display;\n",
       "        if (!display || display === 'none') {{\n",
       "            console.log([gd, 'removed!']);\n",
       "            Plotly.purge(gd);\n",
       "            observer.disconnect();\n",
       "        }}\n",
       "}});\n",
       "\n",
       "// Listen for the removal of the full notebook cells\n",
       "var notebookContainer = gd.closest('#notebook-container');\n",
       "if (notebookContainer) {{\n",
       "    x.observe(notebookContainer, {childList: true});\n",
       "}}\n",
       "\n",
       "// Listen for the clearing of the current output cell\n",
       "var outputEl = gd.closest('.output');\n",
       "if (outputEl) {{\n",
       "    x.observe(outputEl, {childList: true});\n",
       "}}\n",
       "\n",
       "                        })                };                });            </script>        </div>"
      ]
     },
     "metadata": {},
     "output_type": "display_data"
    }
   ],
   "source": [
    "# Отобразим воронку графически\n",
    "funnel_for_graph = dict(values = data_funnel_pivot_events['users_number'], labels = data_funnel_pivot_events['event_name']) \n",
    "funnel_graph = px.funnel(funnel_for_graph, y = 'labels', x = 'values', title = 'Воронка событий')\n",
    "funnel_graph.update_layout(autosize = False, width = 800, height = 450)\n",
    "funnel_graph.show()"
   ]
  },
  {
   "cell_type": "markdown",
   "id": "9b2226a7",
   "metadata": {},
   "source": [
    "Наибольшее количество пользователей уходит после просмотра главной страницы, не переходя на страницу просмотра товаров - 38 % от всех, кто был на главной странице."
   ]
  },
  {
   "cell_type": "code",
   "execution_count": 84,
   "id": "a6ff3982",
   "metadata": {},
   "outputs": [
    {
     "data": {
      "text/plain": [
       "'Доля покупателей прошедших путь от просмотра главного экрана до оплаты: 47.66 %'"
      ]
     },
     "execution_count": 84,
     "metadata": {},
     "output_type": "execute_result"
    }
   ],
   "source": [
    "# Определим, какая доля пользователей доходит от просмотра главной страницы до оплаты\n",
    "f\"Доля покупателей прошедших путь от просмотра главного экрана до оплаты: {(data_funnel_pivot_events['users_number'].min()/data_funnel_pivot_events['users_number'].max()*100).round(2)} %\""
   ]
  },
  {
   "cell_type": "markdown",
   "id": "4bef99a4",
   "metadata": {},
   "source": [
    "Конверсия пользолвателей в покупателей составляет 47,7 %, т.е. потери составляют более 50 % "
   ]
  },
  {
   "cell_type": "markdown",
   "id": "bd2ad0cc",
   "metadata": {},
   "source": [
    "## Результаты эксперимента"
   ]
  },
  {
   "cell_type": "code",
   "execution_count": 85,
   "id": "89bb2e05",
   "metadata": {},
   "outputs": [
    {
     "data": {
      "text/html": [
       "<div>\n",
       "<style scoped>\n",
       "    .dataframe tbody tr th:only-of-type {\n",
       "        vertical-align: middle;\n",
       "    }\n",
       "\n",
       "    .dataframe tbody tr th {\n",
       "        vertical-align: top;\n",
       "    }\n",
       "\n",
       "    .dataframe thead th {\n",
       "        text-align: right;\n",
       "    }\n",
       "</style>\n",
       "<table border=\"1\" class=\"dataframe\">\n",
       "  <thead>\n",
       "    <tr style=\"text-align: right;\">\n",
       "      <th></th>\n",
       "      <th>exp_id</th>\n",
       "      <th>total_users_number</th>\n",
       "    </tr>\n",
       "  </thead>\n",
       "  <tbody>\n",
       "    <tr>\n",
       "      <th>0</th>\n",
       "      <td>246</td>\n",
       "      <td>2482</td>\n",
       "    </tr>\n",
       "    <tr>\n",
       "      <th>1</th>\n",
       "      <td>247</td>\n",
       "      <td>2515</td>\n",
       "    </tr>\n",
       "    <tr>\n",
       "      <th>2</th>\n",
       "      <td>248</td>\n",
       "      <td>2533</td>\n",
       "    </tr>\n",
       "    <tr>\n",
       "      <th>3</th>\n",
       "      <td>493</td>\n",
       "      <td>4997</td>\n",
       "    </tr>\n",
       "  </tbody>\n",
       "</table>\n",
       "</div>"
      ],
      "text/plain": [
       "   exp_id  total_users_number\n",
       "0     246                2482\n",
       "1     247                2515\n",
       "2     248                2533\n",
       "3     493                4997"
      ]
     },
     "execution_count": 85,
     "metadata": {},
     "output_type": "execute_result"
    }
   ],
   "source": [
    "# Определим, сколько пользователей в каждой экспериментальной группе\n",
    "users_per_group = (data_funnel\n",
    "                   .pivot_table(index = 'exp_id', values = 'user_id', aggfunc = 'nunique')\n",
    "                   .rename(columns = {'user_id': 'total_users_number'})\n",
    "                   .reset_index()\n",
    "                   .T\n",
    "                  )\n",
    "# Добавим строку с суммой уникальных пользователей 246 и 247 \n",
    "#присвоим ей номер 493 - суммы чисел, означаюших две контрольные группы\n",
    "users_per_group[3] = users_per_group[0] + users_per_group[1]\n",
    "users_per_group = users_per_group.T\n",
    "users_per_group"
   ]
  },
  {
   "cell_type": "code",
   "execution_count": 86,
   "id": "08918071",
   "metadata": {},
   "outputs": [
    {
     "data": {
      "text/plain": [
       "True"
      ]
     },
     "execution_count": 86,
     "metadata": {},
     "output_type": "execute_result"
    }
   ],
   "source": [
    "# Удостоверимся, что в группы 246, 247, 248 не попали одни и те же пользователи, т.е. сумма уникальных пользователей каждой из групп \n",
    "# равна общему количеству уникальных пользователей приложения\n",
    "data_funnel['user_id'].nunique() == users_per_group.query('exp_id in [246, 247, 248]')['total_users_number'].sum()"
   ]
  },
  {
   "cell_type": "markdown",
   "id": "50bbb3b8",
   "metadata": {},
   "source": [
    "Равенство соблюдается. Число пользователей во всех группах сопоставимо, количество пользователей в группах 246 и 247 для A/A теста отличаются на 1,1 %, что является допустимым уровнем "
   ]
  },
  {
   "cell_type": "code",
   "execution_count": 87,
   "id": "c4bdefdf",
   "metadata": {},
   "outputs": [
    {
     "data": {
      "text/html": [
       "<div>\n",
       "<style scoped>\n",
       "    .dataframe tbody tr th:only-of-type {\n",
       "        vertical-align: middle;\n",
       "    }\n",
       "\n",
       "    .dataframe tbody tr th {\n",
       "        vertical-align: top;\n",
       "    }\n",
       "\n",
       "    .dataframe thead th {\n",
       "        text-align: right;\n",
       "    }\n",
       "</style>\n",
       "<table border=\"1\" class=\"dataframe\">\n",
       "  <thead>\n",
       "    <tr style=\"text-align: right;\">\n",
       "      <th>exp_id</th>\n",
       "      <th>246</th>\n",
       "      <th>247</th>\n",
       "      <th>248</th>\n",
       "      <th>493</th>\n",
       "    </tr>\n",
       "    <tr>\n",
       "      <th>event_name</th>\n",
       "      <th></th>\n",
       "      <th></th>\n",
       "      <th></th>\n",
       "      <th></th>\n",
       "    </tr>\n",
       "  </thead>\n",
       "  <tbody>\n",
       "    <tr>\n",
       "      <th>MainScreenAppear</th>\n",
       "      <td>2449</td>\n",
       "      <td>2478</td>\n",
       "      <td>2492</td>\n",
       "      <td>4927</td>\n",
       "    </tr>\n",
       "    <tr>\n",
       "      <th>OffersScreenAppear</th>\n",
       "      <td>1541</td>\n",
       "      <td>1523</td>\n",
       "      <td>1529</td>\n",
       "      <td>3064</td>\n",
       "    </tr>\n",
       "    <tr>\n",
       "      <th>CartScreenAppear</th>\n",
       "      <td>1265</td>\n",
       "      <td>1238</td>\n",
       "      <td>1229</td>\n",
       "      <td>2503</td>\n",
       "    </tr>\n",
       "    <tr>\n",
       "      <th>PaymentScreenSuccessful</th>\n",
       "      <td>1199</td>\n",
       "      <td>1157</td>\n",
       "      <td>1180</td>\n",
       "      <td>2356</td>\n",
       "    </tr>\n",
       "  </tbody>\n",
       "</table>\n",
       "</div>"
      ],
      "text/plain": [
       "exp_id                    246   247   248   493\n",
       "event_name                                     \n",
       "MainScreenAppear         2449  2478  2492  4927\n",
       "OffersScreenAppear       1541  1523  1529  3064\n",
       "CartScreenAppear         1265  1238  1229  2503\n",
       "PaymentScreenSuccessful  1199  1157  1180  2356"
      ]
     },
     "execution_count": 87,
     "metadata": {},
     "output_type": "execute_result"
    }
   ],
   "source": [
    "# Создадим датафрейм для проведения A/A и A/B тестов\n",
    "data_for_test = (data_funnel\n",
    "                            .pivot_table(index = 'event_name', values = 'user_id', columns = 'exp_id', aggfunc = 'nunique')\n",
    "                            .sort_values(by = [246, 247, 248], ascending = False)\n",
    "                            .rename(columns = {'user_id': 'users_number'})\n",
    "                           )\n",
    "# Добавим  столбец с суммой уникальных пользователей 246 и 247 \n",
    "#присвоим ей номер 493 - суммы чисел, означаюших две контрольные группы\n",
    "\n",
    "data_for_test[493] = data_for_test[246] + data_for_test[247]\n",
    "data_for_test"
   ]
  },
  {
   "cell_type": "code",
   "execution_count": 88,
   "id": "f1f69f08",
   "metadata": {},
   "outputs": [],
   "source": [
    "# Зададим функцию, которая будет считать p-value для пар заданных групп на основании датафрейма, созданного для теста\n",
    "def get_p_value(group_1, group_2):\n",
    "    data = data_for_test[[group_1, group_2]]\n",
    "    result = []\n",
    "    total_users = np.array(users_per_group.query('exp_id == @group_1 or exp_id == @group_2')['total_users_number'])\n",
    "    for i in range(len(data)): \n",
    "        event_users_number = np.array(data)[i]\n",
    "        p1 = event_users_number[0]/total_users[0]\n",
    "        p2 = event_users_number[1]/total_users[1]\n",
    "        p_combined = (event_users_number[0] + event_users_number[1]) / (total_users[0] + total_users[1])\n",
    "        difference = p1 - p2 \n",
    "        z_value = difference / mth.sqrt(p_combined * (1 - p_combined) * (1/total_users[0] + 1/total_users[1]))\n",
    "        distr = st.norm(0, 1) \n",
    "        p_value = (1 - distr.cdf(abs(z_value))) * 2\n",
    "        result.append(p_value)\n",
    "    return result"
   ]
  },
  {
   "cell_type": "markdown",
   "id": "b4062c2f",
   "metadata": {},
   "source": [
    "Поскольку мы планируем проводить множественные тесты на одних и тех же данных (по 4 теста для черырех пар групп:246 и 247 - А/А тест, 246 и 248 - A/B тест, 247 и 248 - A/B тест, (246 + 247) и 248), необходимо сделать поправку уровня значимости. Для сохранения мощности теста используем метод Холма для 16 тестов. "
   ]
  },
  {
   "cell_type": "code",
   "execution_count": 89,
   "id": "d80ff5ed",
   "metadata": {},
   "outputs": [
    {
     "data": {
      "text/plain": [
       "[0.000625,\n",
       " 0.0006666666666666666,\n",
       " 0.0007142857142857143,\n",
       " 0.0007692307692307692,\n",
       " 0.0008333333333333334,\n",
       " 0.0009090909090909091,\n",
       " 0.001,\n",
       " 0.0011111111111111111,\n",
       " 0.00125,\n",
       " 0.0014285714285714286,\n",
       " 0.0016666666666666668,\n",
       " 0.002,\n",
       " 0.0025,\n",
       " 0.0033333333333333335,\n",
       " 0.005,\n",
       " 0.01]"
      ]
     },
     "execution_count": 89,
     "metadata": {},
     "output_type": "execute_result"
    }
   ],
   "source": [
    "# Рассчитаем скорректированный уровень значимости для 16 тестов и создадим объект Series\n",
    "\n",
    "m, alpha = 16, 0.01\n",
    "alpha_holm = []\n",
    "for i in range(m): \n",
    "    alpha_holm += [alpha / (m - i)]\n",
    "alpha_holm"
   ]
  },
  {
   "cell_type": "code",
   "execution_count": 90,
   "id": "df1ec556",
   "metadata": {},
   "outputs": [
    {
     "data": {
      "text/plain": [
       "[[0.6702236010141238,\n",
       "  0.26673830926007813,\n",
       "  0.21809677354098067,\n",
       "  0.1028498356881653],\n",
       " [0.3959763243279397,\n",
       "  0.21034638141441775,\n",
       "  0.08307491662576827,\n",
       "  0.22188599911770135],\n",
       " [0.6710440597662208,\n",
       "  0.8882199810663947,\n",
       "  0.6163005981950567,\n",
       "  0.6788717957761099],\n",
       " [0.45873239802488186,\n",
       "  0.4228153650951172,\n",
       "  0.19780083332974252,\n",
       "  0.6435931727439441]]"
      ]
     },
     "execution_count": 90,
     "metadata": {},
     "output_type": "execute_result"
    }
   ],
   "source": [
    "# Создадим цикл, котрый рассчитает p-value по 4 тестам для трех групп \n",
    "test_result = []\n",
    "for pair in [[246, 247], [246, 248], [247, 248], [248, 493]]:\n",
    "    p_values = get_p_value(pair[0], pair[1])\n",
    "    test_result.append(p_values)\n",
    "test_result\n"
   ]
  },
  {
   "cell_type": "markdown",
   "id": "603c3f44",
   "metadata": {},
   "source": [
    "Для всех тестов сформулируем нулевую и альтернативную гипотезы:\n",
    "\n",
    "- Нулевая гипотеза: между сравниваемыми долями уникальных пользователей групп на каждом этапе воронки от общего количества уникальных пользователей сравниваемых групп нет статистически значимой разницы\n",
    "- Альтернативная гипотеза: между сравниваемыми долями уникальных пользователей групп на каждом этапе воронки от общего количества уникальных пользователей сравниваемых групп есть статистически значимая разница"
   ]
  },
  {
   "cell_type": "code",
   "execution_count": 91,
   "id": "a304d480",
   "metadata": {},
   "outputs": [
    {
     "data": {
      "text/html": [
       "<div>\n",
       "<style scoped>\n",
       "    .dataframe tbody tr th:only-of-type {\n",
       "        vertical-align: middle;\n",
       "    }\n",
       "\n",
       "    .dataframe tbody tr th {\n",
       "        vertical-align: top;\n",
       "    }\n",
       "\n",
       "    .dataframe thead th {\n",
       "        text-align: right;\n",
       "    }\n",
       "</style>\n",
       "<table border=\"1\" class=\"dataframe\">\n",
       "  <thead>\n",
       "    <tr style=\"text-align: right;\">\n",
       "      <th></th>\n",
       "      <th>test_246_247</th>\n",
       "      <th>alpha_holm_246_247</th>\n",
       "      <th>result_246_247</th>\n",
       "      <th>test_246_248</th>\n",
       "      <th>alpha_holm_246_248</th>\n",
       "      <th>result_246_248</th>\n",
       "      <th>test_247_248</th>\n",
       "      <th>alpha_holm_247_248</th>\n",
       "      <th>result_247_248</th>\n",
       "      <th>test_248_493</th>\n",
       "      <th>alpha_holm_248_493</th>\n",
       "      <th>result_248_493</th>\n",
       "    </tr>\n",
       "  </thead>\n",
       "  <tbody>\n",
       "    <tr>\n",
       "      <th>MainScreenAppear</th>\n",
       "      <td>0.670224</td>\n",
       "      <td>0.000625</td>\n",
       "      <td>False</td>\n",
       "      <td>0.395976</td>\n",
       "      <td>0.000833</td>\n",
       "      <td>False</td>\n",
       "      <td>0.671044</td>\n",
       "      <td>0.001250</td>\n",
       "      <td>False</td>\n",
       "      <td>0.458732</td>\n",
       "      <td>0.002500</td>\n",
       "      <td>False</td>\n",
       "    </tr>\n",
       "    <tr>\n",
       "      <th>OffersScreenAppear</th>\n",
       "      <td>0.266738</td>\n",
       "      <td>0.000667</td>\n",
       "      <td>False</td>\n",
       "      <td>0.210346</td>\n",
       "      <td>0.000909</td>\n",
       "      <td>False</td>\n",
       "      <td>0.888220</td>\n",
       "      <td>0.001429</td>\n",
       "      <td>False</td>\n",
       "      <td>0.422815</td>\n",
       "      <td>0.003333</td>\n",
       "      <td>False</td>\n",
       "    </tr>\n",
       "    <tr>\n",
       "      <th>CartScreenAppear</th>\n",
       "      <td>0.218097</td>\n",
       "      <td>0.000714</td>\n",
       "      <td>False</td>\n",
       "      <td>0.083075</td>\n",
       "      <td>0.001000</td>\n",
       "      <td>False</td>\n",
       "      <td>0.616301</td>\n",
       "      <td>0.001667</td>\n",
       "      <td>False</td>\n",
       "      <td>0.197801</td>\n",
       "      <td>0.005000</td>\n",
       "      <td>False</td>\n",
       "    </tr>\n",
       "    <tr>\n",
       "      <th>PaymentScreenSuccessful</th>\n",
       "      <td>0.102850</td>\n",
       "      <td>0.000769</td>\n",
       "      <td>False</td>\n",
       "      <td>0.221886</td>\n",
       "      <td>0.001111</td>\n",
       "      <td>False</td>\n",
       "      <td>0.678872</td>\n",
       "      <td>0.002000</td>\n",
       "      <td>False</td>\n",
       "      <td>0.643593</td>\n",
       "      <td>0.010000</td>\n",
       "      <td>False</td>\n",
       "    </tr>\n",
       "  </tbody>\n",
       "</table>\n",
       "</div>"
      ],
      "text/plain": [
       "                         test_246_247  alpha_holm_246_247  result_246_247  \\\n",
       "MainScreenAppear             0.670224            0.000625           False   \n",
       "OffersScreenAppear           0.266738            0.000667           False   \n",
       "CartScreenAppear             0.218097            0.000714           False   \n",
       "PaymentScreenSuccessful      0.102850            0.000769           False   \n",
       "\n",
       "                         test_246_248  alpha_holm_246_248  result_246_248  \\\n",
       "MainScreenAppear             0.395976            0.000833           False   \n",
       "OffersScreenAppear           0.210346            0.000909           False   \n",
       "CartScreenAppear             0.083075            0.001000           False   \n",
       "PaymentScreenSuccessful      0.221886            0.001111           False   \n",
       "\n",
       "                         test_247_248  alpha_holm_247_248  result_247_248  \\\n",
       "MainScreenAppear             0.671044            0.001250           False   \n",
       "OffersScreenAppear           0.888220            0.001429           False   \n",
       "CartScreenAppear             0.616301            0.001667           False   \n",
       "PaymentScreenSuccessful      0.678872            0.002000           False   \n",
       "\n",
       "                         test_248_493  alpha_holm_248_493  result_248_493  \n",
       "MainScreenAppear             0.458732            0.002500           False  \n",
       "OffersScreenAppear           0.422815            0.003333           False  \n",
       "CartScreenAppear             0.197801            0.005000           False  \n",
       "PaymentScreenSuccessful      0.643593            0.010000           False  "
      ]
     },
     "execution_count": 91,
     "metadata": {},
     "output_type": "execute_result"
    }
   ],
   "source": [
    "test_name = ['MainScreenAppear', 'OffersScreenAppear', 'CartScreenAppear', 'PaymentScreenSuccessful']\n",
    "test_tables = pd.DataFrame(data = test_result, columns = test_name).T\n",
    "test_tables.columns = ['test_246_247', 'test_246_248','test_247_248', 'test_248_493']\n",
    "test_tables\n",
    "# Добавим столбцы со скорректированным критическим уровнем значимости\n",
    "\n",
    "test_tables.insert(1, 'alpha_holm_246_247', alpha_holm[0:4])\n",
    "test_tables.insert(3, 'alpha_holm_246_248', alpha_holm[4:8])\n",
    "test_tables.insert(5, 'alpha_holm_247_248', alpha_holm[8:12])\n",
    "test_tables.insert(7, 'alpha_holm_248_493', alpha_holm[12:16])\n",
    "\n",
    "# Добавим столбцы с результатом проверки гипотез\n",
    "test_tables.insert(2, 'result_246_247', test_tables['test_246_247'] < test_tables['alpha_holm_246_247'])\n",
    "test_tables.insert(5, 'result_246_248', test_tables['test_246_248'] < test_tables['alpha_holm_246_248'])\n",
    "test_tables.insert(8, 'result_247_248', test_tables['test_247_248'] < test_tables['alpha_holm_247_248'])\n",
    "test_tables.insert(11, 'result_248_493', test_tables['test_248_493'] < test_tables['alpha_holm_248_493'])\n",
    "test_tables"
   ]
  },
  {
   "cell_type": "code",
   "execution_count": 92,
   "id": "fdc18bef",
   "metadata": {},
   "outputs": [
    {
     "data": {
      "text/html": [
       "<div>\n",
       "<style scoped>\n",
       "    .dataframe tbody tr th:only-of-type {\n",
       "        vertical-align: middle;\n",
       "    }\n",
       "\n",
       "    .dataframe tbody tr th {\n",
       "        vertical-align: top;\n",
       "    }\n",
       "\n",
       "    .dataframe thead th {\n",
       "        text-align: right;\n",
       "    }\n",
       "</style>\n",
       "<table border=\"1\" class=\"dataframe\">\n",
       "  <thead>\n",
       "    <tr style=\"text-align: right;\">\n",
       "      <th></th>\n",
       "      <th>246_247_test</th>\n",
       "      <th>246_247_test_alpha_h</th>\n",
       "      <th>246_247_test_result</th>\n",
       "      <th>246_248_test</th>\n",
       "      <th>246_248_test_alpha_h</th>\n",
       "      <th>246_248_test_result</th>\n",
       "      <th>247_248_test</th>\n",
       "      <th>247_248_test_alpha_h</th>\n",
       "      <th>247_248_test_result</th>\n",
       "      <th>248_493_test</th>\n",
       "      <th>248_493_test_alpha_h</th>\n",
       "      <th>248_493_test_result</th>\n",
       "    </tr>\n",
       "  </thead>\n",
       "  <tbody>\n",
       "    <tr>\n",
       "      <th>MainScreenAppear</th>\n",
       "      <td>0.670224</td>\n",
       "      <td>0.000625</td>\n",
       "      <td>False</td>\n",
       "      <td>0.395976</td>\n",
       "      <td>0.000833</td>\n",
       "      <td>False</td>\n",
       "      <td>0.671044</td>\n",
       "      <td>0.001250</td>\n",
       "      <td>False</td>\n",
       "      <td>0.458732</td>\n",
       "      <td>0.002500</td>\n",
       "      <td>False</td>\n",
       "    </tr>\n",
       "    <tr>\n",
       "      <th>OffersScreenAppear</th>\n",
       "      <td>0.266738</td>\n",
       "      <td>0.000667</td>\n",
       "      <td>False</td>\n",
       "      <td>0.210346</td>\n",
       "      <td>0.000909</td>\n",
       "      <td>False</td>\n",
       "      <td>0.888220</td>\n",
       "      <td>0.001429</td>\n",
       "      <td>False</td>\n",
       "      <td>0.422815</td>\n",
       "      <td>0.003333</td>\n",
       "      <td>False</td>\n",
       "    </tr>\n",
       "    <tr>\n",
       "      <th>CartScreenAppear</th>\n",
       "      <td>0.218097</td>\n",
       "      <td>0.000714</td>\n",
       "      <td>False</td>\n",
       "      <td>0.083075</td>\n",
       "      <td>0.001000</td>\n",
       "      <td>False</td>\n",
       "      <td>0.616301</td>\n",
       "      <td>0.001667</td>\n",
       "      <td>False</td>\n",
       "      <td>0.197801</td>\n",
       "      <td>0.005000</td>\n",
       "      <td>False</td>\n",
       "    </tr>\n",
       "    <tr>\n",
       "      <th>PaymentScreenSuccessful</th>\n",
       "      <td>0.102850</td>\n",
       "      <td>0.000769</td>\n",
       "      <td>False</td>\n",
       "      <td>0.221886</td>\n",
       "      <td>0.001111</td>\n",
       "      <td>False</td>\n",
       "      <td>0.678872</td>\n",
       "      <td>0.002000</td>\n",
       "      <td>False</td>\n",
       "      <td>0.643593</td>\n",
       "      <td>0.010000</td>\n",
       "      <td>False</td>\n",
       "    </tr>\n",
       "  </tbody>\n",
       "</table>\n",
       "</div>"
      ],
      "text/plain": [
       "                         246_247_test  246_247_test_alpha_h  \\\n",
       "MainScreenAppear             0.670224              0.000625   \n",
       "OffersScreenAppear           0.266738              0.000667   \n",
       "CartScreenAppear             0.218097              0.000714   \n",
       "PaymentScreenSuccessful      0.102850              0.000769   \n",
       "\n",
       "                         246_247_test_result  246_248_test  \\\n",
       "MainScreenAppear                       False      0.395976   \n",
       "OffersScreenAppear                     False      0.210346   \n",
       "CartScreenAppear                       False      0.083075   \n",
       "PaymentScreenSuccessful                False      0.221886   \n",
       "\n",
       "                         246_248_test_alpha_h  246_248_test_result  \\\n",
       "MainScreenAppear                     0.000833                False   \n",
       "OffersScreenAppear                   0.000909                False   \n",
       "CartScreenAppear                     0.001000                False   \n",
       "PaymentScreenSuccessful              0.001111                False   \n",
       "\n",
       "                         247_248_test  247_248_test_alpha_h  \\\n",
       "MainScreenAppear             0.671044              0.001250   \n",
       "OffersScreenAppear           0.888220              0.001429   \n",
       "CartScreenAppear             0.616301              0.001667   \n",
       "PaymentScreenSuccessful      0.678872              0.002000   \n",
       "\n",
       "                         247_248_test_result  248_493_test  \\\n",
       "MainScreenAppear                       False      0.458732   \n",
       "OffersScreenAppear                     False      0.422815   \n",
       "CartScreenAppear                       False      0.197801   \n",
       "PaymentScreenSuccessful                False      0.643593   \n",
       "\n",
       "                         248_493_test_alpha_h  248_493_test_result  \n",
       "MainScreenAppear                     0.002500                False  \n",
       "OffersScreenAppear                   0.003333                False  \n",
       "CartScreenAppear                     0.005000                False  \n",
       "PaymentScreenSuccessful              0.010000                False  "
      ]
     },
     "execution_count": 92,
     "metadata": {},
     "output_type": "execute_result"
    }
   ],
   "source": [
    "# Создадим датафрейм, который содержит наименования этапов, этап воронки, p-value\n",
    "\n",
    "test_name = ['MainScreenAppear', 'OffersScreenAppear', 'CartScreenAppear', 'PaymentScreenSuccessful']\n",
    "test_table = pd.DataFrame(data = test_result, columns = test_name).T\n",
    "test_table.columns = ['246_247_test', '246_248_test','247_248_test', '248_493_test']\n",
    "\n",
    "# Добавим необходимые в цикле столбцы со скорректированным критическим уровнем значимости и с результатом проверки гипотез\n",
    "i = 1\n",
    "n = 0\n",
    "for col in test_table.columns:\n",
    "    test_table.insert(i, f'{col}_alpha_h', alpha_holm[n:n+4])\n",
    "    test_table.insert(i+1, f'{col}_result', test_table[col] < test_table[f'{col}_alpha_h'])\n",
    "    i += 3\n",
    "    n += 4\n",
    "\n",
    "test_table"
   ]
  },
  {
   "cell_type": "markdown",
   "id": "4831ed5c",
   "metadata": {},
   "source": [
    "Набор тестов показал отсутствие статистически значимой разницы в долях пользователей, находящихся на разных этапах воронки - для всех проведенных тестов полученный уровень p-value не позволяет отклонить нулевую гипотезу при принятом критическом уровне статистической значимости с учетом поправки методом Холма.  Для A/A-теста (сравнения двух контрольных групп 246 и 247) это означает отсутствие разницы между выборками, группы разбиты корректно. Для тестов, в ходе которых тестируемая группа поочередно сравнивалась с каждой из контрольных (A/B тест), где статистически значимая разница между группами также не была обнаружена, это означает отсутствие эффекта от проводимых мероприятий, в данном случае - от изменения шрифтов во всем приложении. "
   ]
  },
  {
   "cell_type": "markdown",
   "id": "fbc2d74f",
   "metadata": {},
   "source": [
    "## Выводы"
   ]
  },
  {
   "cell_type": "markdown",
   "id": "a8fcab8b",
   "metadata": {},
   "source": [
    "В ходе анализа данных лога мобильного приложения по продаже продуктов питания было обнаружено, что более 50 % пользователей не доходят до этапа отлаты заказа, а наиболее существенные потери пользователей (чуть менее 40%) происходят на этапе перехода с гланого экрана на страницу с предложениями, что может говорить о проблемах, которые возникают у пользователя в ходе взаимодействия с главной страницей.\n",
    "\n",
    "Анализ результатов эксперимента по изменению шрифтов во всем приложении, в ходе которого были проведены тесты на двух контрольных и одной экспериментальной группе показал отсутствие статистичеки значимого влияния этого изменения на воронку событий - статистически значимая разница в долях пользователей на каждом этапе воронки от общего числа пользователей группы для контрольных (до изменения) и экспериментальной (после изменения) групп отсутствует."
   ]
  }
 ],
 "metadata": {
  "ExecuteTimeLog": [
   {
    "duration": 1479,
    "start_time": "2024-06-14T03:11:54.231Z"
   },
   {
    "duration": 508,
    "start_time": "2024-06-14T03:11:55.713Z"
   },
   {
    "duration": 26,
    "start_time": "2024-06-14T03:11:56.222Z"
   },
   {
    "duration": 10,
    "start_time": "2024-06-14T03:11:56.255Z"
   },
   {
    "duration": 69,
    "start_time": "2024-06-14T03:11:56.267Z"
   },
   {
    "duration": 128,
    "start_time": "2024-06-14T03:11:56.337Z"
   },
   {
    "duration": 17,
    "start_time": "2024-06-14T03:11:56.466Z"
   },
   {
    "duration": 116,
    "start_time": "2024-06-14T03:11:56.485Z"
   },
   {
    "duration": 4,
    "start_time": "2024-06-14T03:11:56.602Z"
   },
   {
    "duration": 10,
    "start_time": "2024-06-14T03:11:56.609Z"
   },
   {
    "duration": 11,
    "start_time": "2024-06-14T03:11:56.621Z"
   },
   {
    "duration": 53,
    "start_time": "2024-06-14T03:11:56.635Z"
   },
   {
    "duration": 505,
    "start_time": "2024-06-14T03:11:56.690Z"
   },
   {
    "duration": 16,
    "start_time": "2024-06-14T03:11:57.197Z"
   },
   {
    "duration": 22,
    "start_time": "2024-06-14T03:11:57.215Z"
   },
   {
    "duration": 45,
    "start_time": "2024-06-14T03:11:57.256Z"
   },
   {
    "duration": 97,
    "start_time": "2024-06-14T03:11:57.303Z"
   },
   {
    "duration": 21,
    "start_time": "2024-06-14T03:11:57.402Z"
   },
   {
    "duration": 85,
    "start_time": "2024-06-14T03:11:57.425Z"
   },
   {
    "duration": 535,
    "start_time": "2024-06-14T03:11:57.512Z"
   },
   {
    "duration": 4,
    "start_time": "2024-06-14T03:11:58.049Z"
   },
   {
    "duration": 110,
    "start_time": "2024-06-14T03:11:58.055Z"
   },
   {
    "duration": 9,
    "start_time": "2024-06-14T03:11:58.166Z"
   },
   {
    "duration": 135,
    "start_time": "2024-06-14T03:11:58.176Z"
   },
   {
    "duration": 5,
    "start_time": "2024-06-14T03:11:58.313Z"
   },
   {
    "duration": 22,
    "start_time": "2024-06-14T03:11:58.319Z"
   },
   {
    "duration": 29,
    "start_time": "2024-06-14T03:11:58.342Z"
   },
   {
    "duration": 20,
    "start_time": "2024-06-14T03:11:58.374Z"
   },
   {
    "duration": 23,
    "start_time": "2024-06-14T03:34:26.088Z"
   },
   {
    "duration": 1577,
    "start_time": "2024-06-15T14:57:57.921Z"
   },
   {
    "duration": 507,
    "start_time": "2024-06-15T14:57:59.500Z"
   },
   {
    "duration": 25,
    "start_time": "2024-06-15T14:58:00.008Z"
   },
   {
    "duration": 26,
    "start_time": "2024-06-15T14:58:00.035Z"
   },
   {
    "duration": 120,
    "start_time": "2024-06-15T14:58:00.063Z"
   },
   {
    "duration": 26,
    "start_time": "2024-06-15T14:58:00.185Z"
   },
   {
    "duration": 130,
    "start_time": "2024-06-15T14:58:00.213Z"
   },
   {
    "duration": 19,
    "start_time": "2024-06-15T14:58:00.345Z"
   },
   {
    "duration": 143,
    "start_time": "2024-06-15T14:58:00.366Z"
   },
   {
    "duration": 4,
    "start_time": "2024-06-15T14:58:00.512Z"
   },
   {
    "duration": 44,
    "start_time": "2024-06-15T14:58:00.517Z"
   },
   {
    "duration": 48,
    "start_time": "2024-06-15T14:58:00.563Z"
   },
   {
    "duration": 56,
    "start_time": "2024-06-15T14:58:00.613Z"
   },
   {
    "duration": 197,
    "start_time": "2024-06-15T14:58:00.671Z"
   },
   {
    "duration": 8,
    "start_time": "2024-06-15T14:58:00.870Z"
   },
   {
    "duration": 91,
    "start_time": "2024-06-15T14:58:00.880Z"
   },
   {
    "duration": 45,
    "start_time": "2024-06-15T14:58:00.973Z"
   },
   {
    "duration": 537,
    "start_time": "2024-06-15T14:58:01.021Z"
   },
   {
    "duration": 25,
    "start_time": "2024-06-15T14:58:01.561Z"
   },
   {
    "duration": 4518,
    "start_time": "2024-06-15T14:58:01.588Z"
   },
   {
    "duration": 30,
    "start_time": "2024-06-15T14:58:06.109Z"
   },
   {
    "duration": 38,
    "start_time": "2024-06-15T14:58:06.141Z"
   },
   {
    "duration": 37,
    "start_time": "2024-06-15T14:58:06.181Z"
   },
   {
    "duration": 99,
    "start_time": "2024-06-15T14:58:06.220Z"
   },
   {
    "duration": 37,
    "start_time": "2024-06-15T14:58:06.321Z"
   },
   {
    "duration": 97,
    "start_time": "2024-06-15T14:58:06.361Z"
   },
   {
    "duration": 759,
    "start_time": "2024-06-15T14:58:06.465Z"
   },
   {
    "duration": 4,
    "start_time": "2024-06-15T14:58:07.227Z"
   },
   {
    "duration": 142,
    "start_time": "2024-06-15T14:58:07.233Z"
   },
   {
    "duration": 9,
    "start_time": "2024-06-15T14:58:07.377Z"
   },
   {
    "duration": 139,
    "start_time": "2024-06-15T14:58:07.387Z"
   },
   {
    "duration": 5,
    "start_time": "2024-06-15T14:58:07.528Z"
   },
   {
    "duration": 21,
    "start_time": "2024-06-15T14:58:07.535Z"
   },
   {
    "duration": 57,
    "start_time": "2024-06-15T14:58:07.559Z"
   },
   {
    "duration": 33,
    "start_time": "2024-06-15T14:58:07.618Z"
   },
   {
    "duration": 32,
    "start_time": "2024-06-15T14:58:07.652Z"
   },
   {
    "duration": 1268,
    "start_time": "2024-06-15T15:52:16.533Z"
   },
   {
    "duration": 482,
    "start_time": "2024-06-15T15:52:17.803Z"
   },
   {
    "duration": 26,
    "start_time": "2024-06-15T15:52:18.287Z"
   },
   {
    "duration": 9,
    "start_time": "2024-06-15T15:52:18.315Z"
   },
   {
    "duration": 79,
    "start_time": "2024-06-15T15:52:18.326Z"
   },
   {
    "duration": 22,
    "start_time": "2024-06-15T15:52:18.406Z"
   },
   {
    "duration": 124,
    "start_time": "2024-06-15T15:52:18.429Z"
   },
   {
    "duration": 19,
    "start_time": "2024-06-15T15:52:18.554Z"
   },
   {
    "duration": 120,
    "start_time": "2024-06-15T15:52:18.575Z"
   },
   {
    "duration": 5,
    "start_time": "2024-06-15T15:52:18.698Z"
   },
   {
    "duration": 26,
    "start_time": "2024-06-15T15:52:18.704Z"
   },
   {
    "duration": 9,
    "start_time": "2024-06-15T15:52:18.731Z"
   },
   {
    "duration": 62,
    "start_time": "2024-06-15T15:52:18.741Z"
   },
   {
    "duration": 208,
    "start_time": "2024-06-15T15:52:18.805Z"
   },
   {
    "duration": 9,
    "start_time": "2024-06-15T15:52:19.015Z"
   },
   {
    "duration": 29,
    "start_time": "2024-06-15T15:52:19.026Z"
   },
   {
    "duration": 62,
    "start_time": "2024-06-15T15:52:19.057Z"
   },
   {
    "duration": 498,
    "start_time": "2024-06-15T15:52:19.121Z"
   },
   {
    "duration": 18,
    "start_time": "2024-06-15T15:52:19.622Z"
   },
   {
    "duration": 4404,
    "start_time": "2024-06-15T15:52:19.642Z"
   },
   {
    "duration": 24,
    "start_time": "2024-06-15T15:52:24.048Z"
   },
   {
    "duration": 28,
    "start_time": "2024-06-15T15:52:24.074Z"
   },
   {
    "duration": 29,
    "start_time": "2024-06-15T15:52:24.104Z"
   },
   {
    "duration": 84,
    "start_time": "2024-06-15T15:52:24.134Z"
   },
   {
    "duration": 26,
    "start_time": "2024-06-15T15:52:24.220Z"
   },
   {
    "duration": 91,
    "start_time": "2024-06-15T15:52:24.248Z"
   },
   {
    "duration": 717,
    "start_time": "2024-06-15T15:52:24.340Z"
   },
   {
    "duration": 6,
    "start_time": "2024-06-15T15:52:25.061Z"
   },
   {
    "duration": 143,
    "start_time": "2024-06-15T15:52:25.069Z"
   },
   {
    "duration": 10,
    "start_time": "2024-06-15T15:52:25.213Z"
   },
   {
    "duration": 116,
    "start_time": "2024-06-15T15:52:25.225Z"
   },
   {
    "duration": 5,
    "start_time": "2024-06-15T15:52:25.343Z"
   },
   {
    "duration": 35,
    "start_time": "2024-06-15T15:52:25.349Z"
   },
   {
    "duration": 46,
    "start_time": "2024-06-15T15:52:25.385Z"
   },
   {
    "duration": 124,
    "start_time": "2024-06-15T15:52:25.432Z"
   },
   {
    "duration": 37,
    "start_time": "2024-06-15T15:52:25.558Z"
   }
  ],
  "kernelspec": {
   "display_name": "Python 3 (ipykernel)",
   "language": "python",
   "name": "python3"
  },
  "language_info": {
   "codemirror_mode": {
    "name": "ipython",
    "version": 3
   },
   "file_extension": ".py",
   "mimetype": "text/x-python",
   "name": "python",
   "nbconvert_exporter": "python",
   "pygments_lexer": "ipython3",
   "version": "3.9.18"
  },
  "toc": {
   "base_numbering": 1,
   "nav_menu": {},
   "number_sections": true,
   "sideBar": true,
   "skip_h1_title": true,
   "title_cell": "Table of Contents",
   "title_sidebar": "Contents",
   "toc_cell": false,
   "toc_position": {},
   "toc_section_display": true,
   "toc_window_display": false
  }
 },
 "nbformat": 4,
 "nbformat_minor": 5
}
